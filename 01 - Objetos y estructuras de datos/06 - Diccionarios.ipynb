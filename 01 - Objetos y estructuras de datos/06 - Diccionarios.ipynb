{
 "cells": [
  {
   "cell_type": "markdown",
   "id": "1f22cdbc",
   "metadata": {},
   "source": [
    "# Diccionarios\n",
    "\n",
    "Ya hemos aprendido sobre secuencias en Python pero es momento de estudiar otra estructura de datos llamadas Mapeos. Si has programado con algún otro lenguaje quizá te parezcan similares a las tablas hash. \n",
    "\n",
    "Un mapeo es una colección de objetos que se almacenan por una clave única, contrario a una secuencia que almacena objetos por su posición relativa, así pues, los mapeos son colecciones no ordenadas.\n",
    "\n",
    "A groso modo, un diccionario es una especie de lista que asocia una clave única a un valor, de este modo podemos almacenar en un sistema de claves diversos valores. \n",
    "\n",
    "A continuación revisaremos los siguientes temas:\n",
    "\n",
    "1. Contrucción de diccionarios\n",
    "2. Acceso a objetos en un diccionario.\n",
    "3. Diccionarios anidados\n",
    "4. Métodos básicos de un diccionario.\n",
    "\n",
    "## Construcción de un diccionario\n",
    "\n",
    "Un diccionario de Python consiste en una clave asociada a un valor, este último siendo casi cualquier tipo de objeto de Python. La clave es un string.\n",
    "\n",
    "Así la manera de construir uno corresponde a la siguiente forma:\n",
    "\n",
    "`mi_diccionario = {'key1':objetc1,'key2':object2,'key3':object3}`\n",
    "\n"
   ]
  },
  {
   "cell_type": "code",
   "execution_count": 3,
   "id": "c5d8cc55",
   "metadata": {},
   "outputs": [],
   "source": [
    "#Definir diccionario\n",
    "dicc = {'key1':1,'key2':'string','key3':[1,2,3]}"
   ]
  },
  {
   "cell_type": "markdown",
   "id": "01f46389",
   "metadata": {},
   "source": [
    "### Acceso a objetos de un diccionario\n",
    "\n",
    "Una vez definido el diccionario, acceder a algún objeto que esté contenido dentro de él es relativamente sencillo, basta llamar al diccionario y pasarle entre corchetes la clave que definimos."
   ]
  },
  {
   "cell_type": "code",
   "execution_count": 5,
   "id": "73cc85fa",
   "metadata": {},
   "outputs": [
    {
     "data": {
      "text/plain": [
       "[1, 2, 3]"
      ]
     },
     "execution_count": 5,
     "metadata": {},
     "output_type": "execute_result"
    }
   ],
   "source": [
    "#Llamando un objeto dentro\n",
    "dicc['key3']"
   ]
  },
  {
   "cell_type": "markdown",
   "id": "7d09d557",
   "metadata": {},
   "source": [
    "Al igual que las listas, los diccionarios son muy flexibles respecto al tipo de objeto que pueden contener."
   ]
  },
  {
   "cell_type": "code",
   "execution_count": 6,
   "id": "e7d88c71",
   "metadata": {},
   "outputs": [],
   "source": [
    "dicc = {'key1':1,'key2':'string','key3':[1,2,3]}"
   ]
  },
  {
   "cell_type": "code",
   "execution_count": null,
   "id": "77c83f63",
   "metadata": {},
   "outputs": [],
   "source": []
  },
  {
   "cell_type": "markdown",
   "id": "aef99d31",
   "metadata": {},
   "source": [
    "Así podemos mezclar nomenclaturas siguiendo el mismo patrón de anidamiento usado para listas, por ejemplo:"
   ]
  },
  {
   "cell_type": "code",
   "execution_count": 8,
   "id": "abadc379",
   "metadata": {},
   "outputs": [
    {
     "data": {
      "text/plain": [
       "2"
      ]
     },
     "execution_count": 8,
     "metadata": {},
     "output_type": "execute_result"
    }
   ],
   "source": [
    "dicc['key3'][1]"
   ]
  },
  {
   "cell_type": "markdown",
   "id": "fe29bbba",
   "metadata": {},
   "source": [
    "Incluso podemos llamar métodos para el valor recuperado del diccionario"
   ]
  },
  {
   "cell_type": "code",
   "execution_count": 9,
   "id": "54c75df7",
   "metadata": {},
   "outputs": [
    {
     "data": {
      "text/plain": [
       "'STRING'"
      ]
     },
     "execution_count": 9,
     "metadata": {},
     "output_type": "execute_result"
    }
   ],
   "source": [
    "dicc['key2'].upper()"
   ]
  },
  {
   "cell_type": "markdown",
   "id": "3e5d988e",
   "metadata": {},
   "source": [
    "Los diccionarios son además mutables, entonces podemos modificar valores de las claves"
   ]
  },
  {
   "cell_type": "code",
   "execution_count": 10,
   "id": "86e2d1ce",
   "metadata": {},
   "outputs": [],
   "source": [
    "dicc['key2'] = 'cadena'"
   ]
  },
  {
   "cell_type": "code",
   "execution_count": 11,
   "id": "29e61957",
   "metadata": {},
   "outputs": [
    {
     "data": {
      "text/plain": [
       "{'key1': 1, 'key2': 'cadena', 'key3': [1, 2, 3]}"
      ]
     },
     "execution_count": 11,
     "metadata": {},
     "output_type": "execute_result"
    }
   ],
   "source": [
    "dicc"
   ]
  },
  {
   "cell_type": "markdown",
   "id": "8cb521dc",
   "metadata": {},
   "source": [
    "Por ser mutables, podemos crear claves y asignarles un valor. Por ejemplo iniciando de un diccionario en blanco, podemos llenarlo del siguiente modo:"
   ]
  },
  {
   "cell_type": "code",
   "execution_count": 12,
   "id": "c3154b1c",
   "metadata": {},
   "outputs": [],
   "source": [
    "#Diccionario vacío\n",
    "dicc['key4'] = 5"
   ]
  },
  {
   "cell_type": "code",
   "execution_count": 13,
   "id": "68796bf7",
   "metadata": {},
   "outputs": [
    {
     "data": {
      "text/plain": [
       "{'key1': 1, 'key2': 'cadena', 'key3': [1, 2, 3], 'key4': 5}"
      ]
     },
     "execution_count": 13,
     "metadata": {},
     "output_type": "execute_result"
    }
   ],
   "source": [
    "#Creando una nueva llave y le damos un valor\n",
    "dicc"
   ]
  },
  {
   "cell_type": "code",
   "execution_count": 14,
   "id": "562c1c83",
   "metadata": {},
   "outputs": [],
   "source": [
    "#Otra más\n",
    "dicc['key5'] = 'perrito'"
   ]
  },
  {
   "cell_type": "code",
   "execution_count": 15,
   "id": "49ffa2d8",
   "metadata": {},
   "outputs": [
    {
     "data": {
      "text/plain": [
       "{'key1': 1, 'key2': 'cadena', 'key3': [1, 2, 3], 'key4': 5, 'key5': 'perrito'}"
      ]
     },
     "execution_count": 15,
     "metadata": {},
     "output_type": "execute_result"
    }
   ],
   "source": [
    "#El diccionario ya no está vacío\n",
    "dicc"
   ]
  },
  {
   "cell_type": "markdown",
   "id": "04e10186",
   "metadata": {},
   "source": [
    "### Diccionarios anidados\n",
    "\n",
    "La potencia de Python y su flexibilidad permiten incluso tener diccionarios dentro de otros diccionarios y llamarlos de una manera sencilla"
   ]
  },
  {
   "cell_type": "code",
   "execution_count": 17,
   "id": "5c386054",
   "metadata": {},
   "outputs": [],
   "source": [
    "##Diccionario anidado\n",
    "d={'key1':{'nestedkey':{'subnestedkey':'OMG IS EL PROPE'}}}"
   ]
  },
  {
   "cell_type": "code",
   "execution_count": 18,
   "id": "12043f40",
   "metadata": {},
   "outputs": [
    {
     "data": {
      "text/plain": [
       "'OMG IS EL PROPE'"
      ]
     },
     "execution_count": 18,
     "metadata": {},
     "output_type": "execute_result"
    }
   ],
   "source": [
    "d['key1']['nestedkey']['subnestedkey']"
   ]
  },
  {
   "cell_type": "markdown",
   "id": "4f680bba",
   "metadata": {},
   "source": [
    "### Métodos básicos de un diccionario\n",
    "\n",
    "Hay algúnos metodos propios de los diccionarios que a continuación veremos. "
   ]
  },
  {
   "cell_type": "code",
   "execution_count": 20,
   "id": "d6e253a2",
   "metadata": {},
   "outputs": [],
   "source": [
    "#Creamos un diccionario\n",
    "d={'key1':1,'key2':2,'key3':3}"
   ]
  },
  {
   "cell_type": "code",
   "execution_count": 21,
   "id": "55151c53",
   "metadata": {},
   "outputs": [
    {
     "data": {
      "text/plain": [
       "dict_keys(['key1', 'key2', 'key3'])"
      ]
     },
     "execution_count": 21,
     "metadata": {},
     "output_type": "execute_result"
    }
   ],
   "source": [
    "#El método keys() retorna una lista de todas las llaves\n",
    "d.keys()"
   ]
  },
  {
   "cell_type": "code",
   "execution_count": 22,
   "id": "775211ad",
   "metadata": {},
   "outputs": [
    {
     "data": {
      "text/plain": [
       "dict_values([1, 2, 3])"
      ]
     },
     "execution_count": 22,
     "metadata": {},
     "output_type": "execute_result"
    }
   ],
   "source": [
    "#El método values() retorna una lista de todos los valores\n",
    "d.values()"
   ]
  },
  {
   "cell_type": "code",
   "execution_count": 23,
   "id": "9a24e3ed",
   "metadata": {},
   "outputs": [
    {
     "data": {
      "text/plain": [
       "dict_items([('key1', 1), ('key2', 2), ('key3', 3)])"
      ]
     },
     "execution_count": 23,
     "metadata": {},
     "output_type": "execute_result"
    }
   ],
   "source": [
    "# El método items() retorna una lista de tuplas de todos los items\n",
    "d.items()"
   ]
  },
  {
   "cell_type": "markdown",
   "id": "d280a8a8",
   "metadata": {},
   "source": [
    "¡Felicidades por terminar esta lección sobre diccionarios!"
   ]
  }
 ],
 "metadata": {
  "kernelspec": {
   "display_name": "Python 3 (ipykernel)",
   "language": "python",
   "name": "python3"
  },
  "language_info": {
   "codemirror_mode": {
    "name": "ipython",
    "version": 3
   },
   "file_extension": ".py",
   "mimetype": "text/x-python",
   "name": "python",
   "nbconvert_exporter": "python",
   "pygments_lexer": "ipython3",
   "version": "3.9.7"
  }
 },
 "nbformat": 4,
 "nbformat_minor": 5
}
