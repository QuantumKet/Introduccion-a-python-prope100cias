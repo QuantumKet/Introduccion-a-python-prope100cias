{
 "cells": [
  {
   "cell_type": "markdown",
   "id": "d4115804",
   "metadata": {},
   "source": [
    "# Objetos y estructuras de datos (Test)\n",
    "\n",
    "### ¡Hora de desafiar tu conocimiento!\n",
    "\n",
    "###### Responde las siguientes preguntas\n",
    "\n",
    "Escribe o si gustas solo dilo para ti una breve descripción de los siguientes conceptos que estuvimos revisando a lo largo de este primer módulo.\n",
    "\n",
    "Números:\n",
    "\n",
    "Strings:\n",
    "\n",
    "Listas:\n",
    "\n",
    "Tuplas:\n",
    "\n",
    "Diccionarios:\n",
    "\n",
    "Booleano:\n",
    "\n",
    "Conjunto:\n",
    "\n",
    "### Números\n",
    "\n",
    "Escribe usando aritmética, una operación que mediante la aplicación de potencias, división, suma, resta y multiplicación sea igual a 100.25"
   ]
  },
  {
   "cell_type": "code",
   "execution_count": null,
   "id": "ef97fb02",
   "metadata": {},
   "outputs": [],
   "source": []
  },
  {
   "cell_type": "markdown",
   "id": "5840cbb6",
   "metadata": {},
   "source": [
    "En papel o mentalmente resuelve las siguientes operaciones, luego verifica tus respuestas con código\n",
    "\n",
    "4 * 6 + 5\n",
    "\n",
    "4 + 6 * 5\n",
    "\n",
    "4 * (6 + 5)"
   ]
  },
  {
   "cell_type": "code",
   "execution_count": null,
   "id": "b9d81620",
   "metadata": {},
   "outputs": [],
   "source": []
  },
  {
   "cell_type": "markdown",
   "id": "6af0caa6",
   "metadata": {},
   "source": [
    "¿Qué tipo de objeto (dato) resulta de realizar 3 + 4.5 // 2? \n",
    "\n",
    "¿Y de hacer 3 - 1.5 + 1.5 ?\n",
    "\n",
    "¿Cómo obtienes la raíz cuadrada de un número así cómo el cuadrado del mismo?"
   ]
  },
  {
   "cell_type": "code",
   "execution_count": null,
   "id": "78064180",
   "metadata": {},
   "outputs": [],
   "source": [
    "## Raíz cuadrada"
   ]
  },
  {
   "cell_type": "code",
   "execution_count": null,
   "id": "6281551a",
   "metadata": {},
   "outputs": [],
   "source": [
    "#  Cuadrado"
   ]
  },
  {
   "cell_type": "markdown",
   "id": "c4818533",
   "metadata": {},
   "source": [
    "### Strings \n",
    "\n",
    "Dada la cadena \"Prope100cias\" usa indexación para obtener la letra 'c', ingresa tú codigo abajo"
   ]
  },
  {
   "cell_type": "code",
   "execution_count": null,
   "id": "ebb18691",
   "metadata": {},
   "outputs": [],
   "source": [
    "s = 'Prope100cias'\n",
    "#Imprime la letra 'c' usando indexación\n"
   ]
  },
  {
   "cell_type": "markdown",
   "id": "cae3b3f8",
   "metadata": {},
   "source": [
    "Revierte el sentido de la cadena usando slicing"
   ]
  },
  {
   "cell_type": "code",
   "execution_count": null,
   "id": "a22d672a",
   "metadata": {},
   "outputs": [],
   "source": [
    "s = 'Propec100cias'\n",
    "#Ingresa tu código aquí \n"
   ]
  },
  {
   "cell_type": "markdown",
   "id": "8007beb1",
   "metadata": {},
   "source": [
    "Usa dos métodos diferentes para obtener la letra 's' aplicando indexación"
   ]
  },
  {
   "cell_type": "code",
   "execution_count": null,
   "id": "28b6eb11",
   "metadata": {},
   "outputs": [],
   "source": [
    "s = 'Prope100cias'\n",
    "\n",
    "#Método 1\n"
   ]
  },
  {
   "cell_type": "code",
   "execution_count": null,
   "id": "379febb8",
   "metadata": {},
   "outputs": [],
   "source": [
    "# Método 2"
   ]
  },
  {
   "cell_type": "code",
   "execution_count": null,
   "id": "f6f177a2",
   "metadata": {},
   "outputs": [],
   "source": [
    "## Desafio extra ¿cómo lo harías usando slicing?\n"
   ]
  },
  {
   "cell_type": "markdown",
   "id": "98576131",
   "metadata": {},
   "source": [
    "### Listas\n",
    "\n",
    "Construye la lista [0,0,0] de dos maneras distintas"
   ]
  },
  {
   "cell_type": "code",
   "execution_count": null,
   "id": "ffd3bda4",
   "metadata": {},
   "outputs": [],
   "source": [
    "# Metodo 1\n"
   ]
  },
  {
   "cell_type": "code",
   "execution_count": null,
   "id": "27eed441",
   "metadata": {},
   "outputs": [],
   "source": [
    "# Metodo 2"
   ]
  },
  {
   "cell_type": "markdown",
   "id": "329e9643",
   "metadata": {},
   "source": [
    "Reemplaza la palabra 'Prope' por 'Python' en la siguiente lista anidada"
   ]
  },
  {
   "cell_type": "code",
   "execution_count": null,
   "id": "290e5f34",
   "metadata": {},
   "outputs": [],
   "source": [
    "nested_list = [1,2,[3],[4,5,'Prope']]"
   ]
  },
  {
   "cell_type": "code",
   "execution_count": null,
   "id": "913b4a81",
   "metadata": {},
   "outputs": [],
   "source": []
  },
  {
   "cell_type": "code",
   "execution_count": null,
   "id": "96674a3a",
   "metadata": {},
   "outputs": [],
   "source": []
  },
  {
   "cell_type": "raw",
   "id": "e5326c37",
   "metadata": {},
   "source": [
    "Ordena la siguiente lista de dos maneras diferentes."
   ]
  },
  {
   "cell_type": "code",
   "execution_count": null,
   "id": "f3914a82",
   "metadata": {},
   "outputs": [],
   "source": [
    "lista_orden = [8,2,4,1,7,100]"
   ]
  },
  {
   "cell_type": "code",
   "execution_count": null,
   "id": "ab13500e",
   "metadata": {},
   "outputs": [],
   "source": [
    "# Método 1"
   ]
  },
  {
   "cell_type": "code",
   "execution_count": null,
   "id": "0049e48e",
   "metadata": {},
   "outputs": [],
   "source": [
    "#Método 2"
   ]
  },
  {
   "cell_type": "markdown",
   "id": "e039ac17",
   "metadata": {},
   "source": [
    "### Diccionarios \n",
    "\n",
    "Responde:\n",
    "\n",
    "1. ¿Puedes ordenar un diccionario? ¿por qué?\n",
    "\n",
    "Obtén 'Quiubole' de los diccionarios usando su clave"
   ]
  },
  {
   "cell_type": "code",
   "execution_count": null,
   "id": "f55255f0",
   "metadata": {},
   "outputs": [],
   "source": [
    "d = {\"simple_key\" : 'q onda', 'key1':'Quiubole'}\n",
    "#Obten la palabra\n"
   ]
  },
  {
   "cell_type": "code",
   "execution_count": null,
   "id": "8abf31d3",
   "metadata": {},
   "outputs": [],
   "source": [
    "d = {\"simple_key\" : {'k2':'Quiubole'}}\n",
    "#Obten la palabra\n"
   ]
  },
  {
   "cell_type": "code",
   "execution_count": null,
   "id": "709a4b56",
   "metadata": {},
   "outputs": [],
   "source": [
    "d = {'k1':[{'nest_key':['muy anidado',['Quiubole']]}]}\n",
    "#Obten la palabra \n"
   ]
  },
  {
   "cell_type": "code",
   "execution_count": null,
   "id": "28e55380",
   "metadata": {},
   "outputs": [],
   "source": [
    "#Esto es complejo pero tú puedes!\n",
    "d = {'k1':[1,2,{'k2':['un poco complejo',{'casi':[1,2,['Quiubole']]}]}]}\n",
    "#Obtén la palabra\n"
   ]
  },
  {
   "cell_type": "markdown",
   "id": "aa34750a",
   "metadata": {},
   "source": [
    "### Tuplas\n",
    "\n",
    "¿Cuál es la mayor diferencia entre una tupla y una lista? \n",
    "\n",
    "\n",
    "¿Cómo se crea una tupla?"
   ]
  },
  {
   "cell_type": "code",
   "execution_count": null,
   "id": "54c8c595",
   "metadata": {},
   "outputs": [],
   "source": []
  },
  {
   "cell_type": "markdown",
   "id": "77057231",
   "metadata": {},
   "source": [
    "### Conjuntos\n",
    "\n",
    "¿Qué tienen de especial los conjuntos?\n",
    "\n",
    "Obtén el conjunto asociado a la siguiente lista"
   ]
  },
  {
   "cell_type": "code",
   "execution_count": null,
   "id": "9925f7e3",
   "metadata": {},
   "outputs": [],
   "source": [
    "lista_conjunto = [1,1,1,2,3,2,6,7,5,6,4,4,0,9,8,7,1,2,3,11]"
   ]
  },
  {
   "cell_type": "code",
   "execution_count": null,
   "id": "2dc5e7cd",
   "metadata": {},
   "outputs": [],
   "source": []
  },
  {
   "cell_type": "markdown",
   "id": "468a6a81",
   "metadata": {},
   "source": [
    "### Booleanos\n",
    "\n",
    "¿Cuál será el resultado de la siguiente comparación?\n",
    "\n",
    "¡Responde antes de ejecutar la celda!"
   ]
  },
  {
   "cell_type": "code",
   "execution_count": null,
   "id": "291c1a50",
   "metadata": {},
   "outputs": [],
   "source": [
    "lista1 = [1,2,[3,4]]\n",
    "lista2 = [2,4,{'k1':3,'k2':1}]\n",
    "\n",
    "lista1[2][0] > lista2[2]['k1']"
   ]
  },
  {
   "cell_type": "code",
   "execution_count": null,
   "id": "f2a7c7ce",
   "metadata": {},
   "outputs": [],
   "source": [
    "len(lista1) < len(lista2)"
   ]
  }
 ],
 "metadata": {
  "kernelspec": {
   "display_name": "Python 3 (ipykernel)",
   "language": "python",
   "name": "python3"
  },
  "language_info": {
   "codemirror_mode": {
    "name": "ipython",
    "version": 3
   },
   "file_extension": ".py",
   "mimetype": "text/x-python",
   "name": "python",
   "nbconvert_exporter": "python",
   "pygments_lexer": "ipython3",
   "version": "3.9.7"
  }
 },
 "nbformat": 4,
 "nbformat_minor": 5
}
