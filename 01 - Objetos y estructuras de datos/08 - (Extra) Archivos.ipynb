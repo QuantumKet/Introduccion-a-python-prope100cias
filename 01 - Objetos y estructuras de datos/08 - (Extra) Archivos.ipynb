{
 "cells": [
  {
   "cell_type": "markdown",
   "id": "c9c16a7f",
   "metadata": {},
   "source": [
    "# Archivos\n",
    "\n",
    "Python nos permite interactuar con archivos externos en nuestra computadora. Este tipo de archivos puede ser de cuaquier tipo como un .txt, .mp3, un vídeo, un email, una base de datos, un .xls, etc. Es probable que para cierto tipo de archivos tengamos que instalar alguna librería pero esto se puede hacer de manera sencilla generalmente. \n",
    "\n",
    "Por ahora nos centraremos en las funciones propias de python que nos permiten abrir e interactuar con archivos básicos. \n",
    "\n",
    "Primero necesitamos un archivo, lo podemos crear en el directorio donde estemos trabajando pero por fines prácticos yo lo haré usando IPython.\n",
    "\n",
    "### Creando un archivo con IPython\n",
    "No te preocupes si no entiendes al cien porciento este paso, lo abordaremos más tarde, por ahora lo único que estoy haciendo es usar un decorador para crear un archivo llamado test.txt y escribiendo cierta información dentro de él\n",
    "\n",
    "ADVERTENCIA: ESTA FUNCIÓN ES ESPECIAL PARA JUPYTER NOTEBOOKS, SI USAS UN IDE APARTE CREA EL ARCHIVO CON EL EDITOR DE TEXTO DE TU PREFERENCIA.\n"
   ]
  },
  {
   "cell_type": "code",
   "execution_count": 1,
   "id": "6e3fb0ba",
   "metadata": {},
   "outputs": [
    {
     "name": "stdout",
     "output_type": "stream",
     "text": [
      "Writing test.txt\n"
     ]
    }
   ],
   "source": [
    "%%writefile test.txt\n",
    "Hola, esto es mi archivo de prueba"
   ]
  },
  {
   "cell_type": "markdown",
   "id": "6e8e29b3",
   "metadata": {},
   "source": [
    "### Abriendo un archivo en Python\n",
    "\n",
    "Comencemos abriendo el archivo que acabamos de crear, este archivo esta en el mismo directorio que este notebook, por ahora estaremos trabajando así. \n",
    "\n",
    "Abrir un archivo es muy fácil, pero es igual de fácil cometer errores en la práctica real. Por ejemplo si queremos abrir un archivo llamado \"SecretosDeEstado.txt\" que no está en el directorio donde estemos corriendo nuestro código"
   ]
  },
  {
   "cell_type": "code",
   "execution_count": 2,
   "id": "65a37d02",
   "metadata": {},
   "outputs": [
    {
     "ename": "FileNotFoundError",
     "evalue": "[Errno 2] No such file or directory: 'SecretosDeEstado.txt'",
     "output_type": "error",
     "traceback": [
      "\u001b[1;31m---------------------------------------------------------------------------\u001b[0m",
      "\u001b[1;31mFileNotFoundError\u001b[0m                         Traceback (most recent call last)",
      "\u001b[1;32m~\\AppData\\Local\\Temp/ipykernel_15472/401523908.py\u001b[0m in \u001b[0;36m<module>\u001b[1;34m\u001b[0m\n\u001b[1;32m----> 1\u001b[1;33m \u001b[0mmyfile\u001b[0m \u001b[1;33m=\u001b[0m \u001b[0mopen\u001b[0m\u001b[1;33m(\u001b[0m\u001b[1;34m\"SecretosDeEstado.txt\"\u001b[0m\u001b[1;33m)\u001b[0m\u001b[1;33m\u001b[0m\u001b[1;33m\u001b[0m\u001b[0m\n\u001b[0m",
      "\u001b[1;31mFileNotFoundError\u001b[0m: [Errno 2] No such file or directory: 'SecretosDeEstado.txt'"
     ]
    }
   ],
   "source": [
    "myfile = open(\"SecretosDeEstado.txt\")"
   ]
  },
  {
   "cell_type": "markdown",
   "id": "dd24e277",
   "metadata": {},
   "source": [
    "Para evitar este error hay que asegurarnos de que el archivo esté en el mismo directorio que nuestro notebook o script de Python, para esto podemos usar el comando $\\textbf{pwd}$"
   ]
  },
  {
   "cell_type": "code",
   "execution_count": 3,
   "id": "1b5cb144",
   "metadata": {},
   "outputs": [
    {
     "data": {
      "text/plain": [
       "'C:\\\\Users\\\\Quantum\\\\Documents\\\\Prope100cias\\\\Introducción a Python\\\\Objetos y estructuras de datos'"
      ]
     },
     "execution_count": 3,
     "metadata": {},
     "output_type": "execute_result"
    }
   ],
   "source": [
    "pwd"
   ]
  },
  {
   "cell_type": "markdown",
   "id": "85f1d096",
   "metadata": {},
   "source": [
    "También es posible abrir archivos que no estén en el mismo directorio, esto se hace pasando la ruta absoluta del archivo\n",
    "\n",
    "Para Windows se usan dobles \\ para pasar la ruta:\n",
    "\n",
    "myfile = open(\"C:\\\\Users\\\\YourUserName\\\\Home\\\\Folder\\\\myfile.txt\")\n",
    "\n",
    "Pero para MacOS y Linux se usa / para pasar la ruta:\n",
    "\n",
    "myfile = open(\"/Users/YouUserName/Folder/myfile.txt\")\n",
    "\n",
    "Comencemos ahora"
   ]
  },
  {
   "cell_type": "code",
   "execution_count": 4,
   "id": "f7585ee8",
   "metadata": {},
   "outputs": [],
   "source": [
    "#Abrimos el archivo que ya creamos\n",
    "\n",
    "myfile = open('test.txt')"
   ]
  },
  {
   "cell_type": "code",
   "execution_count": 5,
   "id": "ff04b6d1",
   "metadata": {},
   "outputs": [
    {
     "data": {
      "text/plain": [
       "'Hola, esto es mi archivo de prueba\\n'"
      ]
     },
     "execution_count": 5,
     "metadata": {},
     "output_type": "execute_result"
    }
   ],
   "source": [
    "# Para leer el contenido de un arcivo usamos read()\n",
    "myfile.read()"
   ]
  },
  {
   "cell_type": "code",
   "execution_count": 6,
   "id": "e5af4537",
   "metadata": {},
   "outputs": [
    {
     "data": {
      "text/plain": [
       "''"
      ]
     },
     "execution_count": 6,
     "metadata": {},
     "output_type": "execute_result"
    }
   ],
   "source": [
    "# ¿Qué pasa si queremos leer de nuevo el archivo?\n",
    "myfile.read()"
   ]
  },
  {
   "cell_type": "markdown",
   "id": "7ff63d26",
   "metadata": {},
   "source": [
    "Esto pasa debido a que al  leer una vez, el \"cursor\" queda hasta el final del archivo así que al volver a leer no hay nada más que leer. Podemos resetear el \"cursor\" usando seek(index) para posicionar el cursor en cierto punto del archivo"
   ]
  },
  {
   "cell_type": "code",
   "execution_count": 7,
   "id": "79838b56",
   "metadata": {},
   "outputs": [
    {
     "data": {
      "text/plain": [
       "0"
      ]
     },
     "execution_count": 7,
     "metadata": {},
     "output_type": "execute_result"
    }
   ],
   "source": [
    "#Reseteando el cursor al inicio del archivo\n",
    "myfile.seek(0)"
   ]
  },
  {
   "cell_type": "code",
   "execution_count": 8,
   "id": "2e72d00c",
   "metadata": {},
   "outputs": [
    {
     "data": {
      "text/plain": [
       "'Hola, esto es mi archivo de prueba\\n'"
      ]
     },
     "execution_count": 8,
     "metadata": {},
     "output_type": "execute_result"
    }
   ],
   "source": [
    "#Volviendo a leer\n",
    "myfile.read()"
   ]
  },
  {
   "cell_type": "markdown",
   "id": "daa84e11",
   "metadata": {},
   "source": [
    "Podemos además leer un archivo línea por línea aunque para archivos muy grandes es mejor tener cuidado ya que hacer esto ocupa bastante memoria."
   ]
  },
  {
   "cell_type": "code",
   "execution_count": 9,
   "id": "545c2699",
   "metadata": {},
   "outputs": [
    {
     "data": {
      "text/plain": [
       "['Hola, esto es mi archivo de prueba\\n']"
      ]
     },
     "execution_count": 9,
     "metadata": {},
     "output_type": "execute_result"
    }
   ],
   "source": [
    "myfile.seek(0)\n",
    "myfile.readlines()"
   ]
  },
  {
   "cell_type": "markdown",
   "id": "34e13920",
   "metadata": {},
   "source": [
    "Siempre es recomendable cerrar un archivo desués de usarlo"
   ]
  },
  {
   "cell_type": "code",
   "execution_count": 10,
   "id": "2fc5b50c",
   "metadata": {},
   "outputs": [],
   "source": [
    "myfile.close()"
   ]
  },
  {
   "cell_type": "markdown",
   "id": "8ab6d2bd",
   "metadata": {},
   "source": [
    "### Escribiendo en un archivo\n",
    "\n",
    "open() solo nos permite abrir el archivo de manera predeterminada, para editarlo necesitamos pasar como argumento `'w'` para poder escribir en él."
   ]
  },
  {
   "cell_type": "code",
   "execution_count": null,
   "id": "6267e0d4",
   "metadata": {},
   "outputs": [],
   "source": [
    "##Escribiendo en test.txt \n",
    "myfile = open('test.txt','w')\n",
    "myfile.close()"
   ]
  },
  {
   "cell_type": "code",
   "execution_count": null,
   "id": "52909cdf",
   "metadata": {},
   "outputs": [],
   "source": [
    "## También podemos usar 'w+' para leer y escribir en el archivo\n",
    "myfile = open('test.txt','w+')"
   ]
  },
  {
   "cell_type": "markdown",
   "id": "7b379d13",
   "metadata": {},
   "source": [
    "ADVERTENCIA: Usar w y w+ SOBREESCRIBE el archivo, es decir, todo el contenido antes de editar es borrado."
   ]
  },
  {
   "cell_type": "code",
   "execution_count": null,
   "id": "468f840e",
   "metadata": {},
   "outputs": [],
   "source": [
    "#Usando el método write() escribimos en el archivo\n",
    "myfile.write('Nueva entrada')"
   ]
  },
  {
   "cell_type": "code",
   "execution_count": null,
   "id": "c8aecc95",
   "metadata": {},
   "outputs": [],
   "source": [
    "myfile.seek(0)\n",
    "myfile.read()"
   ]
  },
  {
   "cell_type": "code",
   "execution_count": null,
   "id": "94470ffb",
   "metadata": {},
   "outputs": [],
   "source": [
    "myfile.close()"
   ]
  },
  {
   "cell_type": "markdown",
   "id": "4aceb139",
   "metadata": {},
   "source": [
    "### Añadiendo a un archivo\n",
    "\n",
    "Con el argumento 'a', podemos abrir el archivo y añadir algo hasta el final del archivo, así todo lo escrito es añadido y no sobreescrito en el archivo. 'a+' permite abrir el archivo en modo lectura y escritura. Si el archivo no existe, entonces será creado."
   ]
  },
  {
   "cell_type": "code",
   "execution_count": null,
   "id": "6f92c088",
   "metadata": {},
   "outputs": [],
   "source": [
    "my_file = open('test.txt','a+')\n",
    "my_file.write('\\nAñadimos más texto')\n",
    "my_file.write('\\nUn poco más.')"
   ]
  },
  {
   "cell_type": "code",
   "execution_count": null,
   "id": "3d55e0b9",
   "metadata": {},
   "outputs": [],
   "source": [
    "my_file.seek(0)\n",
    "my_file.read()"
   ]
  },
  {
   "cell_type": "code",
   "execution_count": null,
   "id": "ba43d115",
   "metadata": {},
   "outputs": [],
   "source": [
    "my_file.seek(0)\n",
    "print(my_file.read())"
   ]
  },
  {
   "cell_type": "code",
   "execution_count": null,
   "id": "920d71fb",
   "metadata": {},
   "outputs": [],
   "source": [
    "myfile.close()"
   ]
  },
  {
   "cell_type": "markdown",
   "id": "997b78da",
   "metadata": {},
   "source": [
    "### Añadiendo a un archivo usando IPython\n",
    "\n",
    "Nuevamente usando IPython podemos editar el archivo\n"
   ]
  },
  {
   "cell_type": "code",
   "execution_count": null,
   "id": "05577233",
   "metadata": {},
   "outputs": [],
   "source": [
    "%%writefile -a test.txt\n",
    "\n",
    "Este texto está siendo añadido\n",
    "Hola jeje"
   ]
  },
  {
   "cell_type": "markdown",
   "id": "8da32c6d",
   "metadata": {},
   "source": [
    "Notemos que el primer salto de línea es necesario para insertar el texto en una nueva línea, de no ser así se insertará inmediatamente después de al última entrada y Jupyter no reconoce \\n"
   ]
  },
  {
   "cell_type": "markdown",
   "id": "baec84d3",
   "metadata": {},
   "source": [
    "### Iterando en un archivo\n",
    "\n",
    "Una manera de leer un archivo por líneas sin saturar la memoria es mediante el uso de un ciclo `for`, este tema será visto a profundidad posteriormente, pero por ahora quiero mostrarte como realizar esta lectura.\n",
    "\n",
    "Primero editemos nuestro archivo para que todo quede claro."
   ]
  },
  {
   "cell_type": "code",
   "execution_count": null,
   "id": "f640a1c8",
   "metadata": {},
   "outputs": [],
   "source": [
    "%%writefile test.txt\n",
    "Primera Linea\n",
    "Segunda Linea\n",
    "Tercera Linea\n",
    "Cuarta Linea\n",
    "Quinta Linea"
   ]
  },
  {
   "cell_type": "markdown",
   "id": "b6ba6a49",
   "metadata": {},
   "source": [
    "Ahora podemos decirle a Python que recorra cada línea del archivo y a cada una le haga algo:"
   ]
  },
  {
   "cell_type": "code",
   "execution_count": null,
   "id": "e3d73ebe",
   "metadata": {},
   "outputs": [],
   "source": [
    "for linea in open('test.txt'):\n",
    "    print(linea)"
   ]
  },
  {
   "cell_type": "markdown",
   "id": "8d83c924",
   "metadata": {},
   "source": [
    "Lo que acabamos de hacer tiene ciertas implicaciones:\n",
    "\n",
    "1. La variable \"linea\" puede recibir cualquier nombre.\n",
    "2. Como no llamamos al método read() del archivo, el texto entero no fue guardado en la memoria\n",
    "3. Nota la indentación en el ciclo for, como spoiler esta indentación es muy importante en Python\n",
    "\n",
    "¡Felicidades por terminar esta lección! ahora puedes editar de manera básica archivos en Python. c:"
   ]
  }
 ],
 "metadata": {
  "kernelspec": {
   "display_name": "Python 3 (ipykernel)",
   "language": "python",
   "name": "python3"
  },
  "language_info": {
   "codemirror_mode": {
    "name": "ipython",
    "version": 3
   },
   "file_extension": ".py",
   "mimetype": "text/x-python",
   "name": "python",
   "nbconvert_exporter": "python",
   "pygments_lexer": "ipython3",
   "version": "3.9.7"
  }
 },
 "nbformat": 4,
 "nbformat_minor": 5
}
