{
 "cells": [
  {
   "cell_type": "markdown",
   "id": "8dfb6c5b",
   "metadata": {},
   "source": [
    "# Asignación de Variables\n",
    "\n",
    "Las reglas para declarar variables son:\n",
    "\n",
    "1. Los nombres no pueden iniciar con un número.\n",
    "2. No puede haber espacios en el nombre de la variable, en lugar de esto se recomienda el uso de CamelCase o snake_case\n",
    "3. No se pueden usar los siguientes símbolos :'\",<>?!|@#$%^&*~-+\n",
    "4. Se recomienda usar nombres en minúsculas.\n",
    "5. Evita hacer uso de \"l\",\"O\" o \"I\" de manera individual como nombre de variable ya que suelen ser confundidas con 1 y 0\n",
    "6. Evita hacer uso de palabras reservadas en python como \"list\" o \"str\"\n"
   ]
  },
  {
   "cell_type": "markdown",
   "id": "980fc10b",
   "metadata": {},
   "source": [
    "# Dynamic Typing (Escritura dinámica)\n",
    "\n",
    "Una de las principales carácteristicas de Python es el uso del dynamic typing o escritura dinámica, a grandes rasgos, esto permite que podamos declarar variables sin especificar su tipo de dato, lo cuál nos lleva a redefinir variables en diferentes tipos de dato. De este modo Python resulta ser bastante flexible en la asignación de tipos de dato. Por este motivo Python resulta ser diferente e incluso más agradable para comenzar a programar que otros lenguajes (Java, C)"
   ]
  },
  {
   "cell_type": "code",
   "execution_count": 1,
   "id": "36fd5df6",
   "metadata": {},
   "outputs": [],
   "source": [
    "#Ejemplo\n",
    "a = 10"
   ]
  },
  {
   "cell_type": "code",
   "execution_count": 2,
   "id": "ed55d336",
   "metadata": {},
   "outputs": [
    {
     "data": {
      "text/plain": [
       "10"
      ]
     },
     "execution_count": 2,
     "metadata": {},
     "output_type": "execute_result"
    }
   ],
   "source": [
    "a"
   ]
  },
  {
   "cell_type": "code",
   "execution_count": 3,
   "id": "ea533866",
   "metadata": {},
   "outputs": [],
   "source": [
    "a = 'h'"
   ]
  },
  {
   "cell_type": "code",
   "execution_count": 4,
   "id": "d970d813",
   "metadata": {},
   "outputs": [
    {
     "data": {
      "text/plain": [
       "'h'"
      ]
     },
     "execution_count": 4,
     "metadata": {},
     "output_type": "execute_result"
    }
   ],
   "source": [
    "a"
   ]
  },
  {
   "cell_type": "code",
   "execution_count": 5,
   "id": "88277ff5",
   "metadata": {},
   "outputs": [],
   "source": [
    "a = [1,2,3]"
   ]
  },
  {
   "cell_type": "code",
   "execution_count": 6,
   "id": "0a39137b",
   "metadata": {},
   "outputs": [
    {
     "data": {
      "text/plain": [
       "[1, 2, 3]"
      ]
     },
     "execution_count": 6,
     "metadata": {},
     "output_type": "execute_result"
    }
   ],
   "source": [
    "a"
   ]
  },
  {
   "cell_type": "markdown",
   "id": "9b1c5b9a",
   "metadata": {},
   "source": [
    "### Ventajas y desventajas de la escritura dinámica\n",
    "\n",
    "Aunque de manera aparente la escritura dinámica parece ser o muy poco estricta o demasiado fácil hay que entender que al igual que los demás protocolos de escritura en otros lenguajes de alto nivel, este protocolo cuante con pros y contras.\n",
    "\n",
    "#### Pros:\n",
    "1. Resulta muy fácil de usar\n",
    "2. Disminuye el tiempo de desarrollo\n",
    "\n",
    "#### Contras:\n",
    "\n",
    "1. Se pueden crear bugs inesperados\n",
    "2. Hay que ser cuidadosos con el tipo (type()) de dato al operar con variables\n",
    "\n",
    "## Asignación de variables\n",
    "\n",
    "Las variables se asignan usando una etiqueta que será el nombre de la variable, luego el símbolo \"=\" se encarga de asignar a esta etiqueta un valor que definamos, así la nomenclatura que se usa es: nombre = objeto."
   ]
  },
  {
   "cell_type": "code",
   "execution_count": 7,
   "id": "6ddfe1eb",
   "metadata": {},
   "outputs": [],
   "source": [
    "#Ejemplo\n",
    "nombre = 'nombre'"
   ]
  },
  {
   "cell_type": "code",
   "execution_count": 8,
   "id": "559ea26c",
   "metadata": {},
   "outputs": [
    {
     "data": {
      "text/plain": [
       "'nombre'"
      ]
     },
     "execution_count": 8,
     "metadata": {},
     "output_type": "execute_result"
    }
   ],
   "source": [
    "nombre"
   ]
  },
  {
   "cell_type": "markdown",
   "id": "7471f2ae",
   "metadata": {},
   "source": [
    "Se puede reasignar valores a la etiqueta "
   ]
  },
  {
   "cell_type": "code",
   "execution_count": 9,
   "id": "95632234",
   "metadata": {},
   "outputs": [],
   "source": [
    "nombre = 3"
   ]
  },
  {
   "cell_type": "code",
   "execution_count": 10,
   "id": "b5b12ba5",
   "metadata": {},
   "outputs": [
    {
     "data": {
      "text/plain": [
       "3"
      ]
     },
     "execution_count": 10,
     "metadata": {},
     "output_type": "execute_result"
    }
   ],
   "source": [
    "nombre"
   ]
  },
  {
   "cell_type": "markdown",
   "id": "75f4f4b5",
   "metadata": {},
   "source": [
    "Se pueden realizar múltiples asignaciones en una sola línea"
   ]
  },
  {
   "cell_type": "code",
   "execution_count": 9,
   "id": "c1ad87f5",
   "metadata": {},
   "outputs": [],
   "source": [
    "#Asignando dos variables al mismo tiempo\n",
    "a,b,c=0,1,2"
   ]
  },
  {
   "cell_type": "code",
   "execution_count": 10,
   "id": "494bc7a1",
   "metadata": {},
   "outputs": [
    {
     "data": {
      "text/plain": [
       "2"
      ]
     },
     "execution_count": 10,
     "metadata": {},
     "output_type": "execute_result"
    }
   ],
   "source": [
    "c"
   ]
  },
  {
   "cell_type": "markdown",
   "id": "7b361ffc",
   "metadata": {},
   "source": [
    "## Reasignación de variables \n",
    "\n",
    "Otra cosa interesante que Python puede hacer es reasignar variables usando como referencia la variable en sí"
   ]
  },
  {
   "cell_type": "code",
   "execution_count": 15,
   "id": "f3038386",
   "metadata": {},
   "outputs": [],
   "source": [
    "#Ejemplo\n",
    "nombre = 4"
   ]
  },
  {
   "cell_type": "code",
   "execution_count": 12,
   "id": "5c402a4e",
   "metadata": {},
   "outputs": [
    {
     "data": {
      "text/plain": [
       "8"
      ]
     },
     "execution_count": 12,
     "metadata": {},
     "output_type": "execute_result"
    }
   ],
   "source": [
    "nombre = nombre + 4\n",
    "nombre"
   ]
  },
  {
   "cell_type": "markdown",
   "id": "cad6f1b9",
   "metadata": {},
   "source": [
    "Un modo más corto y eficaz de realizar esto es mediante el uso de los siguientes operadores que permiten sumar, restar, multiplicar e incluso dividir variables de valor númerico y reasignarles su valor usando `+=`, `-=`, `*=`, y `/=`."
   ]
  },
  {
   "cell_type": "code",
   "execution_count": 16,
   "id": "94054947",
   "metadata": {},
   "outputs": [
    {
     "data": {
      "text/plain": [
       "8"
      ]
     },
     "execution_count": 16,
     "metadata": {},
     "output_type": "execute_result"
    }
   ],
   "source": [
    "#Suma\n",
    "nombre += nombre\n",
    "\n",
    "nombre"
   ]
  },
  {
   "cell_type": "code",
   "execution_count": 17,
   "id": "e54dfbd3",
   "metadata": {},
   "outputs": [
    {
     "data": {
      "text/plain": [
       "0"
      ]
     },
     "execution_count": 17,
     "metadata": {},
     "output_type": "execute_result"
    }
   ],
   "source": [
    "#Resta\n",
    "nombre -= nombre\n",
    "\n",
    "nombre"
   ]
  },
  {
   "cell_type": "code",
   "execution_count": 19,
   "id": "552a2ac3",
   "metadata": {},
   "outputs": [
    {
     "data": {
      "text/plain": [
       "1.0"
      ]
     },
     "execution_count": 19,
     "metadata": {},
     "output_type": "execute_result"
    }
   ],
   "source": [
    "#División\n",
    "nombre = 4\n",
    "nombre /= 4\n",
    "\n",
    "nombre"
   ]
  },
  {
   "cell_type": "code",
   "execution_count": 21,
   "id": "0804ecdd",
   "metadata": {},
   "outputs": [
    {
     "data": {
      "text/plain": [
       "1.0"
      ]
     },
     "execution_count": 21,
     "metadata": {},
     "output_type": "execute_result"
    }
   ],
   "source": [
    "#Multiplicación\n",
    "nombre *= nombre \n",
    "nombre"
   ]
  },
  {
   "cell_type": "markdown",
   "id": "52532245",
   "metadata": {},
   "source": [
    "# Tipos de datos "
   ]
  },
  {
   "cell_type": "markdown",
   "id": "a12701d6",
   "metadata": {},
   "source": [
    "Existen varios tipos de datos con los que podemos operar en Python, hasta ahora solo hemos usado valores númericos enteros y décimales sin embargo hay aún más y más variados.\n",
    "Debido a que no todas las operaciones que hemos definido hasta ahora son válidas para todos los tipos de datos, es hora de presentartelos:"
   ]
  },
  {
   "cell_type": "markdown",
   "id": "fc92e9df",
   "metadata": {},
   "source": [
    "<table>\n",
    "<tr>\n",
    "    <th>Type</th> \n",
    "    <th>Nombre</th>\n",
    "</tr>\n",
    "\n",
    "<tr>\n",
    "    <td>int</td>\n",
    "    <td>Números enteros</td> \n",
    "</tr>\n",
    "\n",
    "<tr>\n",
    "    <td>float</td> \n",
    "    <td>Números décimales</td>\n",
    "</tr>\n",
    "<tr>\n",
    "    <td>str</td> \n",
    "    <td>String/Cadenas de texto</td>\n",
    "</tr>\n",
    "<tr>\n",
    "    <td>list</td> \n",
    "    <td>Listas</td>\n",
    "</tr>\n",
    "<tr>\n",
    "    <td>tuple</td> \n",
    "    <td>tuple</td>\n",
    "</tr>\n",
    "<tr>\n",
    "    <td>dict</td> \n",
    "    <td>Diccionarios</td>\n",
    "</tr>\n",
    "<tr>\n",
    "    <td>set</td> \n",
    "    <td>Conjunto</td>\n",
    "</tr>\n",
    "<tr>\n",
    "    <td>bool</td> \n",
    "    <td>Booleano</td>\n",
    "</tr>\n",
    " </table>"
   ]
  },
  {
   "cell_type": "markdown",
   "id": "75f9af41",
   "metadata": {},
   "source": [
    "Cada uno de estos tipos de dato tiene operaciones y usos diferentes que abordaremos a lo largo de este curso, por ahora es importante recordar que al usar escritura dinámica hay que ser cuidadosos con el tipo de dato que estemos usando, afortunadamente python nos permite ver el tipo de dato que hemos asociado a una variable por lo cuál en cualquier momento podemos consultar esta info mediante el uso de la función `type()`"
   ]
  },
  {
   "cell_type": "code",
   "execution_count": 22,
   "id": "f9c3997b",
   "metadata": {},
   "outputs": [],
   "source": [
    "## Ejemplo\n",
    "a = 4"
   ]
  },
  {
   "cell_type": "code",
   "execution_count": 23,
   "id": "03bccf89",
   "metadata": {},
   "outputs": [
    {
     "data": {
      "text/plain": [
       "int"
      ]
     },
     "execution_count": 23,
     "metadata": {},
     "output_type": "execute_result"
    }
   ],
   "source": [
    "type(a)"
   ]
  },
  {
   "cell_type": "code",
   "execution_count": 24,
   "id": "fff5ee28",
   "metadata": {},
   "outputs": [
    {
     "data": {
      "text/plain": [
       "str"
      ]
     },
     "execution_count": 24,
     "metadata": {},
     "output_type": "execute_result"
    }
   ],
   "source": [
    "a = \"hola\"\n",
    "type(a)"
   ]
  },
  {
   "cell_type": "markdown",
   "id": "9db78046",
   "metadata": {},
   "source": [
    "## Ejemplo de variables\n",
    "Con el uso de variables resulta sencillo ahora poder realizar operaciones identificando fácilmente los datos que usamos"
   ]
  },
  {
   "cell_type": "code",
   "execution_count": 25,
   "id": "8567c8ce",
   "metadata": {},
   "outputs": [
    {
     "data": {
      "text/plain": [
       "10.0"
      ]
     },
     "execution_count": 25,
     "metadata": {},
     "output_type": "execute_result"
    }
   ],
   "source": [
    "mi_saldo = 100\n",
    "impuestos = 0.1\n",
    "\n",
    "por_pagar = mi_saldo * impuestos\n",
    "\n",
    "por_pagar"
   ]
  },
  {
   "cell_type": "code",
   "execution_count": null,
   "id": "95140699",
   "metadata": {},
   "outputs": [],
   "source": []
  },
  {
   "cell_type": "markdown",
   "id": "3c9b9f1c",
   "metadata": {},
   "source": [
    "### ¡Reto!\n",
    "Del ejemplo anterior, ¿qué tipo de dato será la variable \"por pagar\"?"
   ]
  },
  {
   "cell_type": "code",
   "execution_count": 26,
   "id": "578631a3",
   "metadata": {},
   "outputs": [
    {
     "data": {
      "text/plain": [
       "float"
      ]
     },
     "execution_count": 26,
     "metadata": {},
     "output_type": "execute_result"
    }
   ],
   "source": [
    "type(por_pagar)"
   ]
  },
  {
   "cell_type": "markdown",
   "id": "d85857e8",
   "metadata": {},
   "source": [
    "¡Felicidades por terminar esta primera lección! Hemos aprendido bastante variables. ¡Continuemos a la siguiente lección! c:"
   ]
  }
 ],
 "metadata": {
  "kernelspec": {
   "display_name": "Python 3 (ipykernel)",
   "language": "python",
   "name": "python3"
  },
  "language_info": {
   "codemirror_mode": {
    "name": "ipython",
    "version": 3
   },
   "file_extension": ".py",
   "mimetype": "text/x-python",
   "name": "python",
   "nbconvert_exporter": "python",
   "pygments_lexer": "ipython3",
   "version": "3.9.7"
  }
 },
 "nbformat": 4,
 "nbformat_minor": 5
}
