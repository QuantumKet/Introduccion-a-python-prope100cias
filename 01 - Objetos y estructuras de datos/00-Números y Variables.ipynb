{
 "cells": [
  {
   "cell_type": "markdown",
   "id": "ffa2fa6c",
   "metadata": {},
   "source": [
    "# Números y variables en python\n",
    "\n",
    "En esta sección aprenderemos:\n",
    "\n",
    "1. Tipos de números en python\n",
    "2. Aritmética Básica\n",
    "3. Diferencias entre la división clásica y la \"floor division\"\n",
    "4. Asignación de objetos (variables)\n",
    "\n",
    "## Tipos de números\n",
    "Python cuenta con diversos tipos de números con los que podemos trabajar (enteros, décimales, notación científica e incluso números complejos), pero para nuestro primer acercamiento nos enfocaremos en los enteros y los décimales. \n",
    "\n",
    "Los enteros son literalmente el conjunto $\\mathbb{Z}$ e incluye a los números positivos y negativos, por ejemplo 1 y -1. Su nombre en python es $\\textbf{int}$\n",
    "\n",
    "Los décimales son números que incluyen punto décimal y pueden ser repesentados incluso por notación científica, por ejemplo 2.1, -3.2, 4E2. Su nombre en python es $\\textbf{float}$\n",
    "\n",
    "Aquí podemos observar una tabla con los dos principales tipos de números con los que estaremos trabajando"
   ]
  },
  {
   "cell_type": "markdown",
   "id": "56894e9e",
   "metadata": {},
   "source": [
    "<table>\n",
    "<tr>\n",
    "    <th>Ejemplo</th> \n",
    "    <th>\"Tipo\" de número</th>\n",
    "    <th>Nombre en python</th>\n",
    "</tr>\n",
    "\n",
    "<tr>\n",
    "    <td>1,2,-5,1000</td>\n",
    "    <td>Enteros</td> \n",
    "    <td>int</td> \n",
    "</tr>\n",
    "\n",
    "<tr>\n",
    "    <td>1.2,-0.5,2e2,3E2</td> \n",
    "    <td>Décimales</td>\n",
    "    <td>float</td> \n",
    "</tr>\n",
    " </table>"
   ]
  },
  {
   "cell_type": "markdown",
   "id": "5d62a8c3",
   "metadata": {},
   "source": [
    "Iniciemos revisando un poco de aritmética con este tipo de números:\n",
    "\n",
    "### Aritmética con python"
   ]
  },
  {
   "cell_type": "code",
   "execution_count": 1,
   "id": "609d9ca3",
   "metadata": {},
   "outputs": [
    {
     "data": {
      "text/plain": [
       "3"
      ]
     },
     "execution_count": 1,
     "metadata": {},
     "output_type": "execute_result"
    }
   ],
   "source": [
    "#Suma\n",
    "1+2"
   ]
  },
  {
   "cell_type": "code",
   "execution_count": 3,
   "id": "b6b20b9f",
   "metadata": {},
   "outputs": [
    {
     "data": {
      "text/plain": [
       "-1"
      ]
     },
     "execution_count": 3,
     "metadata": {},
     "output_type": "execute_result"
    }
   ],
   "source": [
    "#Resta\n",
    "1-2"
   ]
  },
  {
   "cell_type": "code",
   "execution_count": 6,
   "id": "8ed869d6",
   "metadata": {},
   "outputs": [
    {
     "data": {
      "text/plain": [
       "6"
      ]
     },
     "execution_count": 6,
     "metadata": {},
     "output_type": "execute_result"
    }
   ],
   "source": [
    "#Multiplicación\n",
    "-3*-2"
   ]
  },
  {
   "cell_type": "code",
   "execution_count": 7,
   "id": "533370db",
   "metadata": {},
   "outputs": [
    {
     "data": {
      "text/plain": [
       "2.5"
      ]
     },
     "execution_count": 7,
     "metadata": {},
     "output_type": "execute_result"
    }
   ],
   "source": [
    "#División\n",
    "5/2"
   ]
  },
  {
   "cell_type": "code",
   "execution_count": 8,
   "id": "0d61593c",
   "metadata": {},
   "outputs": [
    {
     "data": {
      "text/plain": [
       "2"
      ]
     },
     "execution_count": 8,
     "metadata": {},
     "output_type": "execute_result"
    }
   ],
   "source": [
    "#Floor division\n",
    "5//2"
   ]
  },
  {
   "cell_type": "markdown",
   "id": "448e5386",
   "metadata": {},
   "source": [
    "#### Floor division\n",
    "\n",
    "Notemos que hay una diferencia clara entre realizar la operación 3/4 y 3//4. El operador // se diferencía a / en que // nos entrega un entero, es decir redondea el resultado al valor más bajo que puede tener por eso se le conoce cómo floor division, ya que \"redondea hacia el piso\" el resultado."
   ]
  },
  {
   "cell_type": "code",
   "execution_count": 10,
   "id": "82172353",
   "metadata": {},
   "outputs": [
    {
     "data": {
      "text/plain": [
       "2"
      ]
     },
     "execution_count": 10,
     "metadata": {},
     "output_type": "execute_result"
    }
   ],
   "source": [
    "#Modulo\n",
    "2%5"
   ]
  },
  {
   "cell_type": "markdown",
   "id": "eacc5b2c",
   "metadata": {},
   "source": [
    "#### Módulo\n",
    "\n",
    "El operador módulo % regresa el residuo de la división entera que se realice entre dos números. Por ejemplo 2%2 regresa 0 porque la división no tiene residuo, sin embargo 7%4 regresa 3 porque 3 es el residuo de la división entera."
   ]
  },
  {
   "cell_type": "code",
   "execution_count": 12,
   "id": "9a3079f5",
   "metadata": {},
   "outputs": [
    {
     "data": {
      "text/plain": [
       "64"
      ]
     },
     "execution_count": 12,
     "metadata": {},
     "output_type": "execute_result"
    }
   ],
   "source": [
    "#Potencias\n",
    "8**2"
   ]
  },
  {
   "cell_type": "code",
   "execution_count": 13,
   "id": "7964c90e",
   "metadata": {},
   "outputs": [
    {
     "data": {
      "text/plain": [
       "2.8284271247461903"
      ]
     },
     "execution_count": 13,
     "metadata": {},
     "output_type": "execute_result"
    }
   ],
   "source": [
    "#Raíces\n",
    "8**0.5"
   ]
  },
  {
   "cell_type": "code",
   "execution_count": 14,
   "id": "24d98ad1",
   "metadata": {},
   "outputs": [
    {
     "data": {
      "text/plain": [
       "23"
      ]
     },
     "execution_count": 14,
     "metadata": {},
     "output_type": "execute_result"
    }
   ],
   "source": [
    "#Jerarquía de operaciones\n",
    "3 + 4 * 5"
   ]
  },
  {
   "cell_type": "code",
   "execution_count": 15,
   "id": "7f62baa3",
   "metadata": {},
   "outputs": [
    {
     "data": {
      "text/plain": [
       "35"
      ]
     },
     "execution_count": 15,
     "metadata": {},
     "output_type": "execute_result"
    }
   ],
   "source": [
    "#Jerarquía de operaciones (uso de parentesis)\n",
    "(3+4) * 5"
   ]
  },
  {
   "cell_type": "markdown",
   "id": "99fbfb7a",
   "metadata": {},
   "source": [
    "## Asignación de variables\n",
    "\n",
    "Python a diferencia de otros lenguajes de alto nivel permite la definición de variables sin la necesidad de especificar el tipo de dato que se requiera usar, es decir, basta con asignar el nombre de la variable al dato que deseemos para poder usarla posteriormente. Esto lo entenderemos mejor cuando revisemos más tipos de datos en Python.\n",
    "\n",
    "Aprovechando que ya sabemos usar python para realizar cuentas básicas, veamos como podemos potenciar esto con el uso de variables.\n",
    "\n",
    "Para asignar una variable se usa el signo = (igual) después de la etiqueta que usemos.\n",
    "\n",
    "Veamos algunos ejemplos:"
   ]
  },
  {
   "cell_type": "code",
   "execution_count": 22,
   "id": "0126a75d",
   "metadata": {},
   "outputs": [],
   "source": [
    "#Creando una variable\n",
    "mivariable = 4"
   ]
  },
  {
   "cell_type": "code",
   "execution_count": 17,
   "id": "60b01050",
   "metadata": {},
   "outputs": [
    {
     "data": {
      "text/plain": [
       "8"
      ]
     },
     "execution_count": 17,
     "metadata": {},
     "output_type": "execute_result"
    }
   ],
   "source": [
    "#Suma\n",
    "mivariable + mivariable"
   ]
  },
  {
   "cell_type": "markdown",
   "id": "89d4c717",
   "metadata": {},
   "source": [
    "Una de las ventajas que tiene usar variables es que se puede reasignar el valor que estas contienen"
   ]
  },
  {
   "cell_type": "code",
   "execution_count": 20,
   "id": "2643b942",
   "metadata": {},
   "outputs": [],
   "source": [
    "#Reasignando variables\n",
    "mivariable = 'Hola'"
   ]
  },
  {
   "cell_type": "code",
   "execution_count": 21,
   "id": "96c61894",
   "metadata": {},
   "outputs": [
    {
     "data": {
      "text/plain": [
       "'Hola'"
      ]
     },
     "execution_count": 21,
     "metadata": {},
     "output_type": "execute_result"
    }
   ],
   "source": [
    "#¿Cuánto vale la variable?\n",
    "mivariable"
   ]
  },
  {
   "cell_type": "markdown",
   "id": "08cda1af",
   "metadata": {},
   "source": [
    "Del mismo modo podemos reasignar valores usando la propia variable para redefinirse"
   ]
  },
  {
   "cell_type": "code",
   "execution_count": 24,
   "id": "dc72e054",
   "metadata": {},
   "outputs": [
    {
     "data": {
      "text/plain": [
       "7"
      ]
     },
     "execution_count": 24,
     "metadata": {},
     "output_type": "execute_result"
    }
   ],
   "source": [
    "#Reasignación de variable usando la variable\n",
    "mivariable = 4\n",
    "\n",
    "mivariable = mivariable + 3\n",
    "\n",
    "mivariable"
   ]
  },
  {
   "cell_type": "markdown",
   "id": "12fb34f2",
   "metadata": {},
   "source": [
    "### ADVERTENCIA\n",
    "\n",
    "El uso de variables es parte del núcleo de conceptos que se usan en programación, ya que permite un uso eficiente de los tipos de datos que se usan, sin embargo, se debe de seguir una seria de reglas que se deben cumplir de manera eficiente al momento de declarar nuestras variables. \n",
    "\n",
    "Las reglas para declarar variables son:\n",
    "\n",
    "1. Los nombres no pueden iniciar con un número.\n",
    "2. No puede haber espacios en el nombre de la variable, en lugar de esto se recomienda el uso de CamelCase o snake_case\n",
    "3. No se pueden usar los siguientes símbolos :'\",<>?!|@#$%^&*~-+\n",
    "4. Se recomienda usar nombres en minúsculas.\n",
    "5. Evita hacer uso de \"l\",\"O\" o \"I\" de manera individual como nombre de variable\n",
    "6. Evita hacer uso de palabras reservadas en python como \"list\" o \"str\"\n",
    "\n",
    "El uso de variables es bastante útil para identificar diferentes datos en python:"
   ]
  },
  {
   "cell_type": "code",
   "execution_count": 9,
   "id": "a41036e1",
   "metadata": {},
   "outputs": [],
   "source": [
    "#Usemos las variables para tener una buena identificación de nuestros datos"
   ]
  },
  {
   "cell_type": "code",
   "execution_count": 26,
   "id": "63ff0c5f",
   "metadata": {},
   "outputs": [
    {
     "data": {
      "text/plain": [
       "10.0"
      ]
     },
     "execution_count": 26,
     "metadata": {},
     "output_type": "execute_result"
    }
   ],
   "source": [
    "mi_saldo = 100\n",
    "impuestos = 0.1\n",
    "\n",
    "por_pagar = mi_saldo * impuestos\n",
    "\n",
    "por_pagar"
   ]
  },
  {
   "cell_type": "markdown",
   "id": "7ead33b4",
   "metadata": {},
   "source": [
    "¡Felicidades por terminar esta primera lección! Hemos aprendido bastante sobre números y variables. ¡Continuemos a la siguiente lección! c:"
   ]
  },
  {
   "cell_type": "code",
   "execution_count": null,
   "id": "7d656b19",
   "metadata": {},
   "outputs": [],
   "source": []
  }
 ],
 "metadata": {
  "kernelspec": {
   "display_name": "Python 3 (ipykernel)",
   "language": "python",
   "name": "python3"
  },
  "language_info": {
   "codemirror_mode": {
    "name": "ipython",
    "version": 3
   },
   "file_extension": ".py",
   "mimetype": "text/x-python",
   "name": "python",
   "nbconvert_exporter": "python",
   "pygments_lexer": "ipython3",
   "version": "3.9.7"
  }
 },
 "nbformat": 4,
 "nbformat_minor": 5
}
