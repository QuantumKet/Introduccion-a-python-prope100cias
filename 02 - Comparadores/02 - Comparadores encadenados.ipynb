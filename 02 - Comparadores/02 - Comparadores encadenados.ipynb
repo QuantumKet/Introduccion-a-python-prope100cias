{
 "cells": [
  {
   "cell_type": "markdown",
   "id": "05cec0bc",
   "metadata": {},
   "source": [
    "# Comparadores encadenados\n",
    "\n",
    "Python nos permite encadenar comparadores para realizar validaciones más complejas. Este tipo de encadenaciones son útiles para expresiones booleanas largas.\n",
    "\n",
    "Veamos unos ejemplos básicos:"
   ]
  },
  {
   "cell_type": "code",
   "execution_count": null,
   "id": "676d36de",
   "metadata": {},
   "outputs": [],
   "source": [
    "1<2<3"
   ]
  },
  {
   "cell_type": "markdown",
   "id": "c8b650ec",
   "metadata": {},
   "source": [
    "Lo anterior valida si 1 es menor que 2 y si 2 es menor que 3, podemos hacer lo mismo usando la sentencia <b>and</b> de Python. Esta sentencia es realmente una conjunción lógica."
   ]
  },
  {
   "cell_type": "code",
   "execution_count": null,
   "id": "668009bb",
   "metadata": {},
   "outputs": [],
   "source": [
    "1<2 and 2<3"
   ]
  },
  {
   "cell_type": "code",
   "execution_count": null,
   "id": "fb077dd6",
   "metadata": {},
   "outputs": [],
   "source": [
    "#Otro ejemplo\n"
   ]
  },
  {
   "cell_type": "markdown",
   "id": "2b02d50b",
   "metadata": {},
   "source": [
    "¿Cómo se haría con <b>and</b>?"
   ]
  },
  {
   "cell_type": "code",
   "execution_count": null,
   "id": "68bddabf",
   "metadata": {},
   "outputs": [],
   "source": [
    "#Usando and\n"
   ]
  },
  {
   "cell_type": "markdown",
   "id": "8caa399d",
   "metadata": {},
   "source": [
    "Por otro lado podemos usar la sentencia <b>or</b> para comparar datos al igual que lo haría una disyunción."
   ]
  },
  {
   "cell_type": "code",
   "execution_count": null,
   "id": "7d3971c8",
   "metadata": {},
   "outputs": [],
   "source": [
    "1==1 or 2==3"
   ]
  },
  {
   "cell_type": "code",
   "execution_count": null,
   "id": "72cf10ae",
   "metadata": {},
   "outputs": [],
   "source": [
    "##Otro ejemplo\n"
   ]
  },
  {
   "cell_type": "markdown",
   "id": "30d352b4",
   "metadata": {},
   "source": [
    "¡Felicidades! Has terminado otra lección."
   ]
  }
 ],
 "metadata": {
  "kernelspec": {
   "display_name": "Python 3 (ipykernel)",
   "language": "python",
   "name": "python3"
  },
  "language_info": {
   "codemirror_mode": {
    "name": "ipython",
    "version": 3
   },
   "file_extension": ".py",
   "mimetype": "text/x-python",
   "name": "python",
   "nbconvert_exporter": "python",
   "pygments_lexer": "ipython3",
   "version": "3.9.7"
  }
 },
 "nbformat": 4,
 "nbformat_minor": 5
}
