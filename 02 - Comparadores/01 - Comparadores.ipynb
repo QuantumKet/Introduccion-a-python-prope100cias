{
 "cells": [
  {
   "cell_type": "markdown",
   "id": "e3178ea0",
   "metadata": {},
   "source": [
    "# Comparadores\n",
    "\n",
    "Existe un tipo especial de operador que sirve para comparar variables y retornan un valor booleano. Este tipo de operadores se conocen cómo comparadores.\n",
    "\n",
    "Es común estudiarlos en matemáticas, así que posiblemente se te hagan conocidos. \n",
    "\n",
    "En la siguiente tabla podrás ver los operadores y algunos ejemplos:"
   ]
  },
  {
   "cell_type": "markdown",
   "id": "721d2cbe",
   "metadata": {},
   "source": [
    "<table class=\"table table-bordered\">\n",
    "<tr>\n",
    "<th style=\"width:10%\">Operador</th><th style=\"width:60%\">Descripción</th><th>Ejemplo</th>\n",
    "</tr>\n",
    "<tr>\n",
    "<td>==</td>\n",
    "<td>Si los dos valores son iguales entonces la condición es verdadera.</td>\n",
    "<td> (a == b) no es verdad.</td>\n",
    "</tr>\n",
    "<tr>\n",
    "<td>!=</td>\n",
    "<td>Si dos valores son diferentes entonces la condición es verdadera.</td>\n",
    "<td>(a != b) es verdad.</td>\n",
    "</tr>\n",
    "<tr>\n",
    "<td>&gt;</td>\n",
    "<td>Si el valor de la izquierda es mayor que el de la derecha, la condición es verdadera.</td>\n",
    "<td> (a &gt; b) no es verdad.</td>\n",
    "</tr>\n",
    "<tr>\n",
    "<td>&lt;</td>\n",
    "<td>Si el valor de la izquierda es menor que el de la derecha, la condición es verdadera.</td>\n",
    "<td> (a &lt; b) es verdad.</td>\n",
    "</tr>\n",
    "<tr>\n",
    "<td>&gt;=</td>\n",
    "<td>Si el valor de la izquierda es mayor o igual que el de la derecha, la condición es verdadera.</td>\n",
    "<td> (a &gt;= b) no es verdad. </td>\n",
    "</tr>\n",
    "<tr>\n",
    "<td>&lt;=</td>\n",
    "<td>Si el valor de la izquierda es menor o igual que el de la derecha, la condición es verdadera.</td>\n",
    "<td> (a &lt;= b) es verdad. </td>\n",
    "</tr>\n",
    "</table>"
   ]
  },
  {
   "cell_type": "markdown",
   "id": "9b8289ed",
   "metadata": {},
   "source": [
    "### Equivalente"
   ]
  },
  {
   "cell_type": "code",
   "execution_count": null,
   "id": "16ebeaa4",
   "metadata": {},
   "outputs": [],
   "source": []
  },
  {
   "cell_type": "code",
   "execution_count": null,
   "id": "e3e51877",
   "metadata": {},
   "outputs": [],
   "source": []
  },
  {
   "cell_type": "markdown",
   "id": "6e93be76",
   "metadata": {},
   "source": [
    "### Diferente"
   ]
  },
  {
   "cell_type": "code",
   "execution_count": null,
   "id": "569bc0e1",
   "metadata": {},
   "outputs": [],
   "source": []
  },
  {
   "cell_type": "code",
   "execution_count": null,
   "id": "6090fa7f",
   "metadata": {},
   "outputs": [],
   "source": []
  },
  {
   "cell_type": "markdown",
   "id": "2a5fff68",
   "metadata": {},
   "source": [
    "### Mayor que"
   ]
  },
  {
   "cell_type": "code",
   "execution_count": null,
   "id": "1ca3b1e1",
   "metadata": {},
   "outputs": [],
   "source": []
  },
  {
   "cell_type": "code",
   "execution_count": null,
   "id": "9cad48c9",
   "metadata": {},
   "outputs": [],
   "source": []
  },
  {
   "cell_type": "markdown",
   "id": "b120d9a3",
   "metadata": {},
   "source": [
    "### Menor que"
   ]
  },
  {
   "cell_type": "code",
   "execution_count": null,
   "id": "24c0c5d9",
   "metadata": {},
   "outputs": [],
   "source": []
  },
  {
   "cell_type": "code",
   "execution_count": null,
   "id": "e25f5de2",
   "metadata": {},
   "outputs": [],
   "source": []
  },
  {
   "cell_type": "markdown",
   "id": "870c7af4",
   "metadata": {},
   "source": [
    "### Mayor o igual que "
   ]
  },
  {
   "cell_type": "code",
   "execution_count": null,
   "id": "d362ecbb",
   "metadata": {},
   "outputs": [],
   "source": []
  },
  {
   "cell_type": "code",
   "execution_count": null,
   "id": "75ca7717",
   "metadata": {},
   "outputs": [],
   "source": []
  },
  {
   "cell_type": "markdown",
   "id": "29373840",
   "metadata": {},
   "source": [
    "### Menor o igual que"
   ]
  },
  {
   "cell_type": "code",
   "execution_count": null,
   "id": "ed0b06fc",
   "metadata": {},
   "outputs": [],
   "source": []
  },
  {
   "cell_type": "code",
   "execution_count": null,
   "id": "6bb86355",
   "metadata": {},
   "outputs": [],
   "source": []
  },
  {
   "cell_type": "markdown",
   "id": "5451095e",
   "metadata": {},
   "source": [
    "¡Felicidades por acabar esta lección! c:"
   ]
  }
 ],
 "metadata": {
  "kernelspec": {
   "display_name": "Python 3 (ipykernel)",
   "language": "python",
   "name": "python3"
  },
  "language_info": {
   "codemirror_mode": {
    "name": "ipython",
    "version": 3
   },
   "file_extension": ".py",
   "mimetype": "text/x-python",
   "name": "python",
   "nbconvert_exporter": "python",
   "pygments_lexer": "ipython3",
   "version": "3.9.7"
  }
 },
 "nbformat": 4,
 "nbformat_minor": 5
}
