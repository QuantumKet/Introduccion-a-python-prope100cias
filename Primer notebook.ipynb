{
 "cells": [
  {
   "cell_type": "markdown",
   "id": "d464c5d6",
   "metadata": {},
   "source": [
    "# Primer notebook\n",
    "\n",
    "Hola este es mi primer notebook\n",
    "\n",
    "$\\mathbb{R}$\n",
    "\n",
    "`print()`"
   ]
  },
  {
   "cell_type": "code",
   "execution_count": 6,
   "id": "a26b3e7e",
   "metadata": {},
   "outputs": [
    {
     "name": "stdout",
     "output_type": "stream",
     "text": [
      "Hola mundo!\n"
     ]
    }
   ],
   "source": [
    "#Hola este es un comentario\n",
    "print(\"Hola mundo!\")"
   ]
  },
  {
   "cell_type": "code",
   "execution_count": 3,
   "id": "6dc3caec",
   "metadata": {},
   "outputs": [],
   "source": [
    "a = 10"
   ]
  },
  {
   "cell_type": "code",
   "execution_count": null,
   "id": "5c5b5d48",
   "metadata": {},
   "outputs": [],
   "source": []
  }
 ],
 "metadata": {
  "kernelspec": {
   "display_name": "Python 3 (ipykernel)",
   "language": "python",
   "name": "python3"
  },
  "language_info": {
   "codemirror_mode": {
    "name": "ipython",
    "version": 3
   },
   "file_extension": ".py",
   "mimetype": "text/x-python",
   "name": "python",
   "nbconvert_exporter": "python",
   "pygments_lexer": "ipython3",
   "version": "3.9.7"
  }
 },
 "nbformat": 4,
 "nbformat_minor": 5
}
