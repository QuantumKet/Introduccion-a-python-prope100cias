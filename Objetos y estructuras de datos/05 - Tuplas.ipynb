{
 "cells": [
  {
   "cell_type": "markdown",
   "id": "981e04a5",
   "metadata": {},
   "source": [
    "# Tuplas\n",
    "\n",
    "Otro objeto (tipo de dato) en Python son las tuplas, son bastante similares a las listas con excepción de que estás resultan ser inmutables, es decir, no se pueden cambiar una vez definidas. Las tuplas son bastante utilizadas para representar cosas que no deberían ser cambiadas, como fechas de un calendario, una analogía es verlas como las n-adas de $\\mathbb{R}^{n}$.\n",
    "\n",
    "A continuación revisaremos los siguientes temas\n",
    "\n",
    "1. Contrucción de tuplas\n",
    "2. Métodos básicos de tuplas\n",
    "3. Inmutabilidad\n",
    "4. Usos\n",
    "\n",
    "Vamos a utilizar bastantes nociones de listas para las tuplas, así que comencemos. \n",
    "\n",
    "### Construcción de tuplas\n",
    "\n",
    "Las tuplas usan los paréntesis para ser construidas y se separa por comas los elementos que serás parte de ella `(object,objetc,object)`"
   ]
  },
  {
   "cell_type": "code",
   "execution_count": 1,
   "id": "b5268ccb",
   "metadata": {},
   "outputs": [],
   "source": [
    "#Definimos una tupla"
   ]
  },
  {
   "cell_type": "code",
   "execution_count": 2,
   "id": "42ccf847",
   "metadata": {},
   "outputs": [],
   "source": [
    "# Se usa la función len para ver su longitud"
   ]
  },
  {
   "cell_type": "code",
   "execution_count": 3,
   "id": "7c19a425",
   "metadata": {},
   "outputs": [],
   "source": [
    "# También las tuplas pueden contener diversos tipos de objetos"
   ]
  },
  {
   "cell_type": "code",
   "execution_count": 4,
   "id": "444f0d6f",
   "metadata": {},
   "outputs": [],
   "source": [
    "#También se indexan"
   ]
  },
  {
   "cell_type": "code",
   "execution_count": 5,
   "id": "3d1656b4",
   "metadata": {},
   "outputs": [],
   "source": [
    "#Y por supuesto que también se les hace slicing"
   ]
  },
  {
   "cell_type": "markdown",
   "id": "f1fa070b",
   "metadata": {},
   "source": [
    "### Métodos básicos\n",
    "\n",
    "A diferencia de las listas, las tuplas no cuentan con tantos métodos propios, veamos algunos de ellos."
   ]
  },
  {
   "cell_type": "code",
   "execution_count": 6,
   "id": "a0636bdb",
   "metadata": {},
   "outputs": [],
   "source": [
    "# El método index() acepta el valor del item y regresa su índice"
   ]
  },
  {
   "cell_type": "code",
   "execution_count": 7,
   "id": "e09766f5",
   "metadata": {},
   "outputs": [],
   "source": [
    "# El método count() cuenta la cantidad de veces que un valor aparece en la tupla"
   ]
  },
  {
   "cell_type": "markdown",
   "id": "699ef2c6",
   "metadata": {},
   "source": [
    "### Inmutabilidad\n",
    "\n",
    "No solo no puedes cambiar el valor de un índice si no tampoco se pueden añadir más items a la tupla. "
   ]
  },
  {
   "cell_type": "code",
   "execution_count": 8,
   "id": "dc416afa",
   "metadata": {},
   "outputs": [],
   "source": [
    "#No redefiniciones por indexeo"
   ]
  },
  {
   "cell_type": "code",
   "execution_count": 9,
   "id": "df5dc3cb",
   "metadata": {},
   "outputs": [],
   "source": [
    "#Tampoco append()"
   ]
  },
  {
   "cell_type": "markdown",
   "id": "084a5997",
   "metadata": {},
   "source": [
    "### Usos\n",
    "\n",
    "Quizá las tuplas te parezcan un tanto inútiles a comparación de las listas, de hecho son menos usadas que las listas en programación, sin embargo, son usadas cuando la inmutabilidad es necesaria. Así las tuplas proveen integridad de datos.\n",
    "\n",
    "¡Felicidades por acabar una lección más! c:"
   ]
  }
 ],
 "metadata": {
  "kernelspec": {
   "display_name": "Python 3 (ipykernel)",
   "language": "python",
   "name": "python3"
  },
  "language_info": {
   "codemirror_mode": {
    "name": "ipython",
    "version": 3
   },
   "file_extension": ".py",
   "mimetype": "text/x-python",
   "name": "python",
   "nbconvert_exporter": "python",
   "pygments_lexer": "ipython3",
   "version": "3.9.7"
  }
 },
 "nbformat": 4,
 "nbformat_minor": 5
}
