{
 "cells": [
  {
   "cell_type": "markdown",
   "id": "981e04a5",
   "metadata": {},
   "source": [
    "# Tuplas\n",
    "\n",
    "Otro objeto (tipo de dato) en Python son las tuplas, son bastante similares a las listas con excepción de que estás resultan ser inmutables, es decir, no se pueden cambiar una vez definidas. Las tuplas son bastante utilizadas para representar cosas que no deberían ser cambiadas, como fechas de un calendario, una analogía es verlas como las n-adas de $\\mathbb{R}^{n}$.\n",
    "\n",
    "A continuación revisaremos los siguientes temas\n",
    "\n",
    "1. Contrucción de tuplas\n",
    "2. Métodos básicos de tuplas\n",
    "3. Inmutabilidad\n",
    "4. Usos\n",
    "\n",
    "Vamos a utilizar bastantes nociones de listas para las tuplas, así que comencemos. \n",
    "\n",
    "### Construcción de tuplas\n",
    "\n",
    "Las tuplas usan los paréntesis para ser construidas y se separa por comas los elementos que serás parte de ella `(object,objetc,object)`"
   ]
  },
  {
   "cell_type": "code",
   "execution_count": 1,
   "id": "b5268ccb",
   "metadata": {},
   "outputs": [
    {
     "data": {
      "text/plain": [
       "(1, 2)"
      ]
     },
     "execution_count": 1,
     "metadata": {},
     "output_type": "execute_result"
    }
   ],
   "source": [
    "#Definimos una tupla\n",
    "tupla1 = (1,2)\n",
    "tupla1"
   ]
  },
  {
   "cell_type": "code",
   "execution_count": 2,
   "id": "42ccf847",
   "metadata": {},
   "outputs": [
    {
     "data": {
      "text/plain": [
       "2"
      ]
     },
     "execution_count": 2,
     "metadata": {},
     "output_type": "execute_result"
    }
   ],
   "source": [
    "# Se usa la función len para ver su longitud\n",
    "len(tupla1)"
   ]
  },
  {
   "cell_type": "code",
   "execution_count": 9,
   "id": "7c19a425",
   "metadata": {},
   "outputs": [],
   "source": [
    "# También las tuplas pueden contener diversos tipos de objetos\n",
    "a = (1,'text',3,4,5,6,6,6,6)"
   ]
  },
  {
   "cell_type": "code",
   "execution_count": 6,
   "id": "444f0d6f",
   "metadata": {},
   "outputs": [
    {
     "data": {
      "text/plain": [
       "'text'"
      ]
     },
     "execution_count": 6,
     "metadata": {},
     "output_type": "execute_result"
    }
   ],
   "source": [
    "#También se indexan\n",
    "a[1]"
   ]
  },
  {
   "cell_type": "code",
   "execution_count": 7,
   "id": "3d1656b4",
   "metadata": {},
   "outputs": [
    {
     "data": {
      "text/plain": [
       "('text', 3, 4)"
      ]
     },
     "execution_count": 7,
     "metadata": {},
     "output_type": "execute_result"
    }
   ],
   "source": [
    "#Y por supuesto que también se les hace slicing\n",
    "a[1:4]"
   ]
  },
  {
   "cell_type": "markdown",
   "id": "f1fa070b",
   "metadata": {},
   "source": [
    "### Métodos básicos\n",
    "\n",
    "A diferencia de las listas, las tuplas no cuentan con tantos métodos propios, veamos algunos de ellos."
   ]
  },
  {
   "cell_type": "code",
   "execution_count": 8,
   "id": "a0636bdb",
   "metadata": {},
   "outputs": [
    {
     "data": {
      "text/plain": [
       "1"
      ]
     },
     "execution_count": 8,
     "metadata": {},
     "output_type": "execute_result"
    }
   ],
   "source": [
    "# El método index() acepta el valor del item y regresa su índice\n",
    "a.index('text')"
   ]
  },
  {
   "cell_type": "code",
   "execution_count": 10,
   "id": "e09766f5",
   "metadata": {},
   "outputs": [
    {
     "data": {
      "text/plain": [
       "4"
      ]
     },
     "execution_count": 10,
     "metadata": {},
     "output_type": "execute_result"
    }
   ],
   "source": [
    "# El método count() cuenta la cantidad de veces que un valor aparece en la tupla\n",
    "a.count(6)"
   ]
  },
  {
   "cell_type": "markdown",
   "id": "699ef2c6",
   "metadata": {},
   "source": [
    "### Inmutabilidad\n",
    "\n",
    "No solo no puedes cambiar el valor de un índice si no tampoco se pueden añadir más items a la tupla. "
   ]
  },
  {
   "cell_type": "code",
   "execution_count": 14,
   "id": "dc416afa",
   "metadata": {},
   "outputs": [
    {
     "name": "stdout",
     "output_type": "stream",
     "text": [
      "['hola', 1, 2]\n"
     ]
    },
    {
     "ename": "TypeError",
     "evalue": "'tuple' object does not support item assignment",
     "output_type": "error",
     "traceback": [
      "\u001b[1;31m---------------------------------------------------------------------------\u001b[0m",
      "\u001b[1;31mTypeError\u001b[0m                                 Traceback (most recent call last)",
      "\u001b[1;32m~\\AppData\\Local\\Temp/ipykernel_2188/2985307322.py\u001b[0m in \u001b[0;36m<module>\u001b[1;34m\u001b[0m\n\u001b[0;32m      5\u001b[0m \u001b[1;33m\u001b[0m\u001b[0m\n\u001b[0;32m      6\u001b[0m \u001b[1;33m\u001b[0m\u001b[0m\n\u001b[1;32m----> 7\u001b[1;33m \u001b[0ma\u001b[0m\u001b[1;33m[\u001b[0m\u001b[1;36m1\u001b[0m\u001b[1;33m]\u001b[0m \u001b[1;33m=\u001b[0m \u001b[1;34m'hola'\u001b[0m\u001b[1;33m\u001b[0m\u001b[1;33m\u001b[0m\u001b[0m\n\u001b[0m",
      "\u001b[1;31mTypeError\u001b[0m: 'tuple' object does not support item assignment"
     ]
    }
   ],
   "source": [
    "#No redefiniciones por indexeo\n",
    "lista1 = [0,1,2]\n",
    "lista1[0] = 'hola'\n",
    "print(lista1)\n",
    "\n",
    "\n",
    "a[1] = 'hola'"
   ]
  },
  {
   "cell_type": "code",
   "execution_count": 12,
   "id": "df5dc3cb",
   "metadata": {},
   "outputs": [
    {
     "ename": "AttributeError",
     "evalue": "'tuple' object has no attribute 'append'",
     "output_type": "error",
     "traceback": [
      "\u001b[1;31m---------------------------------------------------------------------------\u001b[0m",
      "\u001b[1;31mAttributeError\u001b[0m                            Traceback (most recent call last)",
      "\u001b[1;32m~\\AppData\\Local\\Temp/ipykernel_2188/3557068279.py\u001b[0m in \u001b[0;36m<module>\u001b[1;34m\u001b[0m\n\u001b[0;32m      1\u001b[0m \u001b[1;31m#Tampoco append()\u001b[0m\u001b[1;33m\u001b[0m\u001b[1;33m\u001b[0m\u001b[0m\n\u001b[1;32m----> 2\u001b[1;33m \u001b[0ma\u001b[0m\u001b[1;33m.\u001b[0m\u001b[0mappend\u001b[0m\u001b[1;33m(\u001b[0m\u001b[1;34m'nuevo'\u001b[0m\u001b[1;33m)\u001b[0m\u001b[1;33m\u001b[0m\u001b[1;33m\u001b[0m\u001b[0m\n\u001b[0m",
      "\u001b[1;31mAttributeError\u001b[0m: 'tuple' object has no attribute 'append'"
     ]
    }
   ],
   "source": [
    "#Tampoco append()\n",
    "a.append('nuevo')"
   ]
  },
  {
   "cell_type": "markdown",
   "id": "084a5997",
   "metadata": {},
   "source": [
    "### Usos\n",
    "\n",
    "Quizá las tuplas te parezcan un tanto inútiles a comparación de las listas, de hecho son menos usadas que las listas en programación, sin embargo, son usadas cuando la inmutabilidad es necesaria. Así las tuplas proveen integridad de datos.\n",
    "\n",
    "¡Felicidades por acabar una lección más! c:"
   ]
  }
 ],
 "metadata": {
  "kernelspec": {
   "display_name": "Python 3 (ipykernel)",
   "language": "python",
   "name": "python3"
  },
  "language_info": {
   "codemirror_mode": {
    "name": "ipython",
    "version": 3
   },
   "file_extension": ".py",
   "mimetype": "text/x-python",
   "name": "python",
   "nbconvert_exporter": "python",
   "pygments_lexer": "ipython3",
   "version": "3.9.7"
  }
 },
 "nbformat": 4,
 "nbformat_minor": 5
}
