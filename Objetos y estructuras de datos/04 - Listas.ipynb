{
 "cells": [
  {
   "cell_type": "markdown",
   "id": "a69dc503",
   "metadata": {},
   "source": [
    "# Listas\n",
    "\n",
    "Cuando vimos el objeto String se abordó un concepto, \"secuencia\". Las listas pueden ser vistas del mismo modo como secuencias, pero a diferencia de los strings, las listas sí son mutables, es decir podemos cambiar los elementos dentro de la lista, incluso después de ser definida. \n",
    "\n",
    "A continuación revisaremos:\n",
    "\n",
    "1. Creación de listas\n",
    "2. Indexing y Slicing de listas\n",
    "3. Métodos básicos de listas\n",
    "4. Listas anidadas.\n",
    "5. Comprensión de listas (definición avanzada de una lista)\n",
    "\n",
    "Las listas son objetos muy recurrentes en Python y se pueden usar de manera muy sencilla hasta muy avanzada. \n",
    "\n",
    "## Creación de listas\n",
    "\n",
    "La manera de definir una lista es mediante el uso de corchetes [ ] y comas separando cada elemento, así la sintaxis general es `mi_lista = [objeto,objeto,objeto]`\n"
   ]
  },
  {
   "cell_type": "code",
   "execution_count": null,
   "id": "d375e2aa",
   "metadata": {},
   "outputs": [],
   "source": [
    "#"
   ]
  },
  {
   "cell_type": "markdown",
   "id": "a03a2cb6",
   "metadata": {},
   "source": [
    "Algo interesante de las listas es que pueden soportar diferentes tipos de objeto."
   ]
  },
  {
   "cell_type": "code",
   "execution_count": null,
   "id": "ba2a728d",
   "metadata": {},
   "outputs": [],
   "source": [
    "#"
   ]
  },
  {
   "cell_type": "markdown",
   "id": "7a238ade",
   "metadata": {},
   "source": [
    "Podemos además obtener la longitud de una lista (el número de items en ella) mediante la función `len()`"
   ]
  },
  {
   "cell_type": "code",
   "execution_count": null,
   "id": "0ed7c2f0",
   "metadata": {},
   "outputs": [],
   "source": []
  },
  {
   "cell_type": "markdown",
   "id": "86463bf4",
   "metadata": {},
   "source": [
    "## Indexing y slicing\n",
    "Al igual que con los strings, las listas al ser secuencias son accesibles desde sus índices, cabe recordar que en Python el conteo de índices inicia desde 0. La nomenclatura es del tipo `[inicio:fin]`"
   ]
  },
  {
   "cell_type": "code",
   "execution_count": null,
   "id": "4668489f",
   "metadata": {},
   "outputs": [],
   "source": [
    "#Definimos una lista"
   ]
  },
  {
   "cell_type": "code",
   "execution_count": null,
   "id": "ebef97aa",
   "metadata": {},
   "outputs": [],
   "source": [
    "#Tomamos algún elemento"
   ]
  },
  {
   "cell_type": "code",
   "execution_count": null,
   "id": "df7483e1",
   "metadata": {},
   "outputs": [],
   "source": [
    "#Tomamos un elemento y todo lo que vaya después de él"
   ]
  },
  {
   "cell_type": "code",
   "execution_count": null,
   "id": "2375cba0",
   "metadata": {},
   "outputs": [],
   "source": [
    "#Tomamos todo lo anterior a cierto índice"
   ]
  },
  {
   "cell_type": "markdown",
   "id": "e3a49cba",
   "metadata": {},
   "source": [
    "Podemos usar del mismo modo la concatenación de listas, lo cual dará de resultado un nueva lista."
   ]
  },
  {
   "cell_type": "code",
   "execution_count": null,
   "id": "702057a5",
   "metadata": {},
   "outputs": [],
   "source": [
    "#Concatenando una lista"
   ]
  },
  {
   "cell_type": "markdown",
   "id": "e76f0359",
   "metadata": {},
   "source": [
    "Del mismo modo podemos reasignar la lista usando la lista"
   ]
  },
  {
   "cell_type": "code",
   "execution_count": null,
   "id": "0e1516b5",
   "metadata": {},
   "outputs": [],
   "source": [
    "#Reasignación recursiva"
   ]
  },
  {
   "cell_type": "markdown",
   "id": "0a761d8d",
   "metadata": {},
   "source": [
    "Y por supuesto mediante el uso del operador * podemos duplicar, triplicar, etc la propia lista"
   ]
  },
  {
   "cell_type": "code",
   "execution_count": null,
   "id": "ac9e5fa0",
   "metadata": {},
   "outputs": [],
   "source": [
    "#Duplicando una lista"
   ]
  },
  {
   "cell_type": "code",
   "execution_count": null,
   "id": "e742ed42",
   "metadata": {},
   "outputs": [],
   "source": []
  },
  {
   "cell_type": "markdown",
   "id": "64cb905f",
   "metadata": {},
   "source": [
    "$\\textbf{Observación}$ si no se reasigna o se guardan los resultados anteriores en una variable, las operaciones resultan ser temporales."
   ]
  },
  {
   "cell_type": "code",
   "execution_count": null,
   "id": "9b3252cd",
   "metadata": {},
   "outputs": [],
   "source": [
    "#Out of range"
   ]
  },
  {
   "cell_type": "markdown",
   "id": "54548407",
   "metadata": {},
   "source": [
    "Otra aclaración importante es que no podemos acceder a índices que no existan en la lista. Esto dará lugar a un error."
   ]
  },
  {
   "cell_type": "markdown",
   "id": "17cc5483",
   "metadata": {},
   "source": [
    "## Métodos básicos de las listas\n",
    "\n",
    "A este punto, si ya has programado en algún otro lenguaje podrás ver que las listas tienen cierta similitud con los objetos conocidos como arrays. Las listas de Python en sí son mucho más flexibles que los arrays de cualquier otro lenguaje de programación debido a que en primer lugar no tienes que definir un número máximo de tamaño y no tienen restricciones en cuanto al tipo de objeto que pueden contener. \n",
    "\n",
    "Exploremos algunos de los métodos más conocidos para las listas."
   ]
  },
  {
   "cell_type": "code",
   "execution_count": null,
   "id": "c66dffe4",
   "metadata": {},
   "outputs": [],
   "source": [
    "#Definimos una lista"
   ]
  },
  {
   "cell_type": "markdown",
   "id": "2515585a",
   "metadata": {},
   "source": [
    "El método append(object) sirve para añadir de manera \"permanente\" un item nuevo hasta el final de la lista:"
   ]
  },
  {
   "cell_type": "code",
   "execution_count": null,
   "id": "151062b1",
   "metadata": {},
   "outputs": [],
   "source": [
    "#append()\n"
   ]
  },
  {
   "cell_type": "code",
   "execution_count": null,
   "id": "9a98a39c",
   "metadata": {},
   "outputs": [],
   "source": []
  },
  {
   "cell_type": "markdown",
   "id": "cdaddce5",
   "metadata": {},
   "source": [
    "El método pop(index) quita el elemento de la lista al que el índice apunte. De manera predeterminada pop() elimina el último elemento de la lista."
   ]
  },
  {
   "cell_type": "code",
   "execution_count": null,
   "id": "25bccf7e",
   "metadata": {},
   "outputs": [],
   "source": [
    "#Pop predeterminado"
   ]
  },
  {
   "cell_type": "code",
   "execution_count": null,
   "id": "c938ae31",
   "metadata": {},
   "outputs": [],
   "source": []
  },
  {
   "cell_type": "code",
   "execution_count": null,
   "id": "19f9ad7f",
   "metadata": {},
   "outputs": [],
   "source": [
    "#Pop con índice"
   ]
  },
  {
   "cell_type": "code",
   "execution_count": null,
   "id": "f145b0eb",
   "metadata": {},
   "outputs": [],
   "source": []
  },
  {
   "cell_type": "markdown",
   "id": "b3882ef8",
   "metadata": {},
   "source": [
    "Los métodos sort() y reverse() sirven para ordenar la lista. sort() ordena de manera lógica los elementos y reverse() invierte la lista en el orden que está."
   ]
  },
  {
   "cell_type": "code",
   "execution_count": null,
   "id": "7bd119d0",
   "metadata": {},
   "outputs": [],
   "source": [
    "#Definimos una lista"
   ]
  },
  {
   "cell_type": "code",
   "execution_count": null,
   "id": "a92b5ca8",
   "metadata": {},
   "outputs": [],
   "source": [
    "#reverse()"
   ]
  },
  {
   "cell_type": "code",
   "execution_count": null,
   "id": "1ac03284",
   "metadata": {},
   "outputs": [],
   "source": []
  },
  {
   "cell_type": "code",
   "execution_count": null,
   "id": "375b245e",
   "metadata": {},
   "outputs": [],
   "source": [
    "#sort()"
   ]
  },
  {
   "cell_type": "code",
   "execution_count": null,
   "id": "e1d17080",
   "metadata": {},
   "outputs": [],
   "source": []
  },
  {
   "cell_type": "markdown",
   "id": "36e03742",
   "metadata": {},
   "source": [
    "## Listas anidadas\n",
    "En general las estructuras de datos de Python soportan el anidamiento (más conocido como nestting), esto es que estructuras de datos pueden contener estructuras de datos, como una lista dentro de una lista."
   ]
  },
  {
   "cell_type": "code",
   "execution_count": null,
   "id": "c0db6237",
   "metadata": {},
   "outputs": [],
   "source": [
    "#Nesting list"
   ]
  },
  {
   "cell_type": "code",
   "execution_count": null,
   "id": "f344395a",
   "metadata": {},
   "outputs": [],
   "source": []
  },
  {
   "cell_type": "markdown",
   "id": "efa6e276",
   "metadata": {},
   "source": [
    "Aquí el indexing funciona del mismo modo, pero ahora los elementos de esta estructura son listas."
   ]
  },
  {
   "cell_type": "code",
   "execution_count": null,
   "id": "c4e9cd2c",
   "metadata": {},
   "outputs": [],
   "source": []
  },
  {
   "cell_type": "markdown",
   "id": "a7c852ec",
   "metadata": {},
   "source": [
    "Así, si queremos ingresar a un item de las primeras listas debemos pasar un doble indexeo (similar a la notación $a_{ij}$ de álgebra líneal) de este modo `estructura[elemento_de_la_estructura][elemento_de_la_lista]`"
   ]
  },
  {
   "cell_type": "code",
   "execution_count": null,
   "id": "fce78532",
   "metadata": {},
   "outputs": [],
   "source": []
  },
  {
   "cell_type": "markdown",
   "id": "3c276bf9",
   "metadata": {},
   "source": [
    "## Comprensión de listas (List comprehensions)\n",
    "\n",
    "Una función avanzada de las listas es la list comprehension, esto permite definir de manera rápida una lista. Para entener esto a fondo se necesita comprender el ciclo `for`, así que no te preocupes si por ahora no queda del todo claro, más adelante revisaremos estos ciclos, pero resulta interesante abordar este tema."
   ]
  },
  {
   "cell_type": "code",
   "execution_count": null,
   "id": "ef088847",
   "metadata": {},
   "outputs": [],
   "source": [
    "#Contruyendo una lista con comprehension\n",
    "lista_numeros = []"
   ]
  },
  {
   "cell_type": "code",
   "execution_count": null,
   "id": "7040e1ed",
   "metadata": {},
   "outputs": [],
   "source": []
  },
  {
   "cell_type": "markdown",
   "id": "b8a42621",
   "metadata": {},
   "source": [
    "Felicidades por acabar esta sección sobre listas! \n",
    "Sigamos aprendiendo c:"
   ]
  }
 ],
 "metadata": {
  "kernelspec": {
   "display_name": "Python 3 (ipykernel)",
   "language": "python",
   "name": "python3"
  },
  "language_info": {
   "codemirror_mode": {
    "name": "ipython",
    "version": 3
   },
   "file_extension": ".py",
   "mimetype": "text/x-python",
   "name": "python",
   "nbconvert_exporter": "python",
   "pygments_lexer": "ipython3",
   "version": "3.9.7"
  }
 },
 "nbformat": 4,
 "nbformat_minor": 5
}
