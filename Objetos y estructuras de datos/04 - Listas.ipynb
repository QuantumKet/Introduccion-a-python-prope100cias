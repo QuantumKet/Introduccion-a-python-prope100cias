{
 "cells": [
  {
   "cell_type": "markdown",
   "id": "a69dc503",
   "metadata": {},
   "source": [
    "# Listas\n",
    "\n",
    "Cuando vimos el objeto String se abordó un concepto, \"secuencia\". Las listas pueden ser vistas del mismo modo como secuencias, pero a diferencia de los strings, las listas sí son mutables, es decir podemos cambiar los elementos dentro de la lista, incluso después de ser definida. \n",
    "\n",
    "A continuación revisaremos:\n",
    "\n",
    "1. Creación de listas\n",
    "2. Indexing y Slicing de listas\n",
    "3. Métodos básicos de listas\n",
    "4. Listas anidadas.\n",
    "5. Comprensión de listas (definición avanzada de una lista)\n",
    "\n",
    "Las listas son objetos muy recurrentes en Python y se pueden usar de manera muy sencilla hasta muy avanzada. \n",
    "\n",
    "## Creación de listas\n",
    "\n",
    "La manera de definir una lista es mediante el uso de corchetes [ ] y comas separando cada elemento, así la sintaxis general es `mi_lista = [objeto,objeto,objeto]`\n"
   ]
  },
  {
   "cell_type": "code",
   "execution_count": 2,
   "id": "d375e2aa",
   "metadata": {},
   "outputs": [],
   "source": [
    "#\n",
    "mi_lista = [1,2,3]"
   ]
  },
  {
   "cell_type": "markdown",
   "id": "a03a2cb6",
   "metadata": {},
   "source": [
    "Algo interesante de las listas es que pueden soportar diferentes tipos de objeto."
   ]
  },
  {
   "cell_type": "code",
   "execution_count": 3,
   "id": "ba2a728d",
   "metadata": {},
   "outputs": [],
   "source": [
    "#\n",
    "mlista = [1,'hola',1.0]"
   ]
  },
  {
   "cell_type": "markdown",
   "id": "7a238ade",
   "metadata": {},
   "source": [
    "Podemos además obtener la longitud de una lista (el número de items en ella) mediante la función `len()`"
   ]
  },
  {
   "cell_type": "code",
   "execution_count": 4,
   "id": "0ed7c2f0",
   "metadata": {},
   "outputs": [
    {
     "data": {
      "text/plain": [
       "3"
      ]
     },
     "execution_count": 4,
     "metadata": {},
     "output_type": "execute_result"
    }
   ],
   "source": [
    "len(mlista)"
   ]
  },
  {
   "cell_type": "markdown",
   "id": "86463bf4",
   "metadata": {},
   "source": [
    "## Indexing y slicing\n",
    "Al igual que con los strings, las listas al ser secuencias son accesibles desde sus índices, cabe recordar que en Python el conteo de índices inicia desde 0. La nomenclatura es del tipo `[inicio:fin]`"
   ]
  },
  {
   "cell_type": "code",
   "execution_count": 5,
   "id": "4668489f",
   "metadata": {},
   "outputs": [],
   "source": [
    "#Definimos una lista\n",
    "lista1 = [1,2,3,4,5,6]"
   ]
  },
  {
   "cell_type": "code",
   "execution_count": 10,
   "id": "ebef97aa",
   "metadata": {},
   "outputs": [
    {
     "data": {
      "text/plain": [
       "3"
      ]
     },
     "execution_count": 10,
     "metadata": {},
     "output_type": "execute_result"
    }
   ],
   "source": [
    "#Tomamos algún elemento\n",
    "lista1[2]"
   ]
  },
  {
   "cell_type": "code",
   "execution_count": 8,
   "id": "df7483e1",
   "metadata": {},
   "outputs": [
    {
     "data": {
      "text/plain": [
       "[3, 4, 5, 6]"
      ]
     },
     "execution_count": 8,
     "metadata": {},
     "output_type": "execute_result"
    }
   ],
   "source": [
    "#Tomamos un elemento y todo lo que vaya después de él\n",
    "lista1[2:]"
   ]
  },
  {
   "cell_type": "code",
   "execution_count": 9,
   "id": "2375cba0",
   "metadata": {},
   "outputs": [
    {
     "data": {
      "text/plain": [
       "[1, 2]"
      ]
     },
     "execution_count": 9,
     "metadata": {},
     "output_type": "execute_result"
    }
   ],
   "source": [
    "#Tomamos todo lo anterior a cierto índice\n",
    "lista1[:2]"
   ]
  },
  {
   "cell_type": "markdown",
   "id": "e3a49cba",
   "metadata": {},
   "source": [
    "Podemos usar del mismo modo la concatenación de listas, lo cual dará de resultado un nueva lista."
   ]
  },
  {
   "cell_type": "code",
   "execution_count": 11,
   "id": "702057a5",
   "metadata": {},
   "outputs": [
    {
     "data": {
      "text/plain": [
       "[1, 2, 3, 4, 5, 6, 'lista2']"
      ]
     },
     "execution_count": 11,
     "metadata": {},
     "output_type": "execute_result"
    }
   ],
   "source": [
    "#Concatenando una lista\n",
    "lista2 = ['lista2']\n",
    "lista1 + lista2"
   ]
  },
  {
   "cell_type": "markdown",
   "id": "e76f0359",
   "metadata": {},
   "source": [
    "Del mismo modo podemos reasignar la lista usando la lista"
   ]
  },
  {
   "cell_type": "code",
   "execution_count": 13,
   "id": "0e1516b5",
   "metadata": {},
   "outputs": [
    {
     "data": {
      "text/plain": [
       "[1, 2, 3, 4, 5, 6, 'lista2', 'lista2']"
      ]
     },
     "execution_count": 13,
     "metadata": {},
     "output_type": "execute_result"
    }
   ],
   "source": [
    "#Reasignación recursiva\n",
    "lista1 = lista1 + lista2\n",
    "lista1"
   ]
  },
  {
   "cell_type": "markdown",
   "id": "0a761d8d",
   "metadata": {},
   "source": [
    "Y por supuesto mediante el uso del operador * podemos duplicar, triplicar, etc la propia lista"
   ]
  },
  {
   "cell_type": "code",
   "execution_count": 14,
   "id": "ac9e5fa0",
   "metadata": {},
   "outputs": [],
   "source": [
    "#Duplicando una lista\n",
    "lista3 = [0]*10"
   ]
  },
  {
   "cell_type": "code",
   "execution_count": 15,
   "id": "e742ed42",
   "metadata": {},
   "outputs": [
    {
     "data": {
      "text/plain": [
       "[0, 0, 0, 0, 0, 0, 0, 0, 0, 0]"
      ]
     },
     "execution_count": 15,
     "metadata": {},
     "output_type": "execute_result"
    }
   ],
   "source": [
    "lista3"
   ]
  },
  {
   "cell_type": "markdown",
   "id": "64cb905f",
   "metadata": {},
   "source": [
    "$\\textbf{Observación}$ si no se reasigna o se guardan los resultados anteriores en una variable, las operaciones resultan ser temporales."
   ]
  },
  {
   "cell_type": "code",
   "execution_count": 17,
   "id": "9b3252cd",
   "metadata": {},
   "outputs": [
    {
     "ename": "IndexError",
     "evalue": "list index out of range",
     "output_type": "error",
     "traceback": [
      "\u001b[1;31m---------------------------------------------------------------------------\u001b[0m",
      "\u001b[1;31mIndexError\u001b[0m                                Traceback (most recent call last)",
      "\u001b[1;32m~\\AppData\\Local\\Temp/ipykernel_15916/688224186.py\u001b[0m in \u001b[0;36m<module>\u001b[1;34m\u001b[0m\n\u001b[0;32m      1\u001b[0m \u001b[1;31m#Out of range\u001b[0m\u001b[1;33m\u001b[0m\u001b[1;33m\u001b[0m\u001b[0m\n\u001b[0;32m      2\u001b[0m \u001b[0mlista4\u001b[0m \u001b[1;33m=\u001b[0m \u001b[1;33m[\u001b[0m\u001b[1;36m1\u001b[0m\u001b[1;33m,\u001b[0m\u001b[1;36m2\u001b[0m\u001b[1;33m]\u001b[0m\u001b[1;33m\u001b[0m\u001b[1;33m\u001b[0m\u001b[0m\n\u001b[1;32m----> 3\u001b[1;33m \u001b[0mlista4\u001b[0m\u001b[1;33m[\u001b[0m\u001b[1;36m2\u001b[0m\u001b[1;33m]\u001b[0m\u001b[1;33m\u001b[0m\u001b[1;33m\u001b[0m\u001b[0m\n\u001b[0m",
      "\u001b[1;31mIndexError\u001b[0m: list index out of range"
     ]
    }
   ],
   "source": [
    "#Out of range\n",
    "lista4 = [1,2]\n",
    "lista4[2]"
   ]
  },
  {
   "cell_type": "markdown",
   "id": "54548407",
   "metadata": {},
   "source": [
    "Otra aclaración importante es que no podemos acceder a índices que no existan en la lista. Esto dará lugar a un error."
   ]
  },
  {
   "cell_type": "markdown",
   "id": "17cc5483",
   "metadata": {},
   "source": [
    "## Métodos básicos de las listas\n",
    "\n",
    "A este punto, si ya has programado en algún otro lenguaje podrás ver que las listas tienen cierta similitud con los objetos conocidos como arrays. Las listas de Python en sí son mucho más flexibles que los arrays de cualquier otro lenguaje de programación debido a que en primer lugar no tienes que definir un número máximo de tamaño y no tienen restricciones en cuanto al tipo de objeto que pueden contener. \n",
    "\n",
    "Exploremos algunos de los métodos más conocidos para las listas."
   ]
  },
  {
   "cell_type": "code",
   "execution_count": 18,
   "id": "c66dffe4",
   "metadata": {},
   "outputs": [],
   "source": [
    "#Definimos una lista\n",
    "lista5 = [1,2,3,4,5]"
   ]
  },
  {
   "cell_type": "markdown",
   "id": "2515585a",
   "metadata": {},
   "source": [
    "El método append(object) sirve para añadir de manera \"permanente\" un item nuevo hasta el final de la lista:"
   ]
  },
  {
   "cell_type": "code",
   "execution_count": 19,
   "id": "151062b1",
   "metadata": {},
   "outputs": [],
   "source": [
    "#append()\n",
    "lista5.append(6)"
   ]
  },
  {
   "cell_type": "code",
   "execution_count": 20,
   "id": "9a98a39c",
   "metadata": {},
   "outputs": [
    {
     "data": {
      "text/plain": [
       "[1, 2, 3, 4, 5, 6]"
      ]
     },
     "execution_count": 20,
     "metadata": {},
     "output_type": "execute_result"
    }
   ],
   "source": [
    "lista5"
   ]
  },
  {
   "cell_type": "markdown",
   "id": "cdaddce5",
   "metadata": {},
   "source": [
    "El método pop(index) quita el elemento de la lista al que el índice apunte. De manera predeterminada pop() elimina el último elemento de la lista."
   ]
  },
  {
   "cell_type": "code",
   "execution_count": 21,
   "id": "25bccf7e",
   "metadata": {},
   "outputs": [
    {
     "data": {
      "text/plain": [
       "6"
      ]
     },
     "execution_count": 21,
     "metadata": {},
     "output_type": "execute_result"
    }
   ],
   "source": [
    "#Pop predeterminado\n",
    "lista5.pop()"
   ]
  },
  {
   "cell_type": "code",
   "execution_count": 22,
   "id": "c938ae31",
   "metadata": {},
   "outputs": [
    {
     "data": {
      "text/plain": [
       "[1, 2, 3, 4, 5]"
      ]
     },
     "execution_count": 22,
     "metadata": {},
     "output_type": "execute_result"
    }
   ],
   "source": [
    "lista5"
   ]
  },
  {
   "cell_type": "code",
   "execution_count": 23,
   "id": "19f9ad7f",
   "metadata": {},
   "outputs": [
    {
     "data": {
      "text/plain": [
       "1"
      ]
     },
     "execution_count": 23,
     "metadata": {},
     "output_type": "execute_result"
    }
   ],
   "source": [
    "#Pop con índice\n",
    "lista5.pop(0)"
   ]
  },
  {
   "cell_type": "code",
   "execution_count": 24,
   "id": "f145b0eb",
   "metadata": {},
   "outputs": [
    {
     "data": {
      "text/plain": [
       "[2, 3, 4, 5]"
      ]
     },
     "execution_count": 24,
     "metadata": {},
     "output_type": "execute_result"
    }
   ],
   "source": [
    "lista5"
   ]
  },
  {
   "cell_type": "markdown",
   "id": "b3882ef8",
   "metadata": {},
   "source": [
    "Los métodos sort() y reverse() sirven para ordenar la lista. sort() ordena de manera lógica los elementos y reverse() invierte la lista en el orden que está."
   ]
  },
  {
   "cell_type": "code",
   "execution_count": 28,
   "id": "7bd119d0",
   "metadata": {},
   "outputs": [],
   "source": [
    "#Definimos una lista\n",
    "lista6 = [4,1,10,5]"
   ]
  },
  {
   "cell_type": "code",
   "execution_count": 29,
   "id": "a92b5ca8",
   "metadata": {},
   "outputs": [],
   "source": [
    "#reverse()\n",
    "lista6.reverse()"
   ]
  },
  {
   "cell_type": "code",
   "execution_count": 30,
   "id": "1ac03284",
   "metadata": {},
   "outputs": [
    {
     "data": {
      "text/plain": [
       "[5, 10, 1, 4]"
      ]
     },
     "execution_count": 30,
     "metadata": {},
     "output_type": "execute_result"
    }
   ],
   "source": [
    "lista6"
   ]
  },
  {
   "cell_type": "code",
   "execution_count": 31,
   "id": "375b245e",
   "metadata": {},
   "outputs": [],
   "source": [
    "#sort()\n",
    "lista6.sort()"
   ]
  },
  {
   "cell_type": "code",
   "execution_count": 32,
   "id": "e1d17080",
   "metadata": {},
   "outputs": [
    {
     "data": {
      "text/plain": [
       "[1, 4, 5, 10]"
      ]
     },
     "execution_count": 32,
     "metadata": {},
     "output_type": "execute_result"
    }
   ],
   "source": [
    "lista6"
   ]
  },
  {
   "cell_type": "markdown",
   "id": "36e03742",
   "metadata": {},
   "source": [
    "## Listas anidadas\n",
    "En general las estructuras de datos de Python soportan el anidamiento (más conocido como nestting), esto es que estructuras de datos pueden contener estructuras de datos, como una lista dentro de una lista."
   ]
  },
  {
   "cell_type": "code",
   "execution_count": 36,
   "id": "c0db6237",
   "metadata": {},
   "outputs": [],
   "source": [
    "#Nesting list\n",
    "lista7 = [[1,2,3],[1,2,4],[1,2,3]]"
   ]
  },
  {
   "cell_type": "code",
   "execution_count": 37,
   "id": "f344395a",
   "metadata": {},
   "outputs": [
    {
     "data": {
      "text/plain": [
       "[[1, 2, 3], [1, 2, 4], [1, 2, 3]]"
      ]
     },
     "execution_count": 37,
     "metadata": {},
     "output_type": "execute_result"
    }
   ],
   "source": [
    "lista7"
   ]
  },
  {
   "cell_type": "markdown",
   "id": "efa6e276",
   "metadata": {},
   "source": [
    "Aquí el indexing funciona del mismo modo, pero ahora los elementos de esta estructura son listas."
   ]
  },
  {
   "cell_type": "code",
   "execution_count": 38,
   "id": "c4e9cd2c",
   "metadata": {},
   "outputs": [
    {
     "data": {
      "text/plain": [
       "2"
      ]
     },
     "execution_count": 38,
     "metadata": {},
     "output_type": "execute_result"
    }
   ],
   "source": [
    "lista7[2][1]"
   ]
  },
  {
   "cell_type": "markdown",
   "id": "a7c852ec",
   "metadata": {},
   "source": [
    "Así, si queremos ingresar a un item de las primeras listas debemos pasar un doble indexeo (similar a la notación $a_{ij}$ de álgebra líneal) de este modo `estructura[elemento_de_la_estructura][elemento_de_la_lista]`"
   ]
  },
  {
   "cell_type": "code",
   "execution_count": 39,
   "id": "fce78532",
   "metadata": {},
   "outputs": [
    {
     "data": {
      "text/plain": [
       "3"
      ]
     },
     "execution_count": 39,
     "metadata": {},
     "output_type": "execute_result"
    }
   ],
   "source": [
    "lista7[2][2]"
   ]
  },
  {
   "cell_type": "markdown",
   "id": "3c276bf9",
   "metadata": {},
   "source": [
    "## Comprensión de listas (List comprehensions)\n",
    "\n",
    "Una función avanzada de las listas es la list comprehension, esto permite definir de manera rápida una lista. Para entener esto a fondo se necesita comprender el ciclo `for`, así que no te preocupes si por ahora no queda del todo claro, más adelante revisaremos estos ciclos, pero resulta interesante abordar este tema."
   ]
  },
  {
   "cell_type": "code",
   "execution_count": 52,
   "id": "ef088847",
   "metadata": {},
   "outputs": [],
   "source": [
    "#Contruyendo una lista con comprehension\n",
    "lista_numeros = [x for x in range(5,16,2)]"
   ]
  },
  {
   "cell_type": "code",
   "execution_count": 53,
   "id": "7040e1ed",
   "metadata": {},
   "outputs": [
    {
     "data": {
      "text/plain": [
       "[5, 7, 9, 11, 13, 15]"
      ]
     },
     "execution_count": 53,
     "metadata": {},
     "output_type": "execute_result"
    }
   ],
   "source": [
    "lista_numeros"
   ]
  },
  {
   "cell_type": "markdown",
   "id": "b8a42621",
   "metadata": {},
   "source": [
    "Felicidades por acabar esta sección sobre listas! \n",
    "Sigamos aprendiendo c:"
   ]
  }
 ],
 "metadata": {
  "kernelspec": {
   "display_name": "Python 3 (ipykernel)",
   "language": "python",
   "name": "python3"
  },
  "language_info": {
   "codemirror_mode": {
    "name": "ipython",
    "version": 3
   },
   "file_extension": ".py",
   "mimetype": "text/x-python",
   "name": "python",
   "nbconvert_exporter": "python",
   "pygments_lexer": "ipython3",
   "version": "3.9.7"
  }
 },
 "nbformat": 4,
 "nbformat_minor": 5
}
