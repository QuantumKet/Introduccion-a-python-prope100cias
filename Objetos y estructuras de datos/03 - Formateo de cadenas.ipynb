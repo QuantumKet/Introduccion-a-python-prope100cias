{
 "cells": [
  {
   "cell_type": "markdown",
   "id": "6054fef8",
   "metadata": {},
   "source": [
    "# Formateo de Strings\n",
    "\n",
    "El formateo de cadenas nos permite añadir items dentro de un String en lugar de tratar de realizar concatenaciones complejas. Por ejemplo\n",
    "\n",
    "`alumno = 'Galois'\n",
    " puntos = 50`\n",
    " \n",
    "De manera clásica si queremos imprimir una cadena que contenga estos datos haríamos \n",
    "\n",
    "`'El alumno' + alumno + 'obtuvo' + str(puntos) + ' puntos.'`\n",
    "\n",
    "Sin embargo podemos simplificar este trabajo de este modo\n",
    "\n",
    "`f'El alumno {alumno} obtuvo {puntos} puntos.'`\n",
    "\n",
    "En general, hay tres maneras de formatear un string:\n",
    "\n",
    "1. Usando el símbolo % (método más viejo).\n",
    "2. Usando el método `format()` de los strings.\n",
    "3. Usando f-strings (el método más nuevo desde Python 3.6)\n",
    "\n",
    "Es común encontrar estas tres maneras en códigos ajenos o incluso usarlos nosotros. Así que a continuación revisaremos de manera rápida cada uno de ellos.\n",
    "\n",
    "### Formateando usando %\n",
    "\n",
    "El símbolo `%` usado en Strings es conocido como el \"operador de formateo de cadenas\", así podemos usar `%s` para inyectar strings dentro de nuestra orden de impresión."
   ]
  },
  {
   "cell_type": "code",
   "execution_count": null,
   "id": "75264b63",
   "metadata": {},
   "outputs": [],
   "source": [
    "print('Vamos a inyectar %s aquí.' %'una cadena')"
   ]
  },
  {
   "cell_type": "markdown",
   "id": "0286dae7",
   "metadata": {},
   "source": [
    "También se pueden inyectar múltiples objetos poniendolos dentro de una tupla después del operador `%`"
   ]
  },
  {
   "cell_type": "code",
   "execution_count": null,
   "id": "1f6c715c",
   "metadata": {},
   "outputs": [],
   "source": [
    "print('Vamos a inyectar %s aquí, y %s aquí' %('una cadena','otra'))"
   ]
  },
  {
   "cell_type": "markdown",
   "id": "25da0048",
   "metadata": {},
   "source": [
    "Incluso pasar nombres de variables como parámetros"
   ]
  },
  {
   "cell_type": "code",
   "execution_count": null,
   "id": "74d3e3b1",
   "metadata": {},
   "outputs": [],
   "source": [
    "x,y = 'una cadena','otra'\n",
    "print('Vamos a inyectar %s aquí, y %s aquí' %(x,y))"
   ]
  },
  {
   "cell_type": "markdown",
   "id": "8e119625",
   "metadata": {},
   "source": [
    "### Métodos de formateo avanzados\n",
    "\n",
    "En general existen dos métodos para formatear cadenas mediante el uso de `%`, estos son `%s` y `%r` los cuales convierten cualquier tipo de objeto en Python en cadenas mediante los métodos `str()` y `repr()`. Este último regresa la representación de cadena de un objeto incluidos cáracteres de escape y comillas "
   ]
  },
  {
   "cell_type": "code",
   "execution_count": null,
   "id": "bd4802cc",
   "metadata": {},
   "outputs": [],
   "source": [
    "print('Su nombre es %s.' %'Fred')\n",
    "print('Su nombre es %r.' %'Fred')"
   ]
  },
  {
   "cell_type": "markdown",
   "id": "b96dbb04",
   "metadata": {},
   "source": [
    "Otro ejemplo es el de ingresar una tabulación `\\t`"
   ]
  },
  {
   "cell_type": "code",
   "execution_count": null,
   "id": "0716deea",
   "metadata": {},
   "outputs": [],
   "source": [
    "print('El paro duró %s.' %'esto \\tde tiempo')\n",
    "print('El paro duró %r.' %'esto \\tde tiempo')"
   ]
  },
  {
   "cell_type": "markdown",
   "id": "23896b15",
   "metadata": {},
   "source": [
    "Así como el operador `%s` convierte cualquier ojeto en una cadena, incluidos int y float, el uso del operador `%d` convierte todo en un entero, sin redondear."
   ]
  },
  {
   "cell_type": "code",
   "execution_count": null,
   "id": "63b1f427",
   "metadata": {},
   "outputs": [],
   "source": [
    "print('Hoy dormí %s horas.' %2.55)\n",
    "print('Hoy dormí %d horas.' %2.55)   "
   ]
  },
  {
   "cell_type": "markdown",
   "id": "565b200a",
   "metadata": {},
   "source": [
    "#### Ajustando la presición de números tipo float\n",
    "\n",
    "Los números con punto décimal usan el formato `%5.2f` donde 5 es el número mínimo de caracteres que el string debería contener, si la longitud del número no es así de larga, entonces se rellena con espacios en blanco. El siguiente elemento `.2f` indica cuántos números mostrar después del punto décimal."
   ]
  },
  {
   "cell_type": "code",
   "execution_count": null,
   "id": "519b25a0",
   "metadata": {},
   "outputs": [],
   "source": [
    "print('El número es: %5.2f' %(13.144))"
   ]
  },
  {
   "cell_type": "code",
   "execution_count": null,
   "id": "6e63b054",
   "metadata": {},
   "outputs": [],
   "source": [
    "print('El número es: %1.0f' %(13.144))"
   ]
  },
  {
   "cell_type": "code",
   "execution_count": null,
   "id": "fd72fe45",
   "metadata": {},
   "outputs": [],
   "source": [
    "print('El número es: %1.5f' %(13.144))"
   ]
  },
  {
   "cell_type": "code",
   "execution_count": null,
   "id": "91631c9a",
   "metadata": {},
   "outputs": [],
   "source": [
    "print('El número es: %10.2f' %(13.144))"
   ]
  },
  {
   "cell_type": "code",
   "execution_count": null,
   "id": "e8bf225e",
   "metadata": {},
   "outputs": [],
   "source": [
    "print('El número es: %25.2f' %(13.144))"
   ]
  },
  {
   "cell_type": "markdown",
   "id": "c0488605",
   "metadata": {},
   "source": [
    "#### Formateo múltiple\n",
    "\n",
    "Podemos usar más de un operador de conversión en la misma sentencia de impresión"
   ]
  },
  {
   "cell_type": "code",
   "execution_count": null,
   "id": "6d0374bf",
   "metadata": {},
   "outputs": [],
   "source": [
    "print('Primero: %s, Segundo: %5.2f, Tercero: %r' %('Hola!',3.1415,'Adios!'))"
   ]
  },
  {
   "cell_type": "markdown",
   "id": "5cd7c809",
   "metadata": {},
   "source": [
    "### Usando el método `format()`\n",
    "\n",
    "Una forma más efectiva y fácil de formatear objetos dentro de un string en la sentencia de impresión es el uso de `format()` cuya sintáxis es\n",
    "\n",
    "`'Texto aquí {} pero tambien aquí {}'.format('ex1','ex2')`"
   ]
  },
  {
   "cell_type": "code",
   "execution_count": null,
   "id": "7534173e",
   "metadata": {},
   "outputs": [],
   "source": [
    "print('Esto es un string con una {}'.format('inserción'))"
   ]
  },
  {
   "cell_type": "markdown",
   "id": "4956cc33",
   "metadata": {},
   "source": [
    "### Ventajas de usar `format()`"
   ]
  },
  {
   "cell_type": "code",
   "execution_count": null,
   "id": "7f9af272",
   "metadata": {},
   "outputs": [],
   "source": [
    "#Insertar objetos usando sus índices como posición\n",
    "print('El {1} {2} {0}'.format('cool','Prope100cias','es'))"
   ]
  },
  {
   "cell_type": "code",
   "execution_count": null,
   "id": "871a541f",
   "metadata": {},
   "outputs": [],
   "source": [
    "#Insertar objetos mediante palabras clave\n",
    "print('Primero: {a}, Segundo: {b}, Tercero: {c}'.format(a=1,b='dos',c=14.5))"
   ]
  },
  {
   "cell_type": "code",
   "execution_count": null,
   "id": "05fc472c",
   "metadata": {},
   "outputs": [],
   "source": [
    "#Insertar el mismo objeto más de una vez\n",
    "print('Un %s ahorrado es un %s ganado' %('peso','peso'))\n",
    "\n",
    "print('Un {p} ahorrado es un {p} ganado'.format(p='peso'))"
   ]
  },
  {
   "cell_type": "markdown",
   "id": "0be352ed",
   "metadata": {},
   "source": [
    "### Alineación, relleno y precisión usando `format()`\n",
    "\n",
    "Mediante el uso de las llaves { } podemos asignarle al campo longitud, alinearlo a la derecha o izquierda, redondear parametros y más."
   ]
  },
  {
   "cell_type": "code",
   "execution_count": null,
   "id": "4af3b336",
   "metadata": {},
   "outputs": [],
   "source": [
    "print('{0:8} | {1:9}'.format('Fruta', 'Cantidad'))\n",
    "print('{0:8} | {1:9}'.format('Mangos', 3.))\n",
    "print('{0:8} | {1:9}'.format('Uvas', 10))"
   ]
  },
  {
   "cell_type": "markdown",
   "id": "cb5ef4d4",
   "metadata": {},
   "source": [
    "Por defecto `format()` alinea el texto a la izquierda y los números a la derecha.\n",
    "\n",
    "Esto se puede modificar mediante el uso de `<`,`^` o `>` para alinear a la izquierda, centro o derecha respectivamente."
   ]
  },
  {
   "cell_type": "code",
   "execution_count": null,
   "id": "e30a3dcc",
   "metadata": {},
   "outputs": [],
   "source": [
    "print('{0:<10} | {1:^10} | {2:>10}'.format('Izquierda','Centro','Derecha'))\n",
    "print('{0:<10} | {1:^10} | {2:>10}'.format(11,22,33))"
   ]
  },
  {
   "cell_type": "markdown",
   "id": "3aeead5b",
   "metadata": {},
   "source": [
    "Podemos complementar el operador de alineación con un relleno para ver los espacios"
   ]
  },
  {
   "cell_type": "code",
   "execution_count": null,
   "id": "682805bf",
   "metadata": {},
   "outputs": [],
   "source": [
    "print('{0:=<10} | {1:-^10} | {2:.>10}'.format('Izquierda','Centro','Derecha'))\n",
    "print('{0:=<10} | {1:-^10} | {2:.>10}'.format(11,22,33))"
   ]
  },
  {
   "cell_type": "markdown",
   "id": "7b79b8bc",
   "metadata": {},
   "source": [
    "Y el manejo de presición de los floats así como su margen es tratada casi igual al método viejo."
   ]
  },
  {
   "cell_type": "code",
   "execution_count": null,
   "id": "c75da295",
   "metadata": {},
   "outputs": [],
   "source": [
    "print('Imprimimos con longitud de 10 con dos décimales:%10.2f' %13.579)\n",
    "print('Imprimimos con longitud de 10 con dos décimales:{0:10.2f}'.format(13.579))"
   ]
  },
  {
   "cell_type": "markdown",
   "id": "fb20a1a7",
   "metadata": {},
   "source": [
    "### Formateando con String Literals (f-strings)"
   ]
  },
  {
   "cell_type": "markdown",
   "id": "0e739849",
   "metadata": {},
   "source": [
    "Este tipo de strings fueron añadidos en Python 3.6 y ofrecen grandes beneficios sobre `format()`. La principal es el llamado directo de variables dentro de la cadena en lugar de pasarlas con un método aparte."
   ]
  },
  {
   "cell_type": "code",
   "execution_count": null,
   "id": "2c3cebbf",
   "metadata": {},
   "outputs": [],
   "source": [
    "nombre = 'Paco el chato'\n",
    "\n",
    "print(f'')"
   ]
  },
  {
   "cell_type": "markdown",
   "id": "20973665",
   "metadata": {},
   "source": [
    "Se usa `!r` para obtener la representación de cadena de la variable"
   ]
  },
  {
   "cell_type": "code",
   "execution_count": null,
   "id": "c87d632f",
   "metadata": {},
   "outputs": [],
   "source": [
    "print(f\"Su nombre es {nombre!r}\")"
   ]
  },
  {
   "cell_type": "markdown",
   "id": "3e604328",
   "metadata": {},
   "source": [
    "El formateo de floats es del tipo `resultado: {valor:{longitud}.{presición}}`"
   ]
  },
  {
   "cell_type": "code",
   "execution_count": null,
   "id": "e2b79d75",
   "metadata": {},
   "outputs": [],
   "source": [
    "num = 23.45678\n",
    "print(\"Mi cadena de longitud 10 con 4 décimales es:{0:10.4f}\".format(num))\n",
    "print(f\"Mi cadena de longitud 10 con 4 décimales es:{num:{10}.{6}}\")"
   ]
  },
  {
   "cell_type": "markdown",
   "id": "35c0b3fc",
   "metadata": {},
   "source": [
    "En f-strings la presición se refiere al número total de digitos, no solo aquellos después del punto décimal. Esto se acopla más cerca con notación científica y análisis de datos. Desafortunadamente los f-strings no rellenan a la derecha del punto incluso si la presición lo permite"
   ]
  },
  {
   "cell_type": "code",
   "execution_count": null,
   "id": "df58aea9",
   "metadata": {},
   "outputs": [],
   "source": [
    "num = 23.45\n",
    "print(\"Mi cadena de longitud 10 con 4 décimales es:{0:10.4f}\".format(num))\n",
    "print(f\"Mi cadena de longitud 10 con 4 décimales es:{num:{10}.{6}}\")"
   ]
  },
  {
   "cell_type": "markdown",
   "id": "bf4a4a89",
   "metadata": {},
   "source": [
    "Si llega a ser muy necesario, siempre se puede hacer uso de la sintáxis de `format()` dentro del f-string"
   ]
  },
  {
   "cell_type": "code",
   "execution_count": null,
   "id": "f31f8c51",
   "metadata": {},
   "outputs": [],
   "source": [
    "num = 23.45\n",
    "print(\"Mi cadena de longitud 10 con 4 décimales es:{0:10.4f}\".format(num))\n",
    "print(f\"Mi cadena de longitud 10 con 4 décimales es:{num:10.4f}\")"
   ]
  },
  {
   "cell_type": "markdown",
   "id": "e337ee85",
   "metadata": {},
   "source": [
    "¡Felicidades! Ahora sabes lo básico de formateo de Strings."
   ]
  }
 ],
 "metadata": {
  "kernelspec": {
   "display_name": "Python 3 (ipykernel)",
   "language": "python",
   "name": "python3"
  },
  "language_info": {
   "codemirror_mode": {
    "name": "ipython",
    "version": 3
   },
   "file_extension": ".py",
   "mimetype": "text/x-python",
   "name": "python",
   "nbconvert_exporter": "python",
   "pygments_lexer": "ipython3",
   "version": "3.9.7"
  }
 },
 "nbformat": 4,
 "nbformat_minor": 5
}
