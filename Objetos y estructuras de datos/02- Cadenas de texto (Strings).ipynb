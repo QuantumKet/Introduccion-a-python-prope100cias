{
 "cells": [
  {
   "cell_type": "markdown",
   "id": "3524ac22",
   "metadata": {},
   "source": [
    "# Strings\n",
    "\n",
    "El objeto String técnicamente es una cadena de texto y son usadas para escribir información de manera textual. En especial Python trata a las cadenas de texto como secuencias, esto es, Python tiene la capacidad de rastrear cada elemento de la cadena de texto de manera secuencial, así, por ejemplo la cadena \"Prope100cias\" es interpretada cómo una secuencia de letras y números en un orden específico. Esto nos permite usar las cadenas en diversos modos, como indexando u obteniendo letras en partícular. \n",
    "\n",
    "Con esto en mente podemos empezar a estudiar cadenas, por ahora abordaremos los temas más básicos:\n",
    "\n",
    "1. Crear cadenas\n",
    "2. Impresión de cadenas\n",
    "3. Metodos de las cadenas\n",
    "4. Indexing y Slicing\n",
    "5. Propiedades de las cadenas\n",
    "6. Formateando cadenas"
   ]
  },
  {
   "cell_type": "markdown",
   "id": "2f396d82",
   "metadata": {},
   "source": [
    "## Creando cadenas\n",
    "\n",
    "Crear un String es realmente sencillo, basta con poner entre comillas dobles \"\" o simples '' el contenido de la cadena"
   ]
  },
  {
   "cell_type": "code",
   "execution_count": null,
   "id": "4537e90b",
   "metadata": {},
   "outputs": [],
   "source": [
    "#Una palabra"
   ]
  },
  {
   "cell_type": "code",
   "execution_count": null,
   "id": "5fa222dc",
   "metadata": {},
   "outputs": [],
   "source": [
    "#Una frase"
   ]
  },
  {
   "cell_type": "code",
   "execution_count": null,
   "id": "e41a30fe",
   "metadata": {},
   "outputs": [],
   "source": [
    "#Con doble comilla"
   ]
  },
  {
   "cell_type": "code",
   "execution_count": null,
   "id": "fb276eb0",
   "metadata": {},
   "outputs": [],
   "source": [
    "#CUIDADO CON LAS COMILLAS"
   ]
  },
  {
   "cell_type": "code",
   "execution_count": null,
   "id": "1bab7426",
   "metadata": {},
   "outputs": [],
   "source": [
    "#Buen tratado de comillas"
   ]
  },
  {
   "cell_type": "markdown",
   "id": "43bef027",
   "metadata": {},
   "source": [
    "## Impresión de cadenas\n",
    "\n",
    "En jupyter y corriendo python desde la consola basta con ingresar la cadena que deseamos imprimir, en especial en Jupyter como ya hemos visto la impresión de cualquier dato basta con ingresar lo que se desea imprimir hasta el final de la celda."
   ]
  },
  {
   "cell_type": "code",
   "execution_count": null,
   "id": "73017054",
   "metadata": {},
   "outputs": [],
   "source": [
    "'Mira mamá imprimí una cadena'"
   ]
  },
  {
   "cell_type": "code",
   "execution_count": null,
   "id": "3f896f0c",
   "metadata": {},
   "outputs": [],
   "source": [
    "'Quiero imprimir una cadena'\n",
    "'Mejor dos'"
   ]
  },
  {
   "cell_type": "markdown",
   "id": "b0d186bc",
   "metadata": {},
   "source": [
    "Notemos que no se pueden imprimir múltiples cadenas usando esta técnica. Python cuenta con una función especial para imprimir cadenas llamada `print()`"
   ]
  },
  {
   "cell_type": "code",
   "execution_count": null,
   "id": "fe383f1d",
   "metadata": {},
   "outputs": [],
   "source": [
    "#Ejemplo\n",
    "print('Esta cadena se va imprimir')\n",
    "print(\"Y esta igual\")\n",
    "print(\"Podemos imprimir de manera ilimitada\")"
   ]
  },
  {
   "cell_type": "code",
   "execution_count": null,
   "id": "8b2d9390",
   "metadata": {},
   "outputs": [],
   "source": [
    "print('Usa \\n para imprimir un salto de línea')\n",
    "print('\\n')\n",
    "print('Trucazo ¿no?')"
   ]
  },
  {
   "cell_type": "markdown",
   "id": "6b02ca7c",
   "metadata": {},
   "source": [
    "## Métodos básicos de String\n",
    "\n",
    "Los objetos en Python generalmente cuentan con métodos propios. De manera general un método es una función dentro de la clase de un objeto (este tema sale de los alcances del curso pero se abordará quizá en otro curso o puedes aprender más leyendo sobre Programación Orientada a Objetos (OOP)), estas funciones pueden realizar operaciones o acciones en el propio objeto.\n",
    "\n",
    "A lo largo del curso estaremos usando métodos ya construidos dentro las distintas librerías básicas de Python por lo cual es importante saber como llamarlos. Los métodos son llamados o invocados de la forma:\n",
    "\n",
    "`object.method(parameters)`\n",
    "\n",
    "Los parametros son argumentos extra que se le mandan a los métodos.\n",
    "\n",
    "Con esta básica explicación podemos revisar algunos de los métodos integrados del objeto String."
   ]
  },
  {
   "cell_type": "code",
   "execution_count": null,
   "id": "63c412f5",
   "metadata": {},
   "outputs": [],
   "source": [
    "#Primero definimos una cadena y la guardamos en una variable\n",
    "s = \"Abuelita soy tu nieto y ya llegué\""
   ]
  },
  {
   "cell_type": "code",
   "execution_count": null,
   "id": "0288f080",
   "metadata": {},
   "outputs": [],
   "source": [
    "#upper() nos ayuda a poner en mayúsculas toda la cadena\n",
    "s.upper()"
   ]
  },
  {
   "cell_type": "code",
   "execution_count": null,
   "id": "4aa31392",
   "metadata": {},
   "outputs": [],
   "source": [
    "#lower() nos ayuda por el contrario a poner en minúsculas toda la cadena\n",
    "s.lower()"
   ]
  },
  {
   "cell_type": "code",
   "execution_count": null,
   "id": "bc903ee9",
   "metadata": {},
   "outputs": [],
   "source": [
    "# split() separa la cadena después de un carácter arbitrario, el método por predeterminado separa la cadena por espacios en blanco\n",
    "s.split()"
   ]
  },
  {
   "cell_type": "code",
   "execution_count": null,
   "id": "bd7b543c",
   "metadata": {},
   "outputs": [],
   "source": [
    "#Seleccionemos por ejemplo separar la cadena usando la letra 'y', esto separa la cadena en este carácter pero no lo incluye\n",
    "s.split('y')"
   ]
  },
  {
   "cell_type": "code",
   "execution_count": null,
   "id": "cb4ea071",
   "metadata": {},
   "outputs": [],
   "source": [
    "# Por medio de la función len() podemos además hallar la longitud de la cadena\n",
    "len(s)"
   ]
  },
  {
   "cell_type": "markdown",
   "id": "43fdcb4a",
   "metadata": {},
   "source": [
    "Existen muchos más métodos de String que podremos ver más adelante. Pero de manera básica basta con estos. "
   ]
  },
  {
   "cell_type": "markdown",
   "id": "f134dd36",
   "metadata": {},
   "source": [
    "## Indexing\n",
    "Sabemos que las cadenas en Python son secuencias esto significa que podemos usar índices para acceder a distintas partes de la secuencia. Se usan corchetes [ ] después del objeto para llamar al índice. $\\textbf{Aclaración: }$ en Python y en la mayoría de lenguajes de programación, el conteo de índices inicia desde 0. \n",
    "\n",
    "Creemos una cadena y comencemos a trabajar."
   ]
  },
  {
   "cell_type": "code",
   "execution_count": null,
   "id": "831b8ede",
   "metadata": {},
   "outputs": [],
   "source": []
  },
  {
   "cell_type": "code",
   "execution_count": null,
   "id": "6e752dd2",
   "metadata": {},
   "outputs": [],
   "source": []
  },
  {
   "cell_type": "code",
   "execution_count": null,
   "id": "b57d4a52",
   "metadata": {},
   "outputs": [],
   "source": []
  },
  {
   "cell_type": "code",
   "execution_count": null,
   "id": "d2140767",
   "metadata": {},
   "outputs": [],
   "source": []
  },
  {
   "cell_type": "code",
   "execution_count": null,
   "id": "165d7184",
   "metadata": {},
   "outputs": [],
   "source": []
  },
  {
   "cell_type": "markdown",
   "id": "d7317e16",
   "metadata": {},
   "source": [
    "## Slicing\n",
    "El slicing consiste en \"rebanar\" la cadena de texto acorde a un índice dado. Se usa : para tomar las rebanadas. Conviene ver ejemplos aplicados para entender a profundidad el concepto. El uso más básico del slicing sigue la siguiente estructura `[inicio:fin]` "
   ]
  },
  {
   "cell_type": "code",
   "execution_count": null,
   "id": "1aa77903",
   "metadata": {},
   "outputs": [],
   "source": [
    "s='Rebanadas de prope100cias'"
   ]
  },
  {
   "cell_type": "code",
   "execution_count": null,
   "id": "5dee5cc1",
   "metadata": {},
   "outputs": [],
   "source": [
    "#Todo\n",
    "s[:]"
   ]
  },
  {
   "cell_type": "code",
   "execution_count": null,
   "id": "32814f50",
   "metadata": {},
   "outputs": [],
   "source": [
    "#Inicio en cierto índice y acaba hasta el final\n",
    "s[1:]"
   ]
  },
  {
   "cell_type": "code",
   "execution_count": null,
   "id": "e6a1414c",
   "metadata": {},
   "outputs": [],
   "source": [
    "#Rebana desde el inicio hasta el cuarto índice\n",
    "s[:3]"
   ]
  },
  {
   "cell_type": "code",
   "execution_count": null,
   "id": "71d2a0c3",
   "metadata": {},
   "outputs": [],
   "source": [
    "#Inicia en cierto ínidice y acaba en otro\n",
    "s[1:4]"
   ]
  },
  {
   "cell_type": "markdown",
   "id": "c019fb6a",
   "metadata": {},
   "source": [
    "Se puede usar índices negativos para obtener por ejemplo toda la cadena menos el último carácter"
   ]
  },
  {
   "cell_type": "code",
   "execution_count": null,
   "id": "157a850a",
   "metadata": {},
   "outputs": [],
   "source": [
    "s[:-1]"
   ]
  },
  {
   "cell_type": "markdown",
   "id": "f05a1f19",
   "metadata": {},
   "source": [
    "Una función adicional del slicing es el de recorrer la cadena pero usando diferente longitud de pasos, esto sigue la siguiente estructura `[inicio:fin:pasos]`"
   ]
  },
  {
   "cell_type": "code",
   "execution_count": null,
   "id": "e27409ad",
   "metadata": {},
   "outputs": [],
   "source": [
    "#Recorre de inicio a fin a pasos de 1 en 1\n",
    "s[::1]"
   ]
  },
  {
   "cell_type": "code",
   "execution_count": null,
   "id": "42884719",
   "metadata": {},
   "outputs": [],
   "source": [
    "#Recorre de inicio a fin a pasos de 2 en 2\n",
    "s[::2]"
   ]
  },
  {
   "cell_type": "code",
   "execution_count": null,
   "id": "7315d3e3",
   "metadata": {},
   "outputs": [],
   "source": [
    "#Recorre desde la segunda letra hasta la octava en pasos de 3 en 3\n",
    "s[1:9:3]"
   ]
  },
  {
   "cell_type": "markdown",
   "id": "d31b5586",
   "metadata": {},
   "source": [
    "Del mismo modo podemos usar \"pasos negativos\" para recorrer la cadena. Por ejemplo recorrer la cadena de manera inversa."
   ]
  },
  {
   "cell_type": "code",
   "execution_count": null,
   "id": "d3c8f281",
   "metadata": {},
   "outputs": [],
   "source": [
    "s[::-1]"
   ]
  },
  {
   "cell_type": "markdown",
   "id": "0406b266",
   "metadata": {},
   "source": [
    "## Propiedades de las cadenas\n",
    "\n",
    "Al igual que los objetos númericos, las cadenas cuentan con propiedades propias. Una de las más importantes es aquella llamada inmutabilidad, esto implica que una vez definida, la cadena no se puede modificar aún después de practicarle un indexeo. "
   ]
  },
  {
   "cell_type": "code",
   "execution_count": null,
   "id": "d036996d",
   "metadata": {},
   "outputs": [],
   "source": [
    "#Por ejemplo tratemos de modificar la primera letra de la cadena\n",
    "s[0]='H'"
   ]
  },
  {
   "cell_type": "markdown",
   "id": "09b29cc0",
   "metadata": {},
   "source": [
    "Otra propiedad importante es la concatenación de cadenas"
   ]
  },
  {
   "cell_type": "code",
   "execution_count": null,
   "id": "813d7a42",
   "metadata": {},
   "outputs": [],
   "source": [
    "s"
   ]
  },
  {
   "cell_type": "code",
   "execution_count": null,
   "id": "9098bfa5",
   "metadata": {},
   "outputs": [],
   "source": [
    "s + 'concatenación'"
   ]
  },
  {
   "cell_type": "code",
   "execution_count": null,
   "id": "7defcee9",
   "metadata": {},
   "outputs": [],
   "source": [
    "s = s + 'concatenación'\n",
    "s"
   ]
  },
  {
   "cell_type": "markdown",
   "id": "f19d3efe",
   "metadata": {},
   "source": [
    "Otra propiedad es la repetición de carácteres mediante el uso del signo de multiplicación *"
   ]
  },
  {
   "cell_type": "code",
   "execution_count": null,
   "id": "9841f355",
   "metadata": {},
   "outputs": [],
   "source": [
    "s = 'Z'*10"
   ]
  },
  {
   "cell_type": "code",
   "execution_count": null,
   "id": "f9b1c1c1",
   "metadata": {},
   "outputs": [],
   "source": [
    "print(s)"
   ]
  },
  {
   "cell_type": "code",
   "execution_count": null,
   "id": "c3e1bcd0",
   "metadata": {},
   "outputs": [],
   "source": [
    "len(s)"
   ]
  },
  {
   "cell_type": "markdown",
   "id": "c46cd139",
   "metadata": {},
   "source": [
    "## Formateando cadenas\n",
    "Se puede dar formato mediante el método format(), o mediante el método mágico f'', abordaremos esto a más detalle, pero por ahora basta con ver algunos ejemplos básicos."
   ]
  },
  {
   "cell_type": "code",
   "execution_count": null,
   "id": "740103cc",
   "metadata": {},
   "outputs": [],
   "source": [
    "print('Podemos insertar otra cadena dentro de esta usando las llaves {}'.format('CADENA AÑADIDA'))"
   ]
  },
  {
   "cell_type": "code",
   "execution_count": null,
   "id": "ff9f0aae",
   "metadata": {},
   "outputs": [],
   "source": [
    "print(f'Mediante este metodo tambien podemos añadir otra cadena {s}')"
   ]
  },
  {
   "cell_type": "markdown",
   "id": "adb26aff",
   "metadata": {},
   "source": [
    "Hemos acabado de aprender lo básico de cadenas! Sigamos aprendiendo más. c:"
   ]
  }
 ],
 "metadata": {
  "kernelspec": {
   "display_name": "Python 3 (ipykernel)",
   "language": "python",
   "name": "python3"
  },
  "language_info": {
   "codemirror_mode": {
    "name": "ipython",
    "version": 3
   },
   "file_extension": ".py",
   "mimetype": "text/x-python",
   "name": "python",
   "nbconvert_exporter": "python",
   "pygments_lexer": "ipython3",
   "version": "3.9.7"
  }
 },
 "nbformat": 4,
 "nbformat_minor": 5
}
