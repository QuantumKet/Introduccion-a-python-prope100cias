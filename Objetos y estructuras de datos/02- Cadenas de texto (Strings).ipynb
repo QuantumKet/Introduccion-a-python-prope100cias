{
 "cells": [
  {
   "cell_type": "markdown",
   "id": "3524ac22",
   "metadata": {},
   "source": [
    "# Strings\n",
    "\n",
    "El objeto String técnicamente es una cadena de texto y son usadas para escribir información de manera textual. En especial Python trata a las cadenas de texto como secuencias, esto es, Python tiene la capacidad de rastrear cada elemento de la cadena de texto de manera secuencial, así, por ejemplo la cadena \"Prope100cias\" es interpretada cómo una secuencia de letras y números en un orden específico. Esto nos permite usar las cadenas en diversos modos, como indexando u obteniendo letras en partícular. \n",
    "\n",
    "Con esto en mente podemos empezar a estudiar cadenas, por ahora abordaremos los temas más básicos:\n",
    "\n",
    "1. Crear cadenas\n",
    "2. Impresión de cadenas\n",
    "3. Metodos de las cadenas\n",
    "4. Indexing y Slicing\n",
    "5. Propiedades de las cadenas\n",
    "6. Formateando cadenas"
   ]
  },
  {
   "cell_type": "markdown",
   "id": "2f396d82",
   "metadata": {},
   "source": [
    "## Creando cadenas\n",
    "\n",
    "Crear un String es realmente sencillo, basta con poner entre comillas dobles \"\" o simples '' el contenido de la cadena"
   ]
  },
  {
   "cell_type": "code",
   "execution_count": 1,
   "id": "4537e90b",
   "metadata": {},
   "outputs": [
    {
     "data": {
      "text/plain": [
       "'Hola!'"
      ]
     },
     "execution_count": 1,
     "metadata": {},
     "output_type": "execute_result"
    }
   ],
   "source": [
    "#Una palabra\n",
    "'Hola!'"
   ]
  },
  {
   "cell_type": "code",
   "execution_count": 2,
   "id": "5fa222dc",
   "metadata": {
    "scrolled": true
   },
   "outputs": [
    {
     "data": {
      "text/plain": [
       "'Hola estoy feliz'"
      ]
     },
     "execution_count": 2,
     "metadata": {},
     "output_type": "execute_result"
    }
   ],
   "source": [
    "#Una frase\n",
    "'Hola estoy feliz'"
   ]
  },
  {
   "cell_type": "code",
   "execution_count": 3,
   "id": "e41a30fe",
   "metadata": {},
   "outputs": [
    {
     "data": {
      "text/plain": [
       "'Hola con doble comilla'"
      ]
     },
     "execution_count": 3,
     "metadata": {},
     "output_type": "execute_result"
    }
   ],
   "source": [
    "#Con doble comilla\n",
    "\"Hola con doble comilla\""
   ]
  },
  {
   "cell_type": "code",
   "execution_count": 4,
   "id": "fb276eb0",
   "metadata": {},
   "outputs": [
    {
     "ename": "SyntaxError",
     "evalue": "invalid syntax (Temp/ipykernel_15644/1061138273.py, line 2)",
     "output_type": "error",
     "traceback": [
      "\u001b[1;36m  File \u001b[1;32m\"C:\\Users\\Quantum\\AppData\\Local\\Temp/ipykernel_15644/1061138273.py\"\u001b[1;36m, line \u001b[1;32m2\u001b[0m\n\u001b[1;33m    'I'm Ariel'\u001b[0m\n\u001b[1;37m       ^\u001b[0m\n\u001b[1;31mSyntaxError\u001b[0m\u001b[1;31m:\u001b[0m invalid syntax\n"
     ]
    }
   ],
   "source": [
    "#CUIDADO CON LAS COMILLAS\n",
    "'I'm Ariel'"
   ]
  },
  {
   "cell_type": "code",
   "execution_count": 6,
   "id": "1bab7426",
   "metadata": {},
   "outputs": [
    {
     "data": {
      "text/plain": [
       "\"I'm Ariel\""
      ]
     },
     "execution_count": 6,
     "metadata": {},
     "output_type": "execute_result"
    }
   ],
   "source": [
    "#Buen tratado de comillas\n",
    "\"I'm Ariel\""
   ]
  },
  {
   "cell_type": "markdown",
   "id": "43bef027",
   "metadata": {},
   "source": [
    "## Impresión de cadenas\n",
    "\n",
    "En jupyter y corriendo python desde la consola basta con ingresar la cadena que deseamos imprimir, en especial en Jupyter como ya hemos visto la impresión de cualquier dato basta con ingresar lo que se desea imprimir hasta el final de la celda."
   ]
  },
  {
   "cell_type": "code",
   "execution_count": 7,
   "id": "73017054",
   "metadata": {},
   "outputs": [
    {
     "data": {
      "text/plain": [
       "'Mira mamá imprimí una cadena'"
      ]
     },
     "execution_count": 7,
     "metadata": {},
     "output_type": "execute_result"
    }
   ],
   "source": [
    "'Mira mamá imprimí una cadena'"
   ]
  },
  {
   "cell_type": "code",
   "execution_count": 14,
   "id": "3f896f0c",
   "metadata": {},
   "outputs": [
    {
     "data": {
      "text/plain": [
       "'Quiero \\nimprimir una cadena'"
      ]
     },
     "execution_count": 14,
     "metadata": {},
     "output_type": "execute_result"
    }
   ],
   "source": [
    "'Quiero \\nimprimir una cadena'"
   ]
  },
  {
   "cell_type": "markdown",
   "id": "b0d186bc",
   "metadata": {},
   "source": [
    "Notemos que no se pueden imprimir múltiples cadenas usando esta técnica. Python cuenta con una función especial para imprimir cadenas llamada `print()`"
   ]
  },
  {
   "cell_type": "code",
   "execution_count": 10,
   "id": "fe383f1d",
   "metadata": {},
   "outputs": [
    {
     "name": "stdout",
     "output_type": "stream",
     "text": [
      "Esta cadena se va imprimir\n",
      "Y esta igual\n",
      "Podemos imprimir de manera ilimitada\n"
     ]
    }
   ],
   "source": [
    "#Ejemplo\n",
    "print('Esta cadena se va imprimir')\n",
    "print(\"Y esta igual\")\n",
    "print(\"Podemos imprimir de manera ilimitada\")"
   ]
  },
  {
   "cell_type": "code",
   "execution_count": 11,
   "id": "8b2d9390",
   "metadata": {},
   "outputs": [
    {
     "name": "stdout",
     "output_type": "stream",
     "text": [
      "Usa \n",
      " para imprimir un salto de línea\n",
      "\n",
      "\n",
      "Trucazo ¿no?\n"
     ]
    }
   ],
   "source": [
    "print('Usa \\n para imprimir un salto de línea')\n",
    "print('\\n')\n",
    "print('Trucazo ¿no?')"
   ]
  },
  {
   "cell_type": "markdown",
   "id": "6b02ca7c",
   "metadata": {},
   "source": [
    "## Métodos básicos de String\n",
    "\n",
    "Los objetos en Python generalmente cuentan con métodos propios. De manera general un método es una función dentro de la clase de un objeto (este tema sale de los alcances del curso pero se abordará quizá en otro curso o puedes aprender más leyendo sobre Programación Orientada a Objetos (OOP)), estas funciones pueden realizar operaciones o acciones en el propio objeto.\n",
    "\n",
    "A lo largo del curso estaremos usando métodos ya construidos dentro las distintas librerías básicas de Python por lo cual es importante saber como llamarlos. Los métodos son llamados o invocados de la forma:\n",
    "\n",
    "`object.method(parameters)`\n",
    "\n",
    "Los parametros son argumentos extra que se le mandan a los métodos.\n",
    "\n",
    "Con esta básica explicación podemos revisar algunos de los métodos integrados del objeto String."
   ]
  },
  {
   "cell_type": "code",
   "execution_count": 15,
   "id": "63c412f5",
   "metadata": {},
   "outputs": [],
   "source": [
    "#Primero definimos una cadena y la guardamos en una variable\n",
    "s = \"Abuelita soy tu nieto y ya llegué\""
   ]
  },
  {
   "cell_type": "code",
   "execution_count": 16,
   "id": "0288f080",
   "metadata": {},
   "outputs": [
    {
     "data": {
      "text/plain": [
       "'ABUELITA SOY TU NIETO Y YA LLEGUÉ'"
      ]
     },
     "execution_count": 16,
     "metadata": {},
     "output_type": "execute_result"
    }
   ],
   "source": [
    "#upper() nos ayuda a poner en mayúsculas toda la cadena\n",
    "s.upper()"
   ]
  },
  {
   "cell_type": "code",
   "execution_count": 17,
   "id": "4aa31392",
   "metadata": {},
   "outputs": [
    {
     "data": {
      "text/plain": [
       "'abuelita soy tu nieto y ya llegué'"
      ]
     },
     "execution_count": 17,
     "metadata": {},
     "output_type": "execute_result"
    }
   ],
   "source": [
    "#lower() nos ayuda por el contrario a poner en minúsculas toda la cadena\n",
    "s.lower()"
   ]
  },
  {
   "cell_type": "code",
   "execution_count": 18,
   "id": "bc903ee9",
   "metadata": {},
   "outputs": [
    {
     "data": {
      "text/plain": [
       "['Abuelita', 'soy', 'tu', 'nieto', 'y', 'ya', 'llegué']"
      ]
     },
     "execution_count": 18,
     "metadata": {},
     "output_type": "execute_result"
    }
   ],
   "source": [
    "# split() separa la cadena después de un carácter arbitrario, el método por predeterminado separa la cadena por espacios en blanco\n",
    "s.split()"
   ]
  },
  {
   "cell_type": "code",
   "execution_count": 19,
   "id": "bd7b543c",
   "metadata": {},
   "outputs": [
    {
     "data": {
      "text/plain": [
       "['Abuelita so', ' tu nieto ', ' ', 'a llegué']"
      ]
     },
     "execution_count": 19,
     "metadata": {},
     "output_type": "execute_result"
    }
   ],
   "source": [
    "#Seleccionemos por ejemplo separar la cadena usando la letra 'y', esto separa la cadena en este carácter pero no lo incluye\n",
    "s.split('y')"
   ]
  },
  {
   "cell_type": "code",
   "execution_count": 20,
   "id": "cb4ea071",
   "metadata": {},
   "outputs": [
    {
     "data": {
      "text/plain": [
       "33"
      ]
     },
     "execution_count": 20,
     "metadata": {},
     "output_type": "execute_result"
    }
   ],
   "source": [
    "# Por medio de la función len() podemos además hallar la longitud de la cadena\n",
    "len(s)"
   ]
  },
  {
   "cell_type": "code",
   "execution_count": 27,
   "id": "8548d1b9",
   "metadata": {},
   "outputs": [
    {
     "data": {
      "text/plain": [
       "'ABUELITA SOY TU NIETO Y YA LLEGUÉ'"
      ]
     },
     "execution_count": 27,
     "metadata": {},
     "output_type": "execute_result"
    }
   ],
   "source": [
    "s = s.upper()\n",
    "s"
   ]
  },
  {
   "cell_type": "markdown",
   "id": "43fdcb4a",
   "metadata": {},
   "source": [
    "Existen muchos más métodos de String que podremos ver más adelante. Pero de manera básica basta con estos. "
   ]
  },
  {
   "cell_type": "markdown",
   "id": "f134dd36",
   "metadata": {},
   "source": [
    "## Indexing\n",
    "Sabemos que las cadenas en Python son secuencias esto significa que podemos usar índices para acceder a distintas partes de la secuencia. Se usan corchetes [ ] después del objeto para llamar al índice. $\\textbf{Aclaración: }$ en Python y en la mayoría de lenguajes de programación, el conteo de índices inicia desde 0. \n",
    "\n",
    "Creemos una cadena y comencemos a trabajar."
   ]
  },
  {
   "cell_type": "code",
   "execution_count": 28,
   "id": "831b8ede",
   "metadata": {},
   "outputs": [],
   "source": [
    "s = 'Prope100cias'"
   ]
  },
  {
   "cell_type": "code",
   "execution_count": 29,
   "id": "6e752dd2",
   "metadata": {},
   "outputs": [
    {
     "data": {
      "text/plain": [
       "'o'"
      ]
     },
     "execution_count": 29,
     "metadata": {},
     "output_type": "execute_result"
    }
   ],
   "source": [
    "s[2]"
   ]
  },
  {
   "cell_type": "code",
   "execution_count": 30,
   "id": "b57d4a52",
   "metadata": {},
   "outputs": [
    {
     "data": {
      "text/plain": [
       "'1'"
      ]
     },
     "execution_count": 30,
     "metadata": {},
     "output_type": "execute_result"
    }
   ],
   "source": [
    "s[5]"
   ]
  },
  {
   "cell_type": "code",
   "execution_count": 31,
   "id": "d2140767",
   "metadata": {},
   "outputs": [
    {
     "data": {
      "text/plain": [
       "'s'"
      ]
     },
     "execution_count": 31,
     "metadata": {},
     "output_type": "execute_result"
    }
   ],
   "source": [
    "s[-1]"
   ]
  },
  {
   "cell_type": "code",
   "execution_count": 33,
   "id": "165d7184",
   "metadata": {},
   "outputs": [
    {
     "ename": "TypeError",
     "evalue": "'str' object does not support item assignment",
     "output_type": "error",
     "traceback": [
      "\u001b[1;31m---------------------------------------------------------------------------\u001b[0m",
      "\u001b[1;31mTypeError\u001b[0m                                 Traceback (most recent call last)",
      "\u001b[1;32m~\\AppData\\Local\\Temp/ipykernel_15644/1477171766.py\u001b[0m in \u001b[0;36m<module>\u001b[1;34m\u001b[0m\n\u001b[1;32m----> 1\u001b[1;33m \u001b[0ms\u001b[0m\u001b[1;33m[\u001b[0m\u001b[1;36m0\u001b[0m\u001b[1;33m]\u001b[0m \u001b[1;33m=\u001b[0m \u001b[1;34m'p'\u001b[0m\u001b[1;33m\u001b[0m\u001b[1;33m\u001b[0m\u001b[0m\n\u001b[0m",
      "\u001b[1;31mTypeError\u001b[0m: 'str' object does not support item assignment"
     ]
    }
   ],
   "source": [
    "s[0] = 'p'"
   ]
  },
  {
   "cell_type": "markdown",
   "id": "d7317e16",
   "metadata": {},
   "source": [
    "## Slicing\n",
    "El slicing consiste en \"rebanar\" la cadena de texto acorde a un índice dado. Se usa : para tomar las rebanadas. Conviene ver ejemplos aplicados para entender a profundidad el concepto. El uso más básico del slicing sigue la siguiente estructura `[inicio:fin]` "
   ]
  },
  {
   "cell_type": "code",
   "execution_count": 34,
   "id": "1aa77903",
   "metadata": {},
   "outputs": [],
   "source": [
    "s='Rebanadas de prope100cias'"
   ]
  },
  {
   "cell_type": "code",
   "execution_count": 35,
   "id": "5dee5cc1",
   "metadata": {},
   "outputs": [
    {
     "data": {
      "text/plain": [
       "'Rebanadas de prope100cias'"
      ]
     },
     "execution_count": 35,
     "metadata": {},
     "output_type": "execute_result"
    }
   ],
   "source": [
    "#Todo\n",
    "s[:]"
   ]
  },
  {
   "cell_type": "code",
   "execution_count": 36,
   "id": "32814f50",
   "metadata": {},
   "outputs": [
    {
     "data": {
      "text/plain": [
       "'ebanadas de prope100cias'"
      ]
     },
     "execution_count": 36,
     "metadata": {},
     "output_type": "execute_result"
    }
   ],
   "source": [
    "#Inicio en cierto índice y acaba hasta el final\n",
    "s[1:]"
   ]
  },
  {
   "cell_type": "code",
   "execution_count": 37,
   "id": "e6a1414c",
   "metadata": {},
   "outputs": [
    {
     "data": {
      "text/plain": [
       "'Reb'"
      ]
     },
     "execution_count": 37,
     "metadata": {},
     "output_type": "execute_result"
    }
   ],
   "source": [
    "#Rebana desde el inicio hasta el tercer índice\n",
    "s[:3]"
   ]
  },
  {
   "cell_type": "code",
   "execution_count": 38,
   "id": "71d2a0c3",
   "metadata": {},
   "outputs": [
    {
     "data": {
      "text/plain": [
       "'eba'"
      ]
     },
     "execution_count": 38,
     "metadata": {},
     "output_type": "execute_result"
    }
   ],
   "source": [
    "#Inicia en cierto ínidice y acaba en otro\n",
    "s[1:4]"
   ]
  },
  {
   "cell_type": "markdown",
   "id": "c019fb6a",
   "metadata": {},
   "source": [
    "Se puede usar índices negativos para obtener por ejemplo toda la cadena menos el último carácter"
   ]
  },
  {
   "cell_type": "code",
   "execution_count": 39,
   "id": "157a850a",
   "metadata": {},
   "outputs": [
    {
     "data": {
      "text/plain": [
       "'Rebanadas de prope100cia'"
      ]
     },
     "execution_count": 39,
     "metadata": {},
     "output_type": "execute_result"
    }
   ],
   "source": [
    "s[:-1]"
   ]
  },
  {
   "cell_type": "markdown",
   "id": "f05a1f19",
   "metadata": {},
   "source": [
    "Una función adicional del slicing es el de recorrer la cadena pero usando diferente longitud de pasos, esto sigue la siguiente estructura `[inicio:fin:pasos]`"
   ]
  },
  {
   "cell_type": "code",
   "execution_count": 40,
   "id": "e27409ad",
   "metadata": {},
   "outputs": [
    {
     "data": {
      "text/plain": [
       "'Rebanadas de prope100cias'"
      ]
     },
     "execution_count": 40,
     "metadata": {},
     "output_type": "execute_result"
    }
   ],
   "source": [
    "#Recorre de inicio a fin a pasos de 1 en 1\n",
    "s[::1]"
   ]
  },
  {
   "cell_type": "code",
   "execution_count": 41,
   "id": "42884719",
   "metadata": {},
   "outputs": [
    {
     "data": {
      "text/plain": [
       "'Rbndsd rp10is'"
      ]
     },
     "execution_count": 41,
     "metadata": {},
     "output_type": "execute_result"
    }
   ],
   "source": [
    "#Recorre de inicio a fin a pasos de 2 en 2\n",
    "s[::2]"
   ]
  },
  {
   "cell_type": "code",
   "execution_count": 42,
   "id": "7315d3e3",
   "metadata": {},
   "outputs": [
    {
     "data": {
      "text/plain": [
       "'ena'"
      ]
     },
     "execution_count": 42,
     "metadata": {},
     "output_type": "execute_result"
    }
   ],
   "source": [
    "#Recorre desde la segunda letra hasta la octava en pasos de 3 en 3\n",
    "s[1:9:3]"
   ]
  },
  {
   "cell_type": "markdown",
   "id": "d31b5586",
   "metadata": {},
   "source": [
    "Del mismo modo podemos usar \"pasos negativos\" para recorrer la cadena. Por ejemplo recorrer la cadena de manera inversa."
   ]
  },
  {
   "cell_type": "code",
   "execution_count": 43,
   "id": "d3c8f281",
   "metadata": {},
   "outputs": [
    {
     "data": {
      "text/plain": [
       "'saic001eporp ed sadanabeR'"
      ]
     },
     "execution_count": 43,
     "metadata": {},
     "output_type": "execute_result"
    }
   ],
   "source": [
    "s[::-1]"
   ]
  },
  {
   "cell_type": "markdown",
   "id": "0406b266",
   "metadata": {},
   "source": [
    "## Propiedades de las cadenas\n",
    "\n",
    "Al igual que los objetos númericos, las cadenas cuentan con propiedades propias. Una de las más importantes es aquella llamada inmutabilidad, esto implica que una vez definida, la cadena no se puede modificar aún después de practicarle un indexeo. "
   ]
  },
  {
   "cell_type": "code",
   "execution_count": 44,
   "id": "d036996d",
   "metadata": {},
   "outputs": [
    {
     "ename": "TypeError",
     "evalue": "'str' object does not support item assignment",
     "output_type": "error",
     "traceback": [
      "\u001b[1;31m---------------------------------------------------------------------------\u001b[0m",
      "\u001b[1;31mTypeError\u001b[0m                                 Traceback (most recent call last)",
      "\u001b[1;32m~\\AppData\\Local\\Temp/ipykernel_15644/4178970483.py\u001b[0m in \u001b[0;36m<module>\u001b[1;34m\u001b[0m\n\u001b[0;32m      1\u001b[0m \u001b[1;31m#Por ejemplo tratemos de modificar la primera letra de la cadena\u001b[0m\u001b[1;33m\u001b[0m\u001b[1;33m\u001b[0m\u001b[0m\n\u001b[1;32m----> 2\u001b[1;33m \u001b[0ms\u001b[0m\u001b[1;33m[\u001b[0m\u001b[1;36m0\u001b[0m\u001b[1;33m]\u001b[0m\u001b[1;33m=\u001b[0m\u001b[1;34m'H'\u001b[0m\u001b[1;33m\u001b[0m\u001b[1;33m\u001b[0m\u001b[0m\n\u001b[0m",
      "\u001b[1;31mTypeError\u001b[0m: 'str' object does not support item assignment"
     ]
    }
   ],
   "source": [
    "#Por ejemplo tratemos de modificar la primera letra de la cadena\n",
    "s[0]='H'"
   ]
  },
  {
   "cell_type": "markdown",
   "id": "09b29cc0",
   "metadata": {},
   "source": [
    "Otra propiedad importante es la concatenación de cadenas"
   ]
  },
  {
   "cell_type": "code",
   "execution_count": 45,
   "id": "813d7a42",
   "metadata": {},
   "outputs": [
    {
     "data": {
      "text/plain": [
       "'Rebanadas de prope100cias'"
      ]
     },
     "execution_count": 45,
     "metadata": {},
     "output_type": "execute_result"
    }
   ],
   "source": [
    "s"
   ]
  },
  {
   "cell_type": "code",
   "execution_count": 47,
   "id": "9098bfa5",
   "metadata": {},
   "outputs": [
    {
     "data": {
      "text/plain": [
       "'Rebanadas de prope100cias concatenación'"
      ]
     },
     "execution_count": 47,
     "metadata": {},
     "output_type": "execute_result"
    }
   ],
   "source": [
    "s + ' concatenación'"
   ]
  },
  {
   "cell_type": "code",
   "execution_count": 50,
   "id": "7defcee9",
   "metadata": {},
   "outputs": [
    {
     "data": {
      "text/plain": [
       "'Rebanadas de prope100ciasconcatenaciónconcatenación concatenación'"
      ]
     },
     "execution_count": 50,
     "metadata": {},
     "output_type": "execute_result"
    }
   ],
   "source": [
    "s += ' concatenación'\n",
    "s"
   ]
  },
  {
   "cell_type": "markdown",
   "id": "f19d3efe",
   "metadata": {},
   "source": [
    "Otra propiedad es la repetición de carácteres mediante el uso del signo de multiplicación *"
   ]
  },
  {
   "cell_type": "code",
   "execution_count": 51,
   "id": "9841f355",
   "metadata": {},
   "outputs": [],
   "source": [
    "s = 'Z'*10"
   ]
  },
  {
   "cell_type": "code",
   "execution_count": 52,
   "id": "f9b1c1c1",
   "metadata": {},
   "outputs": [
    {
     "name": "stdout",
     "output_type": "stream",
     "text": [
      "ZZZZZZZZZZ\n"
     ]
    }
   ],
   "source": [
    "print(s)"
   ]
  },
  {
   "cell_type": "code",
   "execution_count": 53,
   "id": "c3e1bcd0",
   "metadata": {},
   "outputs": [
    {
     "data": {
      "text/plain": [
       "10"
      ]
     },
     "execution_count": 53,
     "metadata": {},
     "output_type": "execute_result"
    }
   ],
   "source": [
    "len(s)"
   ]
  },
  {
   "cell_type": "markdown",
   "id": "c46cd139",
   "metadata": {},
   "source": [
    "## Formateando cadenas\n",
    "Se puede dar formato mediante el método format(), o mediante el objeto f-string f'', abordaremos esto a más detalle, pero por ahora basta con ver algunos ejemplos básicos."
   ]
  },
  {
   "cell_type": "code",
   "execution_count": 54,
   "id": "740103cc",
   "metadata": {},
   "outputs": [
    {
     "name": "stdout",
     "output_type": "stream",
     "text": [
      "Podemos insertar otra cadena dentro de esta usando las llaves CADENA AÑADIDA\n"
     ]
    }
   ],
   "source": [
    "print('Podemos insertar otra cadena dentro de esta usando las llaves {}'.format('CADENA AÑADIDA'))"
   ]
  },
  {
   "cell_type": "code",
   "execution_count": 55,
   "id": "ff9f0aae",
   "metadata": {},
   "outputs": [
    {
     "name": "stdout",
     "output_type": "stream",
     "text": [
      "Mediante este metodo tambien podemos añadir otra cadena ZZZZZZZZZZ\n"
     ]
    }
   ],
   "source": [
    "print(f'Mediante este metodo tambien podemos añadir otra cadena {s}')"
   ]
  },
  {
   "cell_type": "markdown",
   "id": "adb26aff",
   "metadata": {},
   "source": [
    "Hemos acabado de aprender lo básico de cadenas! Sigamos aprendiendo más. c:"
   ]
  }
 ],
 "metadata": {
  "kernelspec": {
   "display_name": "Python 3 (ipykernel)",
   "language": "python",
   "name": "python3"
  },
  "language_info": {
   "codemirror_mode": {
    "name": "ipython",
    "version": 3
   },
   "file_extension": ".py",
   "mimetype": "text/x-python",
   "name": "python",
   "nbconvert_exporter": "python",
   "pygments_lexer": "ipython3",
   "version": "3.9.7"
  }
 },
 "nbformat": 4,
 "nbformat_minor": 5
}
