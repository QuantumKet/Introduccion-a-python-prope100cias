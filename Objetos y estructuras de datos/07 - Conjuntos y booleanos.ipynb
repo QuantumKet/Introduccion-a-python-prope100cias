{
 "cells": [
  {
   "cell_type": "markdown",
   "id": "b13a5253",
   "metadata": {},
   "source": [
    "# Conjuntos y booleanos\n",
    "\n",
    "Otro tipo especial de objetos usados en Python son los conjuntos y lo booleanos. \n",
    "\n",
    "### Conjuntos\n",
    "\n",
    "Un conjunto es una colección no ordenada de elementos únicos. Construir un conjunto es fácil, basta  llamar a la funcion `set()`"
   ]
  },
  {
   "cell_type": "code",
   "execution_count": 2,
   "id": "68d43f3c",
   "metadata": {},
   "outputs": [],
   "source": [
    "#Definiendo un conjunto\n",
    "s = set()"
   ]
  },
  {
   "cell_type": "code",
   "execution_count": 6,
   "id": "17ae56c1",
   "metadata": {},
   "outputs": [],
   "source": [
    "#Añadiendo elementos a un conjunto, add()\n",
    "s.add(1)\n",
    "s.add(2)"
   ]
  },
  {
   "cell_type": "code",
   "execution_count": 7,
   "id": "29b90f04",
   "metadata": {},
   "outputs": [
    {
     "data": {
      "text/plain": [
       "{1, 2}"
      ]
     },
     "execution_count": 7,
     "metadata": {},
     "output_type": "execute_result"
    }
   ],
   "source": [
    "s"
   ]
  },
  {
   "cell_type": "markdown",
   "id": "31dba4b1",
   "metadata": {},
   "source": [
    "Aunque la representación de un conjunto use llaves {}, esto no significa que hablemos de un diccionario. \n",
    "\n",
    "Debido a que el conjunto solo tiene elementos únicos, tratar de añadir un elemento que ya está en el conjunto no hará nada."
   ]
  },
  {
   "cell_type": "code",
   "execution_count": 8,
   "id": "b9d808f2",
   "metadata": {},
   "outputs": [
    {
     "data": {
      "text/plain": [
       "{1, 2}"
      ]
     },
     "execution_count": 8,
     "metadata": {},
     "output_type": "execute_result"
    }
   ],
   "source": [
    "s"
   ]
  },
  {
   "cell_type": "code",
   "execution_count": 9,
   "id": "40b0822a",
   "metadata": {},
   "outputs": [],
   "source": [
    "s.add(2)"
   ]
  },
  {
   "cell_type": "code",
   "execution_count": 10,
   "id": "669bdebf",
   "metadata": {},
   "outputs": [
    {
     "data": {
      "text/plain": [
       "{1, 2}"
      ]
     },
     "execution_count": 10,
     "metadata": {},
     "output_type": "execute_result"
    }
   ],
   "source": [
    "s"
   ]
  },
  {
   "cell_type": "markdown",
   "id": "f40b3cfe",
   "metadata": {},
   "source": [
    "Podemos incluso hallar el conjunto asociado a una lista con repeticiones par aasí obtener un conjunto con elementos únicos."
   ]
  },
  {
   "cell_type": "code",
   "execution_count": 11,
   "id": "22d898b2",
   "metadata": {},
   "outputs": [],
   "source": [
    "#Lista con repeticiones\n",
    "lista1 = [1,1,2,3,4,5,6,4,2,111,1]"
   ]
  },
  {
   "cell_type": "code",
   "execution_count": 14,
   "id": "d7076946",
   "metadata": {},
   "outputs": [],
   "source": [
    "#Conjunto\n",
    "a = set(lista1)"
   ]
  },
  {
   "cell_type": "code",
   "execution_count": 17,
   "id": "209ecc29",
   "metadata": {},
   "outputs": [
    {
     "data": {
      "text/plain": [
       "[1, 2, 3, 4, 5, 6, 111]"
      ]
     },
     "execution_count": 17,
     "metadata": {},
     "output_type": "execute_result"
    }
   ],
   "source": [
    "a = list(set(lista1))\n",
    "a"
   ]
  },
  {
   "cell_type": "markdown",
   "id": "e12030e1",
   "metadata": {},
   "source": [
    "### Booleanos\n",
    "\n",
    "Python incluye los objetos booleanos, este tipo de objeto solo puede tomar dos valores, True y False, que al final de cuentas son los enteros 1 y 0. También existe el placeholder llamado None. Este tipo de objetos serán revisados más adelante a profundidad pero en general son útiles para realizar comparaciones o hacer operaciones lógicas"
   ]
  },
  {
   "cell_type": "code",
   "execution_count": 18,
   "id": "0b13a53e",
   "metadata": {},
   "outputs": [],
   "source": [
    "#Un booleano es de la forma\n",
    "a = True"
   ]
  },
  {
   "cell_type": "code",
   "execution_count": 19,
   "id": "e2659bca",
   "metadata": {},
   "outputs": [],
   "source": [
    "b = False "
   ]
  },
  {
   "cell_type": "code",
   "execution_count": 20,
   "id": "ebac4d41",
   "metadata": {},
   "outputs": [
    {
     "data": {
      "text/plain": [
       "False"
      ]
     },
     "execution_count": 20,
     "metadata": {},
     "output_type": "execute_result"
    }
   ],
   "source": [
    "#Usando comparadores para crear booleanos\n",
    "a = 1\n",
    "b = 2\n",
    "\n",
    "a>b"
   ]
  },
  {
   "cell_type": "code",
   "execution_count": 21,
   "id": "9a5d2fb0",
   "metadata": {},
   "outputs": [],
   "source": [
    "#Usando None para un objeto que aún no queremos reasignar\n",
    "c = None"
   ]
  },
  {
   "cell_type": "code",
   "execution_count": 22,
   "id": "54ec0d3f",
   "metadata": {},
   "outputs": [
    {
     "data": {
      "text/plain": [
       "NoneType"
      ]
     },
     "execution_count": 22,
     "metadata": {},
     "output_type": "execute_result"
    }
   ],
   "source": [
    "type(c)"
   ]
  },
  {
   "cell_type": "markdown",
   "id": "22438bf7",
   "metadata": {},
   "source": [
    "Wooohoooo! Hemos acabado de revisar y entender los objetos básicos de Python y las estructuras de datos más simples. "
   ]
  }
 ],
 "metadata": {
  "kernelspec": {
   "display_name": "Python 3 (ipykernel)",
   "language": "python",
   "name": "python3"
  },
  "language_info": {
   "codemirror_mode": {
    "name": "ipython",
    "version": 3
   },
   "file_extension": ".py",
   "mimetype": "text/x-python",
   "name": "python",
   "nbconvert_exporter": "python",
   "pygments_lexer": "ipython3",
   "version": "3.9.7"
  }
 },
 "nbformat": 4,
 "nbformat_minor": 5
}
