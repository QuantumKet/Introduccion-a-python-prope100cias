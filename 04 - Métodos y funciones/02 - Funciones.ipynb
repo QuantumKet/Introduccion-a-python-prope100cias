{
 "cells": [
  {
   "cell_type": "markdown",
   "id": "238db987",
   "metadata": {},
   "source": [
    "# Funciones\n",
    "\n",
    "### Introducción\n",
    "\n",
    "Finalmente hemos llegado a una de las formas más importantes de Python: las funciones. \n",
    "Las funciones son nuestra manera principal de construir bloques de código reutilizable con el fin de potenciar nuestra habilidad de programar y evitar reprogramar muchas veces la misma tarea. Así podemos construir código más largo y mejor estructurado.\n",
    "\n",
    "### ¿Qué es una función?\n",
    "\n",
    "Formalmente entendemos por función a una aplicación que toma un conjunto de datos de entrada y los manda a un conjuto de datos de salida. Esta idea se aplica a programación, una función de Python toma un conjunto de valores que nosotros establecemos y les hace ciertas operaciones que nos regresan otro valor, la mayor ventaja: puede ser ejecutado varias veces y con datos distintos. \n",
    "\n",
    "Así pues, las funciones nos permiten no volver a escribir de manera repetida el mismo código una y otra vez. Las funciones son diseñadas justamente para realizar tareas que son repetitivas o comúnes. \n",
    "\n",
    "Las funciones son uno de los niveles más básicos de reutilización de código y de modelamiento de programas.\n",
    "\n",
    "Así sabiendo que las funciones son tan útiles a continuación abordaremos:\n",
    "\n",
    "1. La palabra clave def\n",
    "2. Ejemplo simple de función\n",
    "3. Llamado de funciones\n",
    "4. Parámetros de una función\n",
    "5. print() vs return\n",
    "6. Añadiendo lógica a una función\n",
    "7. Multiples return dentro de una función\n",
    "8. Loops dentro de una función\n",
    "9. Unpacking de tuplas\n",
    "10. Interacciones entre funciones\n",
    "\n",
    "### La palabra clave def\n",
    "\n",
    "La manera en que Python declara funciones es mediante el uso de la palabra clave `def`, después de esta palabra se requiere el nombre de la función seguida de un par de paréntesis y dos puntos, así la estructura general de una función es: "
   ]
  },
  {
   "cell_type": "code",
   "execution_count": null,
   "id": "c14402ba",
   "metadata": {},
   "outputs": [],
   "source": [
    "def funcion(arg1,arg2):\n",
    "    \"\"\"\n",
    "    En este espacio es donde podemos comentar que es lo que la función realiza.\n",
    "    \"\"\"\n",
    "    #Aquí se indica que acciones debe realizar\n",
    "    #Generalmente se retorna un resultado"
   ]
  },
  {
   "cell_type": "markdown",
   "id": "64f72bc8",
   "metadata": {},
   "source": [
    "Hay que procurar sobretodo en las funciones mantener nombres claros sobre las acciones que realiza, por ejemplo len() es un buen nombre para una función que mide la longitud de algo, pero solo llamarla l() resulta confuso. \n",
    "\n",
    "Dicho esto, hay que tener cuidado con los nombres que se asignen, se debe evitar a toda costa utilizar nombres de funciones que ya existen en python. \n",
    "\n",
    "Sabiendo cómo estructurar una función veamos un ejemplo básico.\n",
    "\n",
    "### Ejemplo simple de función"
   ]
  },
  {
   "cell_type": "code",
   "execution_count": null,
   "id": "1c3016fc",
   "metadata": {},
   "outputs": [],
   "source": [
    "def hola_mundo():\n",
    "    print('Hola mundo')"
   ]
  },
  {
   "cell_type": "markdown",
   "id": "0ebf0ca4",
   "metadata": {},
   "source": [
    "### Llamando a una función\n",
    "\n",
    "Para llamar a una función se hace usando el nombre de la función con todo y paréntesis:"
   ]
  },
  {
   "cell_type": "code",
   "execution_count": null,
   "id": "3beaf611",
   "metadata": {},
   "outputs": [],
   "source": [
    "hola_mundo()"
   ]
  },
  {
   "cell_type": "markdown",
   "id": "8a354ab2",
   "metadata": {},
   "source": [
    "En caso de no poner los paréntesis, Python nos regresará simplemente que hola_mundo es una función. Más adelante aprenderemos a pasar funciones en otras funciones. Pero por ahora recordemos que se llaman cómo arriba indicamos"
   ]
  },
  {
   "cell_type": "code",
   "execution_count": null,
   "id": "a61b4f24",
   "metadata": {},
   "outputs": [],
   "source": [
    "hola_mundo"
   ]
  },
  {
   "cell_type": "markdown",
   "id": "840caacf",
   "metadata": {},
   "source": [
    "### Parámetros en una función\n",
    "\n",
    "Las funciones aceptan datos extra cómo parámetros con el fin de aumentar la funcionabilidad, el número de parámetros de una función es puesto por nosotros y puede ser desde 0 hasta todos los que queramos. Por ejemplo:"
   ]
  },
  {
   "cell_type": "code",
   "execution_count": null,
   "id": "52d7d5e0",
   "metadata": {},
   "outputs": [],
   "source": [
    "def saludos(nombre):\n",
    "    print(f'Hola {nombre}!')"
   ]
  },
  {
   "cell_type": "code",
   "execution_count": null,
   "id": "f2daa644",
   "metadata": {},
   "outputs": [],
   "source": [
    "saludos('')"
   ]
  },
  {
   "cell_type": "code",
   "execution_count": null,
   "id": "254e8b03",
   "metadata": {},
   "outputs": [],
   "source": [
    "def saludos_avanzado(nombre, apellido):\n",
    "    print(f'Hola {nombre} {apellido}!')"
   ]
  },
  {
   "cell_type": "code",
   "execution_count": null,
   "id": "f708ab0c",
   "metadata": {},
   "outputs": [],
   "source": [
    "saludos_avanzado('','')"
   ]
  },
  {
   "cell_type": "markdown",
   "id": "20f0c711",
   "metadata": {},
   "source": [
    "### print() vs return"
   ]
  },
  {
   "cell_type": "markdown",
   "id": "26f42a2e",
   "metadata": {},
   "source": [
    "Hasta ahora hemos estado utilizando print() para mostrar el resultado de nuestra función, pero si deseamos realmente guardar el resultado que nos da la función debemos de usar la palabra clave `return`, lo que esta palabra hace es permitir a la función regresar un resultado que puede ser almacenado cómo una variable o usarla de la manera que el usuario prefiera."
   ]
  },
  {
   "cell_type": "code",
   "execution_count": null,
   "id": "f9c5da5f",
   "metadata": {},
   "outputs": [],
   "source": [
    "#Ejemplo: hagamos una función que tome dos números y nos regrese la suma de ambos\n"
   ]
  },
  {
   "cell_type": "code",
   "execution_count": null,
   "id": "eece554c",
   "metadata": {},
   "outputs": [],
   "source": []
  },
  {
   "cell_type": "code",
   "execution_count": null,
   "id": "ecee315f",
   "metadata": {},
   "outputs": [],
   "source": [
    "#Podemos guardar el resultado cómo una variable!\n"
   ]
  },
  {
   "cell_type": "code",
   "execution_count": null,
   "id": "3de655aa",
   "metadata": {},
   "outputs": [],
   "source": []
  },
  {
   "cell_type": "markdown",
   "id": "f9d60bfe",
   "metadata": {},
   "source": [
    "#### Advertencia: Hay que tener cuidado a la hora de ingresar los parámetros de una función.\n",
    "Recordando que no todos los operadores actuán igual sobre todos los tipos de datos, el ingresar el tipo de dato incorrecto puede resultar en errores o bugs inesperados:"
   ]
  },
  {
   "cell_type": "code",
   "execution_count": null,
   "id": "29be94d0",
   "metadata": {},
   "outputs": [],
   "source": [
    "## Usemos unas cadenas cómo parámetros en nuestra función\n"
   ]
  },
  {
   "cell_type": "markdown",
   "id": "f874005f",
   "metadata": {},
   "source": [
    "#### ¿Cuál es entonces la diferencia entre print() y return?\n",
    "\n",
    "La diferencia principal radica en que `return` nos permite guardar la salida de la función como una variable mientras `print()` solamente nos muestra la salida."
   ]
  },
  {
   "cell_type": "code",
   "execution_count": null,
   "id": "a11d401c",
   "metadata": {},
   "outputs": [],
   "source": [
    "#Usando print\n"
   ]
  },
  {
   "cell_type": "code",
   "execution_count": null,
   "id": "9f4c19c8",
   "metadata": {},
   "outputs": [],
   "source": []
  },
  {
   "cell_type": "code",
   "execution_count": null,
   "id": "0f2ae673",
   "metadata": {},
   "outputs": [],
   "source": [
    "#Usando return\n"
   ]
  },
  {
   "cell_type": "code",
   "execution_count": null,
   "id": "0c7d67ad",
   "metadata": {},
   "outputs": [],
   "source": []
  },
  {
   "cell_type": "markdown",
   "id": "76aa0b18",
   "metadata": {},
   "source": [
    "### Añadiendo lógica a una función\n",
    "\n",
    "Con anterioridad aprendimos a construir enunciados lógicos con Python como : if,elif,else, los ciclos for y while, los operadores `in` y `not in` así como con los comparadores lógicos. "
   ]
  },
  {
   "cell_type": "code",
   "execution_count": null,
   "id": "0fa1e6a4",
   "metadata": {},
   "outputs": [],
   "source": []
  },
  {
   "cell_type": "code",
   "execution_count": null,
   "id": "929b10c2",
   "metadata": {},
   "outputs": [],
   "source": []
  },
  {
   "cell_type": "code",
   "execution_count": null,
   "id": "e7b1712b",
   "metadata": {},
   "outputs": [],
   "source": []
  },
  {
   "cell_type": "code",
   "execution_count": null,
   "id": "e027eff1",
   "metadata": {},
   "outputs": [],
   "source": []
  },
  {
   "cell_type": "markdown",
   "id": "713753f4",
   "metadata": {},
   "source": [
    "Podemos añadir este tipo de enunciados a nuestras funciones de Python, por ejemplo para realizar alguna validación booleana:"
   ]
  },
  {
   "cell_type": "code",
   "execution_count": null,
   "id": "8d0c97af",
   "metadata": {},
   "outputs": [],
   "source": [
    "#\n",
    "def es_par(num):\n",
    "    return num % 2 == 0 "
   ]
  },
  {
   "cell_type": "code",
   "execution_count": null,
   "id": "7a3918b2",
   "metadata": {},
   "outputs": [],
   "source": [
    "es_par(2)"
   ]
  },
  {
   "cell_type": "code",
   "execution_count": null,
   "id": "01cf57eb",
   "metadata": {},
   "outputs": [],
   "source": [
    "es_par(3)"
   ]
  },
  {
   "cell_type": "markdown",
   "id": "fe5f6399",
   "metadata": {},
   "source": [
    "Esto nos permite construir funciones más ricas en cuanto funcionalidad. Por ejemplo podemos crear una función que revise si algún número de una lista es par."
   ]
  },
  {
   "cell_type": "code",
   "execution_count": null,
   "id": "42701c08",
   "metadata": {},
   "outputs": [],
   "source": [
    "def hay_pares_lista(lista_num):\n",
    "    for num in lista_num:\n",
    "        if num % 2 == 0:\n",
    "            return True\n",
    "        else:\n",
    "            pass"
   ]
  },
  {
   "cell_type": "code",
   "execution_count": null,
   "id": "3f234d07",
   "metadata": {},
   "outputs": [],
   "source": [
    "hay_pares_lista([1,3,4])"
   ]
  },
  {
   "cell_type": "code",
   "execution_count": null,
   "id": "0a71a169",
   "metadata": {},
   "outputs": [],
   "source": [
    "hay_pares_lista([1,1,5])"
   ]
  },
  {
   "cell_type": "markdown",
   "id": "9924a6f0",
   "metadata": {},
   "source": [
    "Notemos que en efecto la función cumple su cometido en cuanto a detectar pares, pero si pasamos una lista con impares no realiza nada.\n",
    "\n",
    "#### Error común de programación. Veamos este error que resulta ser más común de lo que se piensa por una mala lógica."
   ]
  },
  {
   "cell_type": "code",
   "execution_count": null,
   "id": "8820570a",
   "metadata": {},
   "outputs": [],
   "source": [
    "def hay_pares_lista(lista_num):\n",
    "    for num in lista_num:\n",
    "        if num % 2 == 0:\n",
    "            return True\n",
    "        else:\n",
    "            pass"
   ]
  },
  {
   "cell_type": "markdown",
   "id": "1261a9db",
   "metadata": {},
   "source": [
    "Esto está mal porque return False en ese else nos regresará falso al primer número impar que encuentre y no terminará de revisar toda la lista."
   ]
  },
  {
   "cell_type": "code",
   "execution_count": null,
   "id": "f5b48be8",
   "metadata": {},
   "outputs": [],
   "source": [
    "#Demostración\n"
   ]
  },
  {
   "cell_type": "markdown",
   "id": "291dcadd",
   "metadata": {},
   "source": [
    "#### El modo correcto: para evitar este error debemos de asegurar que el ciclo for termine de recorrerse y en caso de no encontrar pares ahora sí regresar false."
   ]
  },
  {
   "cell_type": "code",
   "execution_count": null,
   "id": "147be6fa",
   "metadata": {},
   "outputs": [],
   "source": [
    "def hay_pares_lista(lista_num):\n",
    "    for num in lista_num:\n",
    "        if num % 2 == 0:\n",
    "            return True\n",
    "        else:\n",
    "            pass\n",
    "    else:\n",
    "        return False"
   ]
  },
  {
   "cell_type": "code",
   "execution_count": null,
   "id": "01881143",
   "metadata": {},
   "outputs": [],
   "source": []
  },
  {
   "cell_type": "code",
   "execution_count": null,
   "id": "cb196524",
   "metadata": {},
   "outputs": [],
   "source": []
  },
  {
   "cell_type": "markdown",
   "id": "443f2f94",
   "metadata": {},
   "source": [
    "#### Regresando todos los pares como una lista\n",
    "\n",
    "El objeto que regresa return puede ser de cualquier tipo, incluso una lista:"
   ]
  },
  {
   "cell_type": "code",
   "execution_count": null,
   "id": "8d5b7efa",
   "metadata": {},
   "outputs": [],
   "source": [
    "def hay_pares_lista(lista_num):\n",
    "    \n",
    "    num_pares = []\n",
    "    \n",
    "    for num in lista_num:\n",
    "        if num % 2 == 0:\n",
    "            num_pares.append(num)\n",
    "        else:\n",
    "            pass\n",
    "    return num_pares"
   ]
  },
  {
   "cell_type": "code",
   "execution_count": null,
   "id": "106fc109",
   "metadata": {},
   "outputs": [],
   "source": [
    "hay_pares_lista([1,2,5,7,8,10,15,20])"
   ]
  },
  {
   "cell_type": "code",
   "execution_count": null,
   "id": "96ad64ee",
   "metadata": {},
   "outputs": [],
   "source": [
    "hay_pares_lista([1,5,15,11])"
   ]
  },
  {
   "cell_type": "markdown",
   "id": "3cc9cb04",
   "metadata": {},
   "source": [
    "### Unpacking de tuplas\n",
    "\n",
    "Similar a cómo hacíamos el unpacking usando el ciclo for, podemos realizar lo mismo mediante una función."
   ]
  },
  {
   "cell_type": "code",
   "execution_count": null,
   "id": "6e391e48",
   "metadata": {},
   "outputs": [],
   "source": [
    "#Tomemos una lista de tuplas\n",
    "horas_trabajo = [('Juan',20),('Paco',40),('Alberto',65)]"
   ]
  },
  {
   "cell_type": "code",
   "execution_count": null,
   "id": "30b9a688",
   "metadata": {},
   "outputs": [],
   "source": [
    "def chequeo_horas(horas_trabajo):\n",
    "    #Definamos un máximo inicial, por ejemplo 0\n",
    "    maximo_actual = 0\n",
    "    #Además una variable antes de comenzar el ciclo\n",
    "    mejor_empleado = ''\n",
    "    \n",
    "    for empleado,horas in horas_trabajo:\n",
    "        if horas > maximo_actual:\n",
    "            maximo_actual = horas\n",
    "            mejor_empleado = empleado\n",
    "        else:\n",
    "            pass\n",
    "    return (mejor_empleado, maximo_actual)"
   ]
  },
  {
   "cell_type": "code",
   "execution_count": null,
   "id": "f0118305",
   "metadata": {},
   "outputs": [],
   "source": [
    "chequeo_horas(horas_trabajo)"
   ]
  },
  {
   "cell_type": "markdown",
   "id": "f03734a9",
   "metadata": {},
   "source": [
    "### Interacciones entre funciones\n",
    "\n",
    "Generalmente, las funciones usan los resultados de otras funciones. Veamos por ejemplo en este sencillo juego de adivinar.\n",
    "\n",
    "Hay 3 posiciones en una lista, una es una 'O', una función va a revolver la lista y otra función tomará el intento de adivinar del usuario. Finalmente otra función revisará si el usuario adivinó dónde estaba la 'O'. "
   ]
  },
  {
   "cell_type": "code",
   "execution_count": null,
   "id": "dc925a66",
   "metadata": {},
   "outputs": [],
   "source": [
    "#Definimos una lista e importamos la función suffle\n",
    "from random import shuffle\n",
    "\n",
    "lista_juego = [' ','O',' ']"
   ]
  },
  {
   "cell_type": "code",
   "execution_count": null,
   "id": "40a2d2c4",
   "metadata": {},
   "outputs": [],
   "source": [
    "def revolver_lista(lista_juego):\n",
    "    \n",
    "    shuffle(lista_juego)\n",
    "    return lista_juego"
   ]
  },
  {
   "cell_type": "code",
   "execution_count": null,
   "id": "47d170dd",
   "metadata": {},
   "outputs": [],
   "source": [
    "lista_juego"
   ]
  },
  {
   "cell_type": "code",
   "execution_count": null,
   "id": "80469928",
   "metadata": {},
   "outputs": [],
   "source": [
    "revolver_lista(lista_juego)"
   ]
  },
  {
   "cell_type": "code",
   "execution_count": null,
   "id": "ec800952",
   "metadata": {},
   "outputs": [],
   "source": [
    "#La función que toma la respuesta del usuario\n",
    "def adivinacion_usuario():\n",
    "    respuesta = ''\n",
    "    \n",
    "    while respuesta not in ['0','1','2']:\n",
    "        respuesta = input('Selecciona un número: 0, 1 o 2')\n",
    "    return int(respuesta)"
   ]
  },
  {
   "cell_type": "code",
   "execution_count": null,
   "id": "492aef89",
   "metadata": {},
   "outputs": [],
   "source": [
    "adivinacion_usuario()"
   ]
  },
  {
   "cell_type": "code",
   "execution_count": null,
   "id": "7d7fd4de",
   "metadata": {},
   "outputs": [],
   "source": [
    "# Definamos ahora la función que compara la posición de la bolita con la respuesta del usuario\n",
    "def verifica_adivinacion(lista_juego, respuesta):\n",
    "    if lista_juego[respuesta] == 'O':\n",
    "        print('Felicidades! Adivinaste.')\n",
    "    else:\n",
    "        print('Buuu! Mala suerte')\n",
    "        print(lista_juego)"
   ]
  },
  {
   "cell_type": "code",
   "execution_count": null,
   "id": "babf49fa",
   "metadata": {},
   "outputs": [],
   "source": [
    "#Basta ahora con crear una lógica simple de ejecución para correr nuestro juego\n",
    "lista_inicial = [' ','O',' ']\n",
    "\n",
    "#Mezcla!\n",
    "lista_revuelta = revolver_lista(lista_inicial)\n",
    "\n",
    "#Obtenemos la entrada del usuario\n",
    "respuesta = adivinacion_usuario()\n",
    "\n",
    "#Revisamos que haya adivinado o no\n",
    "# Esta función va a tomar como argumento los resultados de dos funciones anteriores\n",
    "\n",
    "verifica_adivinacion(lista_revuelta, respuesta)"
   ]
  },
  {
   "cell_type": "code",
   "execution_count": null,
   "id": "9ee54946",
   "metadata": {},
   "outputs": [],
   "source": []
  }
 ],
 "metadata": {
  "kernelspec": {
   "display_name": "Python 3 (ipykernel)",
   "language": "python",
   "name": "python3"
  },
  "language_info": {
   "codemirror_mode": {
    "name": "ipython",
    "version": 3
   },
   "file_extension": ".py",
   "mimetype": "text/x-python",
   "name": "python",
   "nbconvert_exporter": "python",
   "pygments_lexer": "ipython3",
   "version": "3.9.7"
  }
 },
 "nbformat": 4,
 "nbformat_minor": 5
}
