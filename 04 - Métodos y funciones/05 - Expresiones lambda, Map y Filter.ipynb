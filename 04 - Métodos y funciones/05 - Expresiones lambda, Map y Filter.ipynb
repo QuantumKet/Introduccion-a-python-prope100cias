{
 "cells": [
  {
   "cell_type": "markdown",
   "id": "58497e57",
   "metadata": {},
   "source": [
    "# Expresiones lambda, Map y Filter\n",
    "\n",
    "Existen dos tipos especiales de funciones propias de Python: map y filter. Revisemos en que consisten antes de estudiar un tipo aún más especial de funciones que no serán muy útiles a futuro.\n",
    "\n",
    "# Función map\n",
    "\n",
    "La función `map()` nos permite \"mapear\" una función a un objeto iterable. Es decir, permite que de manera rapida llamemos a la misma función para cada item dentro de nuestro objeto iterable, cómo por ejemplo una lista."
   ]
  },
  {
   "cell_type": "code",
   "execution_count": 4,
   "id": "8d6b2e88",
   "metadata": {},
   "outputs": [],
   "source": [
    "def cuadrado(num):\n",
    "    return num**2"
   ]
  },
  {
   "cell_type": "code",
   "execution_count": 2,
   "id": "8c5a30b2",
   "metadata": {},
   "outputs": [],
   "source": [
    "nums = [1,2,3,4]"
   ]
  },
  {
   "cell_type": "code",
   "execution_count": 5,
   "id": "51794083",
   "metadata": {},
   "outputs": [
    {
     "data": {
      "text/plain": [
       "<map at 0x27b8f6b9ac0>"
      ]
     },
     "execution_count": 5,
     "metadata": {},
     "output_type": "execute_result"
    }
   ],
   "source": [
    "map(cuadrado,nums)"
   ]
  },
  {
   "cell_type": "code",
   "execution_count": 6,
   "id": "7832e0e1",
   "metadata": {},
   "outputs": [
    {
     "data": {
      "text/plain": [
       "[1, 4, 9, 16]"
      ]
     },
     "execution_count": 6,
     "metadata": {},
     "output_type": "execute_result"
    }
   ],
   "source": [
    "#Para obtener el resultado podemos iterar através de map o convertirlo en lista\n",
    "\n",
    "list(map(cuadrado,nums))"
   ]
  },
  {
   "cell_type": "markdown",
   "id": "1c85e31e",
   "metadata": {},
   "source": [
    "Map no se limita a funciones tan sencillas, por ejemplo, podemos realizar algo más complejo:"
   ]
  },
  {
   "cell_type": "code",
   "execution_count": 7,
   "id": "78c49af4",
   "metadata": {},
   "outputs": [],
   "source": [
    "def splicer(string):\n",
    "    if len(string) % 2 == 0:\n",
    "        return 'es par'\n",
    "    else:\n",
    "        return string[0]"
   ]
  },
  {
   "cell_type": "code",
   "execution_count": 8,
   "id": "87292300",
   "metadata": {},
   "outputs": [],
   "source": [
    "nombres = ['Juan', 'Azul', 'Karen', 'Alberto']"
   ]
  },
  {
   "cell_type": "code",
   "execution_count": 9,
   "id": "0770df07",
   "metadata": {},
   "outputs": [
    {
     "data": {
      "text/plain": [
       "['es par', 'es par', 'K', 'A']"
      ]
     },
     "execution_count": 9,
     "metadata": {},
     "output_type": "execute_result"
    }
   ],
   "source": [
    "list(map(splicer,nombres))"
   ]
  },
  {
   "cell_type": "markdown",
   "id": "25b7ad8a",
   "metadata": {},
   "source": [
    "### Función filter\n",
    "\n",
    "Esta función regresa un iterador de aquellos elementos que tras iterar osbre ellos la función regresa un valor verdadero. Así necesitamos una función que filtre si algo es verdad o no. Luego al pasarla por filter() por medio de un iterable recuperamos los objetos que regresan valores verdaderos. "
   ]
  },
  {
   "cell_type": "code",
   "execution_count": 10,
   "id": "1a438997",
   "metadata": {},
   "outputs": [],
   "source": [
    "def es_par(num):\n",
    "    return num%2==0"
   ]
  },
  {
   "cell_type": "code",
   "execution_count": 11,
   "id": "8a90bf80",
   "metadata": {},
   "outputs": [
    {
     "data": {
      "text/plain": [
       "[0, 1, 2, 3, 4, 5, 6, 7, 8, 9, 10]"
      ]
     },
     "execution_count": 11,
     "metadata": {},
     "output_type": "execute_result"
    }
   ],
   "source": [
    "nums = [x for x in range(11)]\n",
    "nums"
   ]
  },
  {
   "cell_type": "code",
   "execution_count": 12,
   "id": "fd2c4d01",
   "metadata": {},
   "outputs": [
    {
     "data": {
      "text/plain": [
       "<filter at 0x27b8f6d1400>"
      ]
     },
     "execution_count": 12,
     "metadata": {},
     "output_type": "execute_result"
    }
   ],
   "source": [
    "filter(es_par,nums)"
   ]
  },
  {
   "cell_type": "code",
   "execution_count": 13,
   "id": "8b76bda0",
   "metadata": {},
   "outputs": [
    {
     "data": {
      "text/plain": [
       "[0, 2, 4, 6, 8, 10]"
      ]
     },
     "execution_count": 13,
     "metadata": {},
     "output_type": "execute_result"
    }
   ],
   "source": [
    "list(filter(es_par,nums))"
   ]
  },
  {
   "cell_type": "markdown",
   "id": "e0f170a2",
   "metadata": {},
   "source": [
    "### Expresiones lambda\n",
    "\n",
    "Una de las características más usadas de Python son las funciones lambda, las cuales pueden resultar un poco confusas para los principiantes. Las funciones lambda nos permiten crear funciones \"anónimas\", esto es básicamente que se crean funciones que se corren ad-hoc sin necesidad de definirlas mediante def.\n",
    "\n",
    "#### El cuerpo de una función lambda es una sola expresión NO un bloque de instrucciones\n",
    "\n",
    "El cuerpo de la función lambda es similar a lo que se pone después de `return` en una función clásica. Simplemente escribimos el resultado como una expresión en lugar de retornarla de manera explicita. Debido a que el cuerpo se limita a una sola expresión, las funciones lambda están pensadas para realizar tareas simples y así evitar el uso de `def` y tareas más largas.\n",
    "\n",
    "Veamos como podemos realizar una expresión lambda"
   ]
  },
  {
   "cell_type": "code",
   "execution_count": 14,
   "id": "70963d70",
   "metadata": {},
   "outputs": [],
   "source": [
    "#Una función que nos de el cuadrado de un número:\n",
    "def cuadrado(num):\n",
    "    resultado = num**2\n",
    "    return resultado"
   ]
  },
  {
   "cell_type": "code",
   "execution_count": 15,
   "id": "088f0c36",
   "metadata": {},
   "outputs": [
    {
     "data": {
      "text/plain": [
       "4"
      ]
     },
     "execution_count": 15,
     "metadata": {},
     "output_type": "execute_result"
    }
   ],
   "source": [
    "cuadrado(2)"
   ]
  },
  {
   "cell_type": "code",
   "execution_count": 18,
   "id": "ea4caa96",
   "metadata": {},
   "outputs": [],
   "source": [
    "#Podemos simplificar esta función\n",
    "\n",
    "def cuadrado(num):\n",
    "    return num**2"
   ]
  },
  {
   "cell_type": "code",
   "execution_count": 19,
   "id": "cab566c8",
   "metadata": {},
   "outputs": [
    {
     "data": {
      "text/plain": [
       "4"
      ]
     },
     "execution_count": 19,
     "metadata": {},
     "output_type": "execute_result"
    }
   ],
   "source": [
    "cuadrado(2)"
   ]
  },
  {
   "cell_type": "code",
   "execution_count": 20,
   "id": "25252132",
   "metadata": {},
   "outputs": [],
   "source": [
    "# Y aún más\n",
    "\n",
    "def cuadrado(num): return num**2"
   ]
  },
  {
   "cell_type": "code",
   "execution_count": 21,
   "id": "7afec18a",
   "metadata": {},
   "outputs": [
    {
     "data": {
      "text/plain": [
       "4"
      ]
     },
     "execution_count": 21,
     "metadata": {},
     "output_type": "execute_result"
    }
   ],
   "source": [
    "cuadrado(2)"
   ]
  },
  {
   "cell_type": "markdown",
   "id": "2cb79f33",
   "metadata": {},
   "source": [
    "Esta última forma es realmente la forma de una expresión lambda. Una expresión lambda es del tipo:"
   ]
  },
  {
   "cell_type": "code",
   "execution_count": 22,
   "id": "81183934",
   "metadata": {},
   "outputs": [
    {
     "data": {
      "text/plain": [
       "<function __main__.<lambda>(num)>"
      ]
     },
     "execution_count": 22,
     "metadata": {},
     "output_type": "execute_result"
    }
   ],
   "source": [
    "lambda num: num**2"
   ]
  },
  {
   "cell_type": "code",
   "execution_count": 23,
   "id": "f3d7efce",
   "metadata": {},
   "outputs": [],
   "source": [
    "#Usualmente lo que voy a poner aquí NO se hace pero quiero mostrar que funciona igual que las funciones pasadas\n",
    "\n",
    "cuadrado = lambda num: num**2"
   ]
  },
  {
   "cell_type": "code",
   "execution_count": 24,
   "id": "33dd19f0",
   "metadata": {},
   "outputs": [
    {
     "data": {
      "text/plain": [
       "4"
      ]
     },
     "execution_count": 24,
     "metadata": {},
     "output_type": "execute_result"
    }
   ],
   "source": [
    "cuadrado(2)"
   ]
  },
  {
   "cell_type": "markdown",
   "id": "37789c20",
   "metadata": {},
   "source": [
    "La principal razón por la cual usar las expresiones lambda es debido a que muchas llamadas de funciones necesitan que se les pase una función, como por ejemplo Map o Filter, así en ocasiones es más fácil (y muy seguido la única forma) de realizar. \n",
    "\n",
    "A continuación algunos ejemplos de expresiones lambda usuales:"
   ]
  },
  {
   "cell_type": "code",
   "execution_count": 25,
   "id": "cb7bc062",
   "metadata": {},
   "outputs": [
    {
     "data": {
      "text/plain": [
       "<function __main__.<lambda>(s)>"
      ]
     },
     "execution_count": 25,
     "metadata": {},
     "output_type": "execute_result"
    }
   ],
   "source": [
    "#expresión lambda que recupera el primer elemento de una cadena\n",
    "lambda s: s[0]"
   ]
  },
  {
   "cell_type": "code",
   "execution_count": 26,
   "id": "29eeda8f",
   "metadata": {},
   "outputs": [
    {
     "data": {
      "text/plain": [
       "<function __main__.<lambda>(s)>"
      ]
     },
     "execution_count": 26,
     "metadata": {},
     "output_type": "execute_result"
    }
   ],
   "source": [
    "# expresión lambda para invertir una cadena\n",
    "lambda s: s[::-1]"
   ]
  },
  {
   "cell_type": "markdown",
   "id": "1918e879",
   "metadata": {},
   "source": [
    "Se pueden pasar incluso multiples argumentos en una expresión lambda. Solo recuerda que no todas las funciones son transmutables a una expresión lambda."
   ]
  },
  {
   "cell_type": "code",
   "execution_count": 27,
   "id": "1cbeb779",
   "metadata": {},
   "outputs": [
    {
     "data": {
      "text/plain": [
       "<function __main__.<lambda>(x, y)>"
      ]
     },
     "execution_count": 27,
     "metadata": {},
     "output_type": "execute_result"
    }
   ],
   "source": [
    "lambda x,y: x+y"
   ]
  },
  {
   "cell_type": "markdown",
   "id": "a049b5cb",
   "metadata": {},
   "source": [
    "¡Felicidades! Ahora sabes herramientas más avanzadas de funciones."
   ]
  }
 ],
 "metadata": {
  "kernelspec": {
   "display_name": "Python 3 (ipykernel)",
   "language": "python",
   "name": "python3"
  },
  "language_info": {
   "codemirror_mode": {
    "name": "ipython",
    "version": 3
   },
   "file_extension": ".py",
   "mimetype": "text/x-python",
   "name": "python",
   "nbconvert_exporter": "python",
   "pygments_lexer": "ipython3",
   "version": "3.9.7"
  }
 },
 "nbformat": 4,
 "nbformat_minor": 5
}
