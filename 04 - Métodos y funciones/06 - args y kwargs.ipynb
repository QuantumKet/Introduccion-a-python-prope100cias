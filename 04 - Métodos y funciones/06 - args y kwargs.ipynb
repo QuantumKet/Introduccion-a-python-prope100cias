{
 "cells": [
  {
   "cell_type": "markdown",
   "id": "065ea480",
   "metadata": {},
   "source": [
    "# `*args` y `**kargs`\n",
    "\n",
    "Después de trabajar un buen rato con Python es común comenzar a encontrarse con `*args` y `**kwargs`. Estos terminos generalmente se muestran cómo parámetros de una función. Bien, veamos qué hacen."
   ]
  },
  {
   "cell_type": "code",
   "execution_count": 2,
   "id": "0d057b70",
   "metadata": {},
   "outputs": [
    {
     "data": {
      "text/plain": [
       "6.5"
      ]
     },
     "execution_count": 2,
     "metadata": {},
     "output_type": "execute_result"
    }
   ],
   "source": [
    "#Tomemos una función simple\n",
    "def mi_func(a,b):\n",
    "    return sum((a,b))*.05\n",
    "\n",
    "mi_func(100,30)"
   ]
  },
  {
   "cell_type": "markdown",
   "id": "6697370d",
   "metadata": {},
   "source": [
    "Esta función toma el 5% de la suma de dos números. En este ejemplo `a` y `b` son <b>argumentos posicionales</b>, es por eso que 100 es asignado a `a` porque es el <b>primer</b> argumento y 30 a `b` porque es el <b>segundo</b> argumento. Además notemos que para trabajar con múltiples argumentos con la función `sum()` se deben de pasar los números como una tupla. \n",
    "\n",
    "¿Cómo podríamos trabajar con más de dos números?\n",
    "La forma más inmediata sería pensar en pasar todos los parametros que queremos como una tupla, aúnque estos sean demasiados, y darle a cada uno de ellos un valor default"
   ]
  },
  {
   "cell_type": "code",
   "execution_count": 3,
   "id": "430ef0a4",
   "metadata": {},
   "outputs": [
    {
     "data": {
      "text/plain": [
       "6.5"
      ]
     },
     "execution_count": 3,
     "metadata": {},
     "output_type": "execute_result"
    }
   ],
   "source": [
    "def mi_func(a=0,b=0,c=0,d=0,e=0,f=0):\n",
    "    return sum((a,b,c,d,e,f))*.05\n",
    "\n",
    "mi_func(100,30)"
   ]
  },
  {
   "cell_type": "code",
   "execution_count": 4,
   "id": "de98db83",
   "metadata": {},
   "outputs": [
    {
     "data": {
      "text/plain": [
       "8.0"
      ]
     },
     "execution_count": 4,
     "metadata": {},
     "output_type": "execute_result"
    }
   ],
   "source": [
    "mi_func(40,100,20)"
   ]
  },
  {
   "cell_type": "markdown",
   "id": "f5f22185",
   "metadata": {},
   "source": [
    "Aunque sea funcional, la solución no es muy efectiva. Aquí es donde `*args` hace su brillante participación.\n",
    "\n",
    "### `*args`\n",
    "\n",
    "Cuando el parametro de una función inicia con asterísco, nos permite ingresar un número arbitrario de argumentos y la función los toma como una tupla de valores. Así la función anterior es:"
   ]
  },
  {
   "cell_type": "code",
   "execution_count": 7,
   "id": "91a5a2d4",
   "metadata": {},
   "outputs": [
    {
     "data": {
      "text/plain": [
       "6.5"
      ]
     },
     "execution_count": 7,
     "metadata": {},
     "output_type": "execute_result"
    }
   ],
   "source": [
    "def mi_func_args(*numeros):\n",
    "    return sum(numeros)*.05\n",
    "\n",
    "mi_func_args(100,30)"
   ]
  },
  {
   "cell_type": "code",
   "execution_count": 8,
   "id": "f1a4d23f",
   "metadata": {},
   "outputs": [
    {
     "data": {
      "text/plain": [
       "8.0"
      ]
     },
     "execution_count": 8,
     "metadata": {},
     "output_type": "execute_result"
    }
   ],
   "source": [
    "mi_func_args(40,100,20)"
   ]
  },
  {
   "cell_type": "code",
   "execution_count": 9,
   "id": "2a7d28c6",
   "metadata": {},
   "outputs": [
    {
     "data": {
      "text/plain": [
       "31.1"
      ]
     },
     "execution_count": 9,
     "metadata": {},
     "output_type": "execute_result"
    }
   ],
   "source": [
    "mi_func_args(40,100,20,80,70,90,40,10,98,74)"
   ]
  },
  {
   "cell_type": "markdown",
   "id": "48cb9d33",
   "metadata": {},
   "source": [
    "Vale la pena notar que la palabra \"args\" es totalmente arbitraria, claro, mientras pongamos un asterísco antes de la palabra."
   ]
  },
  {
   "cell_type": "markdown",
   "id": "665a461b",
   "metadata": {},
   "source": [
    "### `**kwargs`\n",
    "\n",
    "Otra manera de soportar números arbitrarios de parámetros es con el uso de `**kwargs`, esto construye un diccionario de keys/valores. Por ejemplo: "
   ]
  },
  {
   "cell_type": "code",
   "execution_count": 11,
   "id": "bf812f23",
   "metadata": {},
   "outputs": [
    {
     "name": "stdout",
     "output_type": "stream",
     "text": [
      "Mi fruta favorita es manzana\n"
     ]
    }
   ],
   "source": [
    "def mi_func(**kwargs):\n",
    "    if 'fruta' in kwargs:\n",
    "        print(f\"Mi fruta favorita es {kwargs['fruta']}\")\n",
    "    else:\n",
    "        print('No hay buena fruta :c')\n",
    "\n",
    "mi_func(fruta = 'manzana')"
   ]
  },
  {
   "cell_type": "code",
   "execution_count": 12,
   "id": "15154b37",
   "metadata": {},
   "outputs": [
    {
     "name": "stdout",
     "output_type": "stream",
     "text": [
      "No hay buena fruta :c\n"
     ]
    }
   ],
   "source": [
    "mi_func()"
   ]
  },
  {
   "cell_type": "markdown",
   "id": "40f98a97",
   "metadata": {},
   "source": [
    "### `*args` y `**kwargs` combinados\n",
    "\n",
    "Se pueden pasar args y kwargs dentro de la misma función, pero los args siempre deben de aparecer antes que los kwargs\n"
   ]
  },
  {
   "cell_type": "code",
   "execution_count": 15,
   "id": "2f1f6f1a",
   "metadata": {},
   "outputs": [],
   "source": [
    "def mi_func(*args,**kwargs):\n",
    "    if 'fruta' and 'jugo' in kwargs:\n",
    "        print(f\"Me gustan los {' y '.join(args)} y mi fruta favorita es {kwargs['fruta']}\")\n",
    "        print(f\"¿Me pueden dar jugo de {kwargs['jugo']}?\")\n",
    "    else:\n",
    "        pass\n"
   ]
  },
  {
   "cell_type": "code",
   "execution_count": 16,
   "id": "19f408e3",
   "metadata": {},
   "outputs": [
    {
     "name": "stdout",
     "output_type": "stream",
     "text": [
      "Me gustan los Huevos y Tocino y mi fruta favorita es la manzana\n",
      "¿Me pueden dar jugo de naranja?\n"
     ]
    }
   ],
   "source": [
    "mi_func('Huevos','Tocino',fruta='la manzana',jugo='naranja')"
   ]
  },
  {
   "cell_type": "code",
   "execution_count": 17,
   "id": "23de998e",
   "metadata": {},
   "outputs": [
    {
     "ename": "SyntaxError",
     "evalue": "positional argument follows keyword argument (Temp/ipykernel_1904/3748060838.py, line 3)",
     "output_type": "error",
     "traceback": [
      "\u001b[1;36m  File \u001b[1;32m\"C:\\Users\\Quantum\\AppData\\Local\\Temp/ipykernel_1904/3748060838.py\"\u001b[1;36m, line \u001b[1;32m3\u001b[0m\n\u001b[1;33m    mi_func(fruta='la manzana',jugo='naranja','Huevos','Tocino')\u001b[0m\n\u001b[1;37m                                                               ^\u001b[0m\n\u001b[1;31mSyntaxError\u001b[0m\u001b[1;31m:\u001b[0m positional argument follows keyword argument\n"
     ]
    }
   ],
   "source": [
    "#Si tratamos de pasar primero los kwargs antes que los args nos enfrentamos a un error\n",
    "\n",
    "mi_func(fruta='la manzana',jugo='naranja','Huevos','Tocino')"
   ]
  },
  {
   "cell_type": "markdown",
   "id": "31f4370f",
   "metadata": {},
   "source": [
    "Cabe aclarar, así como con `*args` el nombre es arbitrario, es usual que `**kwargs` se use así, sin cambiar su nombre.\n",
    "\n",
    "¡Felicidades! Ahora entiendes este tipo avanzado de parametros."
   ]
  }
 ],
 "metadata": {
  "kernelspec": {
   "display_name": "Python 3 (ipykernel)",
   "language": "python",
   "name": "python3"
  },
  "language_info": {
   "codemirror_mode": {
    "name": "ipython",
    "version": 3
   },
   "file_extension": ".py",
   "mimetype": "text/x-python",
   "name": "python",
   "nbconvert_exporter": "python",
   "pygments_lexer": "ipython3",
   "version": "3.9.7"
  }
 },
 "nbformat": 4,
 "nbformat_minor": 5
}
