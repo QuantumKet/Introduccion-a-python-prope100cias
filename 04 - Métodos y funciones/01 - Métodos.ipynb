{
 "cells": [
  {
   "cell_type": "markdown",
   "id": "56a1f90e",
   "metadata": {},
   "source": [
    "# Métodos \n",
    "\n",
    "A lo largo de este curso hemos estado usando métodos integrados de objetos en Python, sin embargo cabe aclarar que nosotros igual podemos contruir métodos e incluso objetos en Python, claro está que esto va más allá del alcance de este curso pero se estudia a profundidad en Programación Orientada a Objetos. \n",
    "\n",
    "Un método es una función construida dentro de un objeto. Los métodos realizan acciones en un objeto y pueden tomar argumentos para realizarlas.\n",
    "\n",
    "La estructura general de un método es:\n",
    "\n",
    "`objeto.metodo(arg1,arg2, arg3, ...)`"
   ]
  },
  {
   "cell_type": "code",
   "execution_count": 1,
   "id": "44146f36",
   "metadata": {},
   "outputs": [],
   "source": [
    "#Un breve ejemplo y repaso de métodos es por ejemplo los del objeto list\n",
    "lst = [1,2,3,4,5]"
   ]
  },
  {
   "cell_type": "code",
   "execution_count": 2,
   "id": "1b123f1f",
   "metadata": {},
   "outputs": [],
   "source": [
    "#Podemos ver todos los métodos en jupyter con tab\n"
   ]
  },
  {
   "cell_type": "code",
   "execution_count": 3,
   "id": "9c839423",
   "metadata": {},
   "outputs": [],
   "source": [
    "#Usando métodos\n"
   ]
  },
  {
   "cell_type": "code",
   "execution_count": 4,
   "id": "21a924ea",
   "metadata": {},
   "outputs": [],
   "source": [
    "#count\n"
   ]
  },
  {
   "cell_type": "code",
   "execution_count": 5,
   "id": "abf6c050",
   "metadata": {},
   "outputs": [
    {
     "data": {
      "text/plain": [
       "1"
      ]
     },
     "execution_count": 5,
     "metadata": {},
     "output_type": "execute_result"
    }
   ],
   "source": [
    "#Si presionamos shift + tab obtenemos ayuda de un método\n",
    "lst.count(2)"
   ]
  },
  {
   "cell_type": "code",
   "execution_count": 6,
   "id": "4b78db41",
   "metadata": {},
   "outputs": [
    {
     "name": "stdout",
     "output_type": "stream",
     "text": [
      "Help on built-in function count:\n",
      "\n",
      "count(value, /) method of builtins.list instance\n",
      "    Return number of occurrences of value.\n",
      "\n"
     ]
    }
   ],
   "source": [
    "#En general en Python podemos hacer esto con la función help()\n",
    "help(lst.count)"
   ]
  },
  {
   "cell_type": "markdown",
   "id": "a09dbec7",
   "metadata": {},
   "source": [
    "¡Felicidades por llegar hasta aquí! con esta breve introducción inaguramos el final de este curso básico."
   ]
  }
 ],
 "metadata": {
  "kernelspec": {
   "display_name": "Python 3 (ipykernel)",
   "language": "python",
   "name": "python3"
  },
  "language_info": {
   "codemirror_mode": {
    "name": "ipython",
    "version": 3
   },
   "file_extension": ".py",
   "mimetype": "text/x-python",
   "name": "python",
   "nbconvert_exporter": "python",
   "pygments_lexer": "ipython3",
   "version": "3.9.7"
  }
 },
 "nbformat": 4,
 "nbformat_minor": 5
}
