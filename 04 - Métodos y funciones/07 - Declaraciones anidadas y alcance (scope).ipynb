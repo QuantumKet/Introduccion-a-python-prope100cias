{
 "cells": [
  {
   "cell_type": "markdown",
   "id": "7a7ec389",
   "metadata": {},
   "source": [
    "# Declaraciones anidadas yalcance (scope)\n",
    "\n",
    "Ahora que ya sabemos escribir nuestras propias funciones y hacer un buen manejo de los argumentos, es importante entender la manera en la que Python maneja los nombres de las variables que nosotros asignamos. Recordemos que Python asigna estas variables de manera dinámica, así cuando creamos un nombre de variable, Python almacena el nombre en un name-space. Los nombres de las variables cuentan con un \"alcance\" (scope), el scope determina la visibilidad de este nombre de variable respecto a otras partes del código.\n",
    "\n",
    "Para entender esto mejor veamos unos ejemplos:"
   ]
  },
  {
   "cell_type": "code",
   "execution_count": 1,
   "id": "09b3eda0",
   "metadata": {},
   "outputs": [],
   "source": [
    "#Comenzamos con este sencillo código\n",
    "\n",
    "x = 10\n",
    "\n",
    "def impresora():\n",
    "    x = 50\n",
    "    return x"
   ]
  },
  {
   "cell_type": "markdown",
   "id": "081542ee",
   "metadata": {},
   "source": [
    "¿Qué imaginas que pasará si imprimimos x?"
   ]
  },
  {
   "cell_type": "code",
   "execution_count": 2,
   "id": "763ab2f3",
   "metadata": {},
   "outputs": [
    {
     "name": "stdout",
     "output_type": "stream",
     "text": [
      "10\n"
     ]
    }
   ],
   "source": [
    "print(x)"
   ]
  },
  {
   "cell_type": "markdown",
   "id": "5c260779",
   "metadata": {},
   "source": [
    "¿Y si imprimimos el  resultado de la función?"
   ]
  },
  {
   "cell_type": "code",
   "execution_count": 5,
   "id": "dbc26519",
   "metadata": {},
   "outputs": [
    {
     "name": "stdout",
     "output_type": "stream",
     "text": [
      "50\n"
     ]
    }
   ],
   "source": [
    "print(impresora())"
   ]
  },
  {
   "cell_type": "markdown",
   "id": "a5dd6e36",
   "metadata": {},
   "source": [
    "Vale, es impresionante, pero ¿cómo es que Python sabe a que **x** nos estamos refiriendo? Aquí es donde el alcance o scope entran. Python tiene una serie de reglas a seguir para decidir a cual variable nos estamos refiriendo.\n",
    "\n",
    "La idea de scope en el código es un concepto muy importante de entender para así poder asignar y llamar correctamente a las variables. El scope de manera simple se describe en tres términos:\n",
    "\n",
    "1. La asignación de nombres creará o cambiará nombres locales de manera predeterminada.\n",
    "2. Las referencias de nombres (en su mayoría) buscan 4 scopes:\n",
    "    1. local\n",
    "    2. encerradas por funciones\n",
    "    3. global\n",
    "    4. built-in\n",
    "3. Los nombres declarados como global y declaraciones no locales mapean nombres asignados a los scope de funciones y modulos que los encierren.\n",
    "\n",
    "El punto #2 es conocido como regla LEGB:\n",
    "\n",
    "L: Local - Nombres asignados de cualquier manera dentro de una función (def o lambda) y no declaradas como global en la función.\n",
    "\n",
    "E: Enclosing function locals - Nombres en el scope local de cualquier función (def o lambda) de dentro hacia afuera\n",
    "\n",
    "G: Global (module) - Nombres asignados en el nivel más alto de un modulo o bien declaradas como globales en un def dentro del archivo\n",
    "\n",
    "B: Built-in (Python) - Nombres preasignados por el propio python en su modulo autocontruido: open, range, ...\n",
    "\n",
    "### Ejemplos con LEGB\n",
    "\n",
    "#### Local"
   ]
  },
  {
   "cell_type": "code",
   "execution_count": 6,
   "id": "a5922ddc",
   "metadata": {},
   "outputs": [],
   "source": [
    "#x es local aquí\n",
    "f = lambda x:x**2"
   ]
  },
  {
   "cell_type": "markdown",
   "id": "643316e4",
   "metadata": {},
   "source": [
    "#### Enclosing function locals\n",
    "\n",
    "Esto lo encontramos cuando por ejemplo tenemos una función dentro de otra función"
   ]
  },
  {
   "cell_type": "code",
   "execution_count": 8,
   "id": "01ba49c6",
   "metadata": {},
   "outputs": [
    {
     "name": "stdout",
     "output_type": "stream",
     "text": [
      "Hola Prope\n"
     ]
    }
   ],
   "source": [
    "nombre='AQUÍ SOY GLOBAL'\n",
    "def saludo():\n",
    "    nombre = 'Prope' ## Aquí la variable nombre es local de la función que la encierra\n",
    "    \n",
    "    def hola():\n",
    "        print('Hola ' + nombre) ##Por ende la variable nombre a la que llama esta función es a la que definimos dentro de saludo()\n",
    "                            ##porque la función hola() está dentro de saludo()\n",
    "    hola()\n",
    "    \n",
    "saludo()"
   ]
  },
  {
   "cell_type": "markdown",
   "id": "ab27c6d2",
   "metadata": {},
   "source": [
    "#### Global\n",
    "\n",
    "Podemos probar que fuera del contexto de la función saludo(), la variable nombre sigue teniendo el valor que definimos fuera de la función, la forma de comprobar que la variable es global es probando que otra celda la reconoce"
   ]
  },
  {
   "cell_type": "code",
   "execution_count": 9,
   "id": "5da0d981",
   "metadata": {},
   "outputs": [
    {
     "data": {
      "text/plain": [
       "'AQUÍ SOY GLOBAL'"
      ]
     },
     "execution_count": 9,
     "metadata": {},
     "output_type": "execute_result"
    }
   ],
   "source": [
    "nombre"
   ]
  },
  {
   "cell_type": "markdown",
   "id": "cfb57c3f",
   "metadata": {},
   "source": [
    "#### Built-in\n",
    "Son los nombres que Python usa para sus funciones integradas (¡recuerda no sobreescribirlas!)"
   ]
  },
  {
   "cell_type": "code",
   "execution_count": 10,
   "id": "d67819bb",
   "metadata": {},
   "outputs": [
    {
     "data": {
      "text/plain": [
       "<function len(obj, /)>"
      ]
     },
     "execution_count": 10,
     "metadata": {},
     "output_type": "execute_result"
    }
   ],
   "source": [
    "len"
   ]
  },
  {
   "cell_type": "markdown",
   "id": "43f5095e",
   "metadata": {},
   "source": [
    "### Variables locales\n",
    "\n",
    "Cuando declaramos variables dentro de una función, estas no están relacionadas en absoluto con otras variables con el mismo nombre **fuera** de la función, es decir, los nombres de las variables son **locales** a la función. Esto se llama alcance de la variable o scope de la variable. Todas las variables tienen el alcance (scope) del bloque donde hayan sido definidas."
   ]
  },
  {
   "cell_type": "code",
   "execution_count": 13,
   "id": "773069ec",
   "metadata": {},
   "outputs": [
    {
     "name": "stdout",
     "output_type": "stream",
     "text": [
      "x vale 10\n",
      "x ahora es dentro de la función 2\n",
      "x es aún 10\n"
     ]
    }
   ],
   "source": [
    "x = 10\n",
    "def f(x):\n",
    "    print('x vale', x)\n",
    "    x=2\n",
    "    print ('x ahora es dentro de la función', x)\n",
    "\n",
    "f(x)\n",
    "print('x es aún',x)"
   ]
  },
  {
   "cell_type": "markdown",
   "id": "89dbc252",
   "metadata": {},
   "source": [
    "### La declaración `global`\n",
    "\n",
    "Si queremos asignar un valor a una variable en el nivel más alto del programa (es decir fuera de cualquier scope), debemos de decirle a Python que este nombre no es local, pero sí es global. Esto se hace usando la declaración `global`. Con esto resulta imposible reasignar un valor a una variable definida fuera de una función si no tiene la declaración global.\n",
    "\n",
    "Podemos usar los valores de variables definidas afuera de la función (asumiendo que no existe una variable con el mismo nombre dentro de la función). Aún así, no es recomendado hacer esto debido a que hace complejo para el programador o lector de código el saber hasta donde fue definida esa variable. En lugar de esto, el uso de `global` hace más claro que la variable se encuentra definida en una parte fuera del bloque."
   ]
  },
  {
   "cell_type": "code",
   "execution_count": 14,
   "id": "2e658462",
   "metadata": {},
   "outputs": [
    {
     "name": "stdout",
     "output_type": "stream",
     "text": [
      "Antes de llamar a func() x vale:  10\n",
      "Esta función está usando la variable global x!\n",
      "Ya que es el valor global entonces x es:  10\n",
      "Como corrimos func() ahora el valor de x es:  2\n",
      "El valor de x (fuera de la función) es:  2\n"
     ]
    }
   ],
   "source": [
    "#Ejemplo\n",
    "x=10\n",
    "def func():\n",
    "    global x\n",
    "    print('Esta función está usando la variable global x!')\n",
    "    print('Ya que es el valor global entonces x es: ',x)\n",
    "    x=2\n",
    "    print('Como corrimos func() ahora el valor de x es: ',x)\n",
    "\n",
    "print('Antes de llamar a func() x vale: ', x)\n",
    "func()\n",
    "print('El valor de x (fuera de la función) es: ', x)"
   ]
  },
  {
   "cell_type": "markdown",
   "id": "a61dab06",
   "metadata": {},
   "source": [
    "`global` es principalmente usado para declarar que x es una variable global, así como la función func() usa la variable global, los cambios que se hagan dentro de la función se verán reflejados incluso fuera de ella. \n",
    "\n",
    "Se pueden especificar más de una variable global: `global x, y, z`\n",
    "\n",
    "Ahora que ya tienes unas nociones más claras del scope, cabe mencionar que puedes usar las funciones `globals()` y `locals()` para revisar cuales son tus variables locales y globales actuales."
   ]
  },
  {
   "cell_type": "markdown",
   "id": "a8741054",
   "metadata": {},
   "source": [
    "\n",
    "\n",
    "¡Felicidades! Con esta lección terminamos este curso básico de Python. Solo queda poner en práctica tus nuevas habilidades ya sea resolviendo los notebooks prácticos o bien programando cosas de tu interés. \n",
    "\n",
    "Como última idea que debes de tener en mente es que TODO EN PYTHON ES UN OBJETO, entonces podemos asignar variables a funciones y realizar aún más funcionalidades. "
   ]
  }
 ],
 "metadata": {
  "kernelspec": {
   "display_name": "Python 3 (ipykernel)",
   "language": "python",
   "name": "python3"
  },
  "language_info": {
   "codemirror_mode": {
    "name": "ipython",
    "version": 3
   },
   "file_extension": ".py",
   "mimetype": "text/x-python",
   "name": "python",
   "nbconvert_exporter": "python",
   "pygments_lexer": "ipython3",
   "version": "3.9.7"
  }
 },
 "nbformat": 4,
 "nbformat_minor": 5
}
