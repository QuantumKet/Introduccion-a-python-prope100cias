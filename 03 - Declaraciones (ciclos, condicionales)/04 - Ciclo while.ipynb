{
 "cells": [
  {
   "cell_type": "markdown",
   "id": "db0d5448",
   "metadata": {},
   "source": [
    "# Ciclo while (while loop)\n",
    "\n",
    "La declaración `while` en Python es una de las maneras más generales de realizar una iteración, en sí `while` se encarga de repetir una instrucción o un grupo de ellas mientras la condición que le demos sea verdadera. Se le conoce cómo ciclo o loop debido a que el código que esté dentro de la declaración se correrá de manera ciclica una y otra vez hasta que la condición deje de ser verdad. \n",
    "\n",
    "La estructura que sigue es:\n",
    "\n",
    "`while condition:\n",
    "    haz algo\n",
    " else:\n",
    "     haz algo hasta el final`\n",
    "     \n",
    "### Ejemplo 1"
   ]
  },
  {
   "cell_type": "code",
   "execution_count": null,
   "id": "b6a7325f",
   "metadata": {},
   "outputs": [],
   "source": [
    "#Ejemplo básico con while\n"
   ]
  },
  {
   "cell_type": "markdown",
   "id": "1fa4e4c3",
   "metadata": {},
   "source": [
    "Notemos como las instrucciones se repitieron una y otra vez hasta que la condición dejó de ser verdadera, después de esto el ciclo se detuvo. \n",
    "\n",
    "Veamos como funciona ahora usando un `else`\n",
    "\n",
    "### Ejemplo 2 (usando else)"
   ]
  },
  {
   "cell_type": "code",
   "execution_count": null,
   "id": "2032e489",
   "metadata": {},
   "outputs": [],
   "source": []
  },
  {
   "cell_type": "markdown",
   "id": "17b2de32",
   "metadata": {},
   "source": [
    "## Break, continue y pass\n",
    "\n",
    "Podemos usar las palabras reservadas `break`, `continue` y `pass` dentro de nuestros ciclos para añadir ciertas funcionalidades en diversos casos. De manera general estas palabras tienen estos signficados\n",
    "\n",
    "    break: rompe la ejecución del ciclo más cercano que lo contenga.\n",
    "    continue: continua la ejecución hasta arriba del ciclo más cercano que la contenga.\n",
    "    pass: no hagas nada.\n",
    "\n",
    "En especial `break` y `continue` pueden aparecer en estructuras similares a esta:\n",
    "\n",
    "`while condition:\n",
    "    #Haz algo\n",
    "    if condition:\n",
    "        break\n",
    "    else:\n",
    "        continue\n",
    " else`\n",
    "\n",
    "Notemos que ambas palabras pueden aparecer en cualquier parte del código dentro del ciclo, pero usualmente se ponen en validaciones condicionales anidadas para realizar alguna acción en base a algina condición."
   ]
  },
  {
   "cell_type": "code",
   "execution_count": null,
   "id": "ad909a7d",
   "metadata": {},
   "outputs": [],
   "source": [
    "#Ejemplo\n",
    "x = 0\n",
    "\n",
    "while x < 10:\n",
    "    print('x vale actualmente: ',x)\n",
    "    print(' x todavía es menor a 10, le sumaré 1 a x')\n",
    "    x+=1\n",
    "    if x==3:\n",
    "        print('x==3')\n",
    "    else:\n",
    "        print('continuando...')\n",
    "        continue"
   ]
  },
  {
   "cell_type": "markdown",
   "id": "f2fa19ca",
   "metadata": {},
   "source": [
    "Notemos como en x=3 imprimimos x==3, ahora añadamos un `break` en esta parte del código y veamos que pasa."
   ]
  },
  {
   "cell_type": "code",
   "execution_count": null,
   "id": "899e5030",
   "metadata": {},
   "outputs": [],
   "source": [
    "#Ejemplo\n",
    "x = 0\n",
    "\n",
    "while x < 10:\n",
    "    print('x vale actualmente: ',x)\n",
    "    print(' x todavía es menor a 10, le sumaré 1 a x')\n",
    "    x+=1\n",
    "    if x==3:\n",
    "        print('x==3, terminando ciclo')\n",
    "        break\n",
    "    else:\n",
    "        print('continuando...')\n",
    "        continue"
   ]
  },
  {
   "cell_type": "markdown",
   "id": "453c4d2c",
   "metadata": {},
   "source": [
    "Después de aprender esto, es fácil imaginar que sin una condición de salida podriamos generar ciclos infinitos.\n",
    "En efecto esto ocurre.\n",
    "\n",
    "### Advertencia\n",
    "<b>Evita realizar este tipo de prácticas, incluso evita correr la celda de aqupi abajo, en caso de que lo hayas hecho, reinicia el Kernel de tu notebook</b>"
   ]
  },
  {
   "cell_type": "code",
   "execution_count": null,
   "id": "b1acf235",
   "metadata": {},
   "outputs": [],
   "source": [
    "#Ciclo infinito\n",
    "while True:\n",
    "    print('Ayudame me siento infinito!')"
   ]
  },
  {
   "cell_type": "markdown",
   "id": "d4c0e2da",
   "metadata": {},
   "source": [
    "¡Felicidades! Ahora sabes como crear ciclos while."
   ]
  }
 ],
 "metadata": {
  "kernelspec": {
   "display_name": "Python 3 (ipykernel)",
   "language": "python",
   "name": "python3"
  },
  "language_info": {
   "codemirror_mode": {
    "name": "ipython",
    "version": 3
   },
   "file_extension": ".py",
   "mimetype": "text/x-python",
   "name": "python",
   "nbconvert_exporter": "python",
   "pygments_lexer": "ipython3",
   "version": "3.9.7"
  }
 },
 "nbformat": 4,
 "nbformat_minor": 5
}
