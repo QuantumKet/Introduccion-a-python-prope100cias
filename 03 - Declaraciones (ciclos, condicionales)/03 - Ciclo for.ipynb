{
 "cells": [
  {
   "cell_type": "markdown",
   "id": "c633c01c",
   "metadata": {},
   "source": [
    "# Ciclo for (for loop)\n",
    "\n",
    "Más conocido cómo for loop, el ciclo for actua como un iterador en Python, es decir va recorriendo items de una secuencia o de cualquier objeto iterable, como cadenas, listas, tuplas o incluso diccionarios. \n",
    "\n",
    "El ciclo for corresponde a la siguiente estructura:\n",
    "\n",
    "`for item in objeto:\n",
    "    #haz algo`\n",
    "El nombre de la variable que se usa para el item es completamente arbitraria pero se recomienda usar nombres claros para evitar errores. El nombre de esta variable es completamente utilizable dentro del ciclo pero hay que tener en cuenta que el valor de la variable irá cambiando por cada iteración que se realice. Esto es útil en caso de que se quieran realizar por ejemplos declaraciones`if` para validar información, o realizarle algunas otras operaciones a la variable. \n"
   ]
  },
  {
   "cell_type": "markdown",
   "id": "cc5b1041",
   "metadata": {},
   "source": [
    "### Ejemplo 1"
   ]
  },
  {
   "cell_type": "code",
   "execution_count": 1,
   "id": "ce42a75f",
   "metadata": {},
   "outputs": [],
   "source": [
    "#Ejemplo básico con for\n"
   ]
  },
  {
   "cell_type": "markdown",
   "id": "d3047eee",
   "metadata": {},
   "source": [
    "### Ejemplo 2"
   ]
  },
  {
   "cell_type": "code",
   "execution_count": 2,
   "id": "b2570401",
   "metadata": {},
   "outputs": [],
   "source": [
    "# Ejemplo usando % y condicional\n"
   ]
  },
  {
   "cell_type": "markdown",
   "id": "73810a9a",
   "metadata": {},
   "source": [
    "### Ejemplo 3"
   ]
  },
  {
   "cell_type": "code",
   "execution_count": 3,
   "id": "46ce8d5e",
   "metadata": {},
   "outputs": [],
   "source": [
    "#Ejemplo usando %, condicional y else\n"
   ]
  },
  {
   "cell_type": "markdown",
   "id": "3f161125",
   "metadata": {},
   "source": [
    "### Ejemplo 4"
   ]
  },
  {
   "cell_type": "code",
   "execution_count": 4,
   "id": "c1ef05fc",
   "metadata": {},
   "outputs": [],
   "source": [
    "#Ejemplo usando redefinicion de variables\n"
   ]
  },
  {
   "cell_type": "markdown",
   "id": "90dc967a",
   "metadata": {},
   "source": [
    "### for con Strings"
   ]
  },
  {
   "cell_type": "code",
   "execution_count": 5,
   "id": "a4fab111",
   "metadata": {},
   "outputs": [],
   "source": [
    "#for con strings\n"
   ]
  },
  {
   "cell_type": "markdown",
   "id": "678ff727",
   "metadata": {},
   "source": [
    "### for con tuplas"
   ]
  },
  {
   "cell_type": "code",
   "execution_count": 6,
   "id": "a828b848",
   "metadata": {},
   "outputs": [],
   "source": [
    "#for con tuplas\n"
   ]
  },
  {
   "cell_type": "markdown",
   "id": "94447537",
   "metadata": {},
   "source": [
    "Los for usando tuplas tienen una peculiaridad interesante. Si estamos iterando sobre una secuencia que contiene tuplas, el item que recuperamos es una tupla en sí."
   ]
  },
  {
   "cell_type": "code",
   "execution_count": 7,
   "id": "2b0e7936",
   "metadata": {},
   "outputs": [],
   "source": [
    "lista2 = [(1,2),(3,4),(5,6)]"
   ]
  },
  {
   "cell_type": "code",
   "execution_count": 8,
   "id": "d010d401",
   "metadata": {},
   "outputs": [
    {
     "name": "stdout",
     "output_type": "stream",
     "text": [
      "(1, 2)\n",
      "(3, 4)\n",
      "(5, 6)\n"
     ]
    }
   ],
   "source": [
    "for tup in lista2:\n",
    "    print(tup)"
   ]
  },
  {
   "cell_type": "markdown",
   "id": "fa9a2c28",
   "metadata": {},
   "source": [
    "### Unpacking\n",
    "Una característica del uso de tuplas en ciclos for con Python es que podemos \"desempaquetar\" las tuplas para así obtener algún valor que nos interese."
   ]
  },
  {
   "cell_type": "code",
   "execution_count": 10,
   "id": "b82fc9c2",
   "metadata": {},
   "outputs": [
    {
     "name": "stdout",
     "output_type": "stream",
     "text": [
      "1\n",
      "3\n",
      "5\n"
     ]
    }
   ],
   "source": [
    "for (t1,t2) in lista2:\n",
    "    print(t1)"
   ]
  },
  {
   "cell_type": "markdown",
   "id": "9096c1a9",
   "metadata": {},
   "source": [
    "Veamos como por medio de una secuencia hemos accedido a los items de las tuplas usando unpacking. Esto es importante porque muchos objetos entregan su versión iterable por medio de tuplas."
   ]
  },
  {
   "cell_type": "markdown",
   "id": "f6f40a4a",
   "metadata": {},
   "source": [
    "### for con diccionarios"
   ]
  },
  {
   "cell_type": "code",
   "execution_count": 11,
   "id": "0906326f",
   "metadata": {},
   "outputs": [],
   "source": [
    "d={'k1':1,'k2':2,'k3':3}"
   ]
  },
  {
   "cell_type": "code",
   "execution_count": 12,
   "id": "b7a1f89c",
   "metadata": {},
   "outputs": [
    {
     "name": "stdout",
     "output_type": "stream",
     "text": [
      "k1\n",
      "k2\n",
      "k3\n"
     ]
    }
   ],
   "source": [
    "for item in d:\n",
    "    print(item)"
   ]
  },
  {
   "cell_type": "markdown",
   "id": "1cb4d33d",
   "metadata": {},
   "source": [
    "¿Que ocurre aquí? Como podemos observar realizar un for a un diccionario nos regresa solamente las llaves. ¿Cómo podemos obtener los valores o las claves con los valores?\n",
    "\n",
    "Para realizar esto cabe recordar los métodos simples de un diccionario: `keys()`,`values()` y `items()`\n",
    "\n",
    "Cada uno de estos métodos regresa una vista diferente del diccionario."
   ]
  },
  {
   "cell_type": "code",
   "execution_count": 13,
   "id": "e0e8bf28",
   "metadata": {},
   "outputs": [
    {
     "data": {
      "text/plain": [
       "dict_items([('k1', 1), ('k2', 2), ('k3', 3)])"
      ]
     },
     "execution_count": 13,
     "metadata": {},
     "output_type": "execute_result"
    }
   ],
   "source": [
    "#Ejemplo: viendo los items del diccionario\n",
    "d.items()"
   ]
  },
  {
   "cell_type": "markdown",
   "id": "68ca762e",
   "metadata": {},
   "source": [
    "El particular el método items soporta la iteración y como vemos en sí nos está regresando una lista de tuplas, así que podemos aplicar el unpacking"
   ]
  },
  {
   "cell_type": "code",
   "execution_count": 14,
   "id": "8c41c883",
   "metadata": {},
   "outputs": [
    {
     "name": "stdout",
     "output_type": "stream",
     "text": [
      "('k1', 1)\n",
      "('k2', 2)\n",
      "('k3', 3)\n"
     ]
    }
   ],
   "source": [
    "for item in d.items():\n",
    "    print(item)"
   ]
  },
  {
   "cell_type": "code",
   "execution_count": 15,
   "id": "a111ef03",
   "metadata": {},
   "outputs": [
    {
     "name": "stdout",
     "output_type": "stream",
     "text": [
      "k1\n",
      "1\n",
      "k2\n",
      "2\n",
      "k3\n",
      "3\n"
     ]
    }
   ],
   "source": [
    "for k,v in d.items():\n",
    "    print(k)\n",
    "    print(v)"
   ]
  },
  {
   "cell_type": "code",
   "execution_count": null,
   "id": "c72ad55d",
   "metadata": {},
   "outputs": [],
   "source": []
  },
  {
   "cell_type": "code",
   "execution_count": null,
   "id": "9ae2f72b",
   "metadata": {},
   "outputs": [],
   "source": []
  },
  {
   "cell_type": "code",
   "execution_count": null,
   "id": "a3efb076",
   "metadata": {},
   "outputs": [],
   "source": []
  },
  {
   "cell_type": "markdown",
   "id": "afadeb98",
   "metadata": {},
   "source": [
    "¡Felicidades! Ahora sabes usar el ciclo for en diversos tipos de objetos y a hacer unpacking de tuplas."
   ]
  }
 ],
 "metadata": {
  "kernelspec": {
   "display_name": "Python 3 (ipykernel)",
   "language": "python",
   "name": "python3"
  },
  "language_info": {
   "codemirror_mode": {
    "name": "ipython",
    "version": 3
   },
   "file_extension": ".py",
   "mimetype": "text/x-python",
   "name": "python",
   "nbconvert_exporter": "python",
   "pygments_lexer": "ipython3",
   "version": "3.9.7"
  }
 },
 "nbformat": 4,
 "nbformat_minor": 5
}
