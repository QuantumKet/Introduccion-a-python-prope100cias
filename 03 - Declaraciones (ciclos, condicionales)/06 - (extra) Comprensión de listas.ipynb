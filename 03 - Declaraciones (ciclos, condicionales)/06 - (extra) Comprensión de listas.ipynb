{
 "cells": [
  {
   "cell_type": "markdown",
   "id": "ba35c6aa",
   "metadata": {},
   "source": [
    "# Comprensión de listas\n",
    "\n",
    "Ya que sabemos manejar listas y el ciclo for podemos ver una función avanzada para definir listas. \n",
    "\n",
    "La comprensión de listas permite definir listas usando otra notación y por medio del ciclo for:"
   ]
  },
  {
   "cell_type": "code",
   "execution_count": null,
   "id": "cd8358ae",
   "metadata": {},
   "outputs": [],
   "source": [
    "#Ejemplo 1\n",
    "lst = [x for x in 'strg']"
   ]
  },
  {
   "cell_type": "code",
   "execution_count": null,
   "id": "8a9d60e8",
   "metadata": {},
   "outputs": [],
   "source": [
    "lst"
   ]
  },
  {
   "cell_type": "markdown",
   "id": "5cb17aec",
   "metadata": {},
   "source": [
    "Matemáticamente esto es similar a algo del tipo $ x^{2}~con~x~en~{1,2,...,10}$"
   ]
  },
  {
   "cell_type": "code",
   "execution_count": null,
   "id": "1ccb3f5f",
   "metadata": {},
   "outputs": [],
   "source": [
    "#Ejemplo 2 primeros 10 cuadrados\n",
    "lst = []"
   ]
  },
  {
   "cell_type": "code",
   "execution_count": null,
   "id": "c835ef6d",
   "metadata": {},
   "outputs": [],
   "source": []
  },
  {
   "cell_type": "code",
   "execution_count": null,
   "id": "b84f022b",
   "metadata": {},
   "outputs": [],
   "source": [
    "#Ejemplo 3 Usando un if dentro de la comprensión\n",
    "lst = [x for x in range(11) if x%2 == 0]"
   ]
  },
  {
   "cell_type": "code",
   "execution_count": null,
   "id": "5fcbd5a7",
   "metadata": {},
   "outputs": [],
   "source": []
  },
  {
   "cell_type": "code",
   "execution_count": null,
   "id": "01912afd",
   "metadata": {},
   "outputs": [],
   "source": [
    "## Ejemplo 4: aritmetica compleja\n",
    "#Conversión de grados C a F\n",
    "celsius = [0,10,20.1,34.5]\n",
    "\n",
    "fahrenheit = [((9/5)*temp + 32 ) for temp in celsius]"
   ]
  },
  {
   "cell_type": "code",
   "execution_count": null,
   "id": "2124659b",
   "metadata": {},
   "outputs": [],
   "source": [
    "fahrenheit"
   ]
  },
  {
   "cell_type": "code",
   "execution_count": null,
   "id": "9b0999df",
   "metadata": {},
   "outputs": [],
   "source": [
    "#Ejemplo 5 comprensión de listas anidadas\n",
    "lst = [x**2 for x in [x**2 for x in range (11)]]"
   ]
  },
  {
   "cell_type": "code",
   "execution_count": null,
   "id": "f25b90c1",
   "metadata": {},
   "outputs": [],
   "source": [
    "lst"
   ]
  },
  {
   "cell_type": "code",
   "execution_count": null,
   "id": "89f21c60",
   "metadata": {},
   "outputs": [],
   "source": [
    "lst = [[x**2,x**3] for x in range(0,11)]"
   ]
  },
  {
   "cell_type": "code",
   "execution_count": null,
   "id": "0fe1a005",
   "metadata": {},
   "outputs": [],
   "source": [
    "lst"
   ]
  },
  {
   "cell_type": "markdown",
   "id": "33544e7a",
   "metadata": {},
   "source": [
    "Woop woop! Haz terminado de entender la comprensión de listas."
   ]
  }
 ],
 "metadata": {
  "kernelspec": {
   "display_name": "Python 3 (ipykernel)",
   "language": "python",
   "name": "python3"
  },
  "language_info": {
   "codemirror_mode": {
    "name": "ipython",
    "version": 3
   },
   "file_extension": ".py",
   "mimetype": "text/x-python",
   "name": "python",
   "nbconvert_exporter": "python",
   "pygments_lexer": "ipython3",
   "version": "3.9.7"
  }
 },
 "nbformat": 4,
 "nbformat_minor": 5
}
