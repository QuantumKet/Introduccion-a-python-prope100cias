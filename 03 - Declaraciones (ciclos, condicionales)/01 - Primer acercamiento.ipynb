{
 "cells": [
  {
   "cell_type": "markdown",
   "id": "916e64f8",
   "metadata": {},
   "source": [
    "# Introducción a las declaraciones de Python\n",
    "\n",
    "En Python existe un tipo peculiar de estructura, estas estructuras permiten crear relaciones más complejas entre variables tal como validar información, recorrerla, manejar datos, condicionales, etc. Si has programado con anterioridad seguramente reconocerás a la primera de qué estamos hablando. \n",
    "\n",
    "Hay dos principales razones para que estudiemos esto:\n",
    "\n",
    "1. Si ya has programado en otro lenguaje, aprender esto acelerará rapidamente tus habilidades y comprensión de Python.\n",
    "2. Si no has programado antes, apredender esto te facilitará el leer otros lenguajes de programación a futuro.\n",
    "\n",
    "## Diferencias entre Python y otros lenguajes\n",
    "\n",
    "Python es realmente bastante diferente a otros lenguajes incluso en sus declaraciones. Por ejemplo, supongamos que queremos programar la siguiente instrucción \"Si x es menor a y, entonces suma 2 a x y resta 1 a y\"\n",
    "\n",
    "Cualquier lenguaje de programación puede satisfacer nuestro requerimento, veamos cómo lo haríamos por ejemplo usando JAVA\n",
    "\n",
    "#### Usando Java\n",
    "\n",
    "`if(x<y){\n",
    "    x+= 2\n",
    "    y-= 1\n",
    "}`\n",
    "\n",
    "#### Usando Python\n",
    "\n",
    "`if x<y:\n",
    "    x+=2\n",
    "    y-=1`\n",
    "    \n",
    "Como se puede observar Python ofrece una manera menos enredada de escribir nuestra instrucción haciendo que sea incluso más legible. \n",
    "\n",
    "Las principales diferencias entre Python y otros lenguajes es precisamente que evita el uso de ( ) para declarar las condiciones así como de { } para delimitar las instrucciones, en lugar de eso, Python utiliza los dos puntos (:) y los espacios en blanco o indentaciones para interpretar las instrucciones.\n",
    "\n",
    "Apartir de ahora debemos de considerar la indetación en Python como una de las características más importantes del lenguaje\n",
    "Un ejemplo por aquí nos servirá  de recordatorio\n",
    "\n",
    "## Indentación\n",
    "\n",
    "#### Otros lenguajes\n",
    "\n",
    "`if(condición1){\n",
    "if(condición2){\n",
    "  ##Haz algo}}`\n",
    "  \n",
    "### Python\n",
    "\n",
    "`if condicion1:\n",
    "    if condición2:\n",
    "        #Haz algo`"
   ]
  }
 ],
 "metadata": {
  "kernelspec": {
   "display_name": "Python 3 (ipykernel)",
   "language": "python",
   "name": "python3"
  },
  "language_info": {
   "codemirror_mode": {
    "name": "ipython",
    "version": 3
   },
   "file_extension": ".py",
   "mimetype": "text/x-python",
   "name": "python",
   "nbconvert_exporter": "python",
   "pygments_lexer": "ipython3",
   "version": "3.9.7"
  }
 },
 "nbformat": 4,
 "nbformat_minor": 5
}
