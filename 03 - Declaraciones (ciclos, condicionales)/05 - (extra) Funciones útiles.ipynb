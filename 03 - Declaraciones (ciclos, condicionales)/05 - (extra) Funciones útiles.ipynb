{
 "cells": [
  {
   "cell_type": "markdown",
   "id": "482fc046",
   "metadata": {},
   "source": [
    "# Funciones útiles\n",
    "\n",
    "Existen ciertas funciones propias de Python que resultan interesantes de estudiar ahora que tienes un mayor conocimiento del lenguaje. \n",
    "\n",
    "### range()\n",
    "\n",
    "La función `range()` nos permite \"generar\" de manera rápida una lista de enteros, esto resulta ser de mucha ayuda. La función admite 3 parámetros: inicio, parada y pasos. Veamos como funciona:"
   ]
  },
  {
   "cell_type": "code",
   "execution_count": 1,
   "id": "de6d04aa",
   "metadata": {},
   "outputs": [
    {
     "ename": "NameError",
     "evalue": "name 'start' is not defined",
     "output_type": "error",
     "traceback": [
      "\u001b[1;31m---------------------------------------------------------------------------\u001b[0m",
      "\u001b[1;31mNameError\u001b[0m                                 Traceback (most recent call last)",
      "\u001b[1;32m~\\AppData\\Local\\Temp/ipykernel_4880/2043991055.py\u001b[0m in \u001b[0;36m<module>\u001b[1;34m\u001b[0m\n\u001b[1;32m----> 1\u001b[1;33m \u001b[0mrange\u001b[0m\u001b[1;33m(\u001b[0m\u001b[0mstart\u001b[0m\u001b[1;33m,\u001b[0m\u001b[0mstop\u001b[0m\u001b[1;33m)\u001b[0m\u001b[1;33m\u001b[0m\u001b[1;33m\u001b[0m\u001b[0m\n\u001b[0m",
      "\u001b[1;31mNameError\u001b[0m: name 'start' is not defined"
     ]
    }
   ],
   "source": [
    "range(start,stop)"
   ]
  },
  {
   "cell_type": "markdown",
   "id": "9165a7af",
   "metadata": {},
   "source": [
    "Esta función es en sí un <b>generador</b> así que para obtener un objeto tipo lista debemos de castearlo a una lista mediante `list()`. Un generador es un tipo especial de función que genera información y no necesita guardarla en la memoria. En algún curso más adelantado podemos aprender más de ellos. "
   ]
  },
  {
   "cell_type": "code",
   "execution_count": 2,
   "id": "9b7afe48",
   "metadata": {},
   "outputs": [
    {
     "ename": "NameError",
     "evalue": "name 'start' is not defined",
     "output_type": "error",
     "traceback": [
      "\u001b[1;31m---------------------------------------------------------------------------\u001b[0m",
      "\u001b[1;31mNameError\u001b[0m                                 Traceback (most recent call last)",
      "\u001b[1;32m~\\AppData\\Local\\Temp/ipykernel_4880/1312022233.py\u001b[0m in \u001b[0;36m<module>\u001b[1;34m\u001b[0m\n\u001b[0;32m      1\u001b[0m \u001b[1;31m#Es importante notar que el número que indicamos para parar NO es incluido en la lista generada.\u001b[0m\u001b[1;33m\u001b[0m\u001b[1;33m\u001b[0m\u001b[0m\n\u001b[1;32m----> 2\u001b[1;33m \u001b[0mlist\u001b[0m\u001b[1;33m(\u001b[0m\u001b[0mrange\u001b[0m\u001b[1;33m(\u001b[0m\u001b[0mstart\u001b[0m\u001b[1;33m,\u001b[0m\u001b[0mstop\u001b[0m\u001b[1;33m)\u001b[0m\u001b[1;33m)\u001b[0m\u001b[1;33m\u001b[0m\u001b[1;33m\u001b[0m\u001b[0m\n\u001b[0m",
      "\u001b[1;31mNameError\u001b[0m: name 'start' is not defined"
     ]
    }
   ],
   "source": [
    "#Es importante notar que el número que indicamos para parar NO es incluido en la lista generada.\n",
    "list(range(start,stop))"
   ]
  },
  {
   "cell_type": "code",
   "execution_count": null,
   "id": "1ad271ea",
   "metadata": {},
   "outputs": [],
   "source": []
  },
  {
   "cell_type": "markdown",
   "id": "4d18d639",
   "metadata": {},
   "source": [
    "El tercer parametro es el tamaño del paso con el que queremos generar el rango."
   ]
  },
  {
   "cell_type": "code",
   "execution_count": 3,
   "id": "f3ebcde1",
   "metadata": {},
   "outputs": [
    {
     "ename": "NameError",
     "evalue": "name 'start' is not defined",
     "output_type": "error",
     "traceback": [
      "\u001b[1;31m---------------------------------------------------------------------------\u001b[0m",
      "\u001b[1;31mNameError\u001b[0m                                 Traceback (most recent call last)",
      "\u001b[1;32m~\\AppData\\Local\\Temp/ipykernel_4880/2095186665.py\u001b[0m in \u001b[0;36m<module>\u001b[1;34m\u001b[0m\n\u001b[1;32m----> 1\u001b[1;33m \u001b[0mlist\u001b[0m\u001b[1;33m(\u001b[0m\u001b[0mrange\u001b[0m\u001b[1;33m(\u001b[0m\u001b[0mstart\u001b[0m\u001b[1;33m,\u001b[0m\u001b[0mstop\u001b[0m\u001b[1;33m,\u001b[0m\u001b[0mstep\u001b[0m\u001b[1;33m)\u001b[0m\u001b[1;33m)\u001b[0m\u001b[1;33m\u001b[0m\u001b[1;33m\u001b[0m\u001b[0m\n\u001b[0m",
      "\u001b[1;31mNameError\u001b[0m: name 'start' is not defined"
     ]
    }
   ],
   "source": [
    "list(range(start,stop,step))"
   ]
  },
  {
   "cell_type": "code",
   "execution_count": null,
   "id": "244d0d86",
   "metadata": {},
   "outputs": [],
   "source": []
  },
  {
   "cell_type": "markdown",
   "id": "60ad986f",
   "metadata": {},
   "source": [
    "### enumerate()\n",
    "\n",
    "enumerate es una función útil para usarse con los ciclos. Veamos por ejemplo lo siguiente:\n"
   ]
  },
  {
   "cell_type": "code",
   "execution_count": 4,
   "id": "b14c3f40",
   "metadata": {},
   "outputs": [
    {
     "name": "stdout",
     "output_type": "stream",
     "text": [
      "En el índice 0 la letra es p\n",
      "En el índice 1 la letra es r\n",
      "En el índice 2 la letra es o\n",
      "En el índice 3 la letra es p\n",
      "En el índice 4 la letra es e\n",
      "En el índice 5 la letra es 1\n",
      "En el índice 6 la letra es 0\n",
      "En el índice 7 la letra es 0\n",
      "En el índice 8 la letra es c\n",
      "En el índice 9 la letra es i\n",
      "En el índice 10 la letra es a\n",
      "En el índice 11 la letra es s\n"
     ]
    }
   ],
   "source": [
    "index_count = 0\n",
    "\n",
    "for letra in 'prope100cias':\n",
    "    print(f'En el índice {index_count} la letra es {letra}')\n",
    "    index_count += 1"
   ]
  },
  {
   "cell_type": "markdown",
   "id": "5af6f1f9",
   "metadata": {},
   "source": [
    "Es una práctica común el llevar un registro de cuantos ciclos hemos realizado, cómo lo hacemos con la varible `index_count`, la función enumerate fue creada precisamente para no tener que crear y actualizar una variable cómo contador:"
   ]
  },
  {
   "cell_type": "code",
   "execution_count": 5,
   "id": "0d1ff3a5",
   "metadata": {},
   "outputs": [
    {
     "name": "stdout",
     "output_type": "stream",
     "text": [
      "En el índice 0 la letra es p\n",
      "En el índice 1 la letra es r\n",
      "En el índice 2 la letra es o\n",
      "En el índice 3 la letra es p\n",
      "En el índice 4 la letra es e\n",
      "En el índice 5 la letra es 1\n",
      "En el índice 6 la letra es 0\n",
      "En el índice 7 la letra es 0\n",
      "En el índice 8 la letra es c\n",
      "En el índice 9 la letra es i\n",
      "En el índice 10 la letra es a\n",
      "En el índice 11 la letra es s\n"
     ]
    }
   ],
   "source": [
    "for i,letra in enumerate('prope100cias'):\n",
    "    print(f'En el índice {i} la letra es {letra}')"
   ]
  },
  {
   "cell_type": "markdown",
   "id": "e23cb1a2",
   "metadata": {},
   "source": [
    "# zip()\n",
    "\n",
    "Si vemos la manera en que enumerate regresa un iterable notamos que regresa una lista de tuplas:"
   ]
  },
  {
   "cell_type": "code",
   "execution_count": 6,
   "id": "6a1320a8",
   "metadata": {},
   "outputs": [
    {
     "data": {
      "text/plain": [
       "[(0, 'a'), (1, 'b'), (2, 'c'), (3, 'd'), (4, 'e')]"
      ]
     },
     "execution_count": 6,
     "metadata": {},
     "output_type": "execute_result"
    }
   ],
   "source": [
    "list(enumerate('abcde'))"
   ]
  },
  {
   "cell_type": "markdown",
   "id": "10e3fde7",
   "metadata": {},
   "source": [
    "Podemos hacer unpacking de tuplas usando un ciclo for. Esto  es realmente común en Python especialmente cuando se trabaja con librerías externas. Una manera en que nosotros podemos hacer nuestra propia lista de tuplas es mediante la función zip, esta función crea una lista de tuplas \"empaquetando\" dos listas diferentes:"
   ]
  },
  {
   "cell_type": "code",
   "execution_count": 8,
   "id": "bb908438",
   "metadata": {},
   "outputs": [],
   "source": [
    "lista1 = [1,2,3,4,5]\n",
    "lista2=['a','b','c','d','e']"
   ]
  },
  {
   "cell_type": "code",
   "execution_count": 9,
   "id": "d181c390",
   "metadata": {},
   "outputs": [
    {
     "data": {
      "text/plain": [
       "<zip at 0x2a0b99068c0>"
      ]
     },
     "execution_count": 9,
     "metadata": {},
     "output_type": "execute_result"
    }
   ],
   "source": [
    "zip(lista1,lista2)"
   ]
  },
  {
   "cell_type": "code",
   "execution_count": 10,
   "id": "9b77bba6",
   "metadata": {},
   "outputs": [
    {
     "data": {
      "text/plain": [
       "[(1, 'a'), (2, 'b'), (3, 'c'), (4, 'd'), (5, 'e')]"
      ]
     },
     "execution_count": 10,
     "metadata": {},
     "output_type": "execute_result"
    }
   ],
   "source": [
    "list(zip(lista1,lista2))"
   ]
  },
  {
   "cell_type": "markdown",
   "id": "c1adc448",
   "metadata": {},
   "source": [
    "Así podemos usar el generador en un ciclo cómo lo haríamos ya de costumbre:"
   ]
  },
  {
   "cell_type": "code",
   "execution_count": 12,
   "id": "d8061cea",
   "metadata": {},
   "outputs": [
    {
     "name": "stdout",
     "output_type": "stream",
     "text": [
      "1\n",
      "a\n",
      "2\n",
      "b\n",
      "3\n",
      "c\n",
      "4\n",
      "d\n",
      "5\n",
      "e\n"
     ]
    }
   ],
   "source": [
    "for item1, item2 in zip(lista1,lista2):\n",
    "    print(item1)\n",
    "    print(item2)"
   ]
  },
  {
   "cell_type": "markdown",
   "id": "3a8f3e93",
   "metadata": {},
   "source": [
    "### Operador in"
   ]
  },
  {
   "cell_type": "markdown",
   "id": "db4fdde3",
   "metadata": {},
   "source": [
    "A lo largo de las lecciones de declaraciones la palabra clave `in` ha aparecido, pero también podemos usarla para checar si un objeto está en una lista:"
   ]
  },
  {
   "cell_type": "code",
   "execution_count": 13,
   "id": "a43abd6c",
   "metadata": {},
   "outputs": [
    {
     "data": {
      "text/plain": [
       "False"
      ]
     },
     "execution_count": 13,
     "metadata": {},
     "output_type": "execute_result"
    }
   ],
   "source": [
    "8 in [1,2,3,4,5,6]"
   ]
  },
  {
   "cell_type": "code",
   "execution_count": 14,
   "id": "2173cc27",
   "metadata": {},
   "outputs": [
    {
     "data": {
      "text/plain": [
       "True"
      ]
     },
     "execution_count": 14,
     "metadata": {},
     "output_type": "execute_result"
    }
   ],
   "source": [
    "1 in [1,2,3]"
   ]
  },
  {
   "cell_type": "markdown",
   "id": "1c51734f",
   "metadata": {},
   "source": [
    "### not in"
   ]
  },
  {
   "cell_type": "markdown",
   "id": "b98cb8da",
   "metadata": {},
   "source": [
    "Se puede combinar a `in` con `not` para revisar si un objeto no está en una lista"
   ]
  },
  {
   "cell_type": "code",
   "execution_count": 15,
   "id": "fd0f598b",
   "metadata": {},
   "outputs": [
    {
     "data": {
      "text/plain": [
       "True"
      ]
     },
     "execution_count": 15,
     "metadata": {},
     "output_type": "execute_result"
    }
   ],
   "source": [
    "8 not in [1,2,3,4,5,6]"
   ]
  },
  {
   "cell_type": "code",
   "execution_count": 16,
   "id": "2d5f8cfd",
   "metadata": {},
   "outputs": [
    {
     "data": {
      "text/plain": [
       "False"
      ]
     },
     "execution_count": 16,
     "metadata": {},
     "output_type": "execute_result"
    }
   ],
   "source": [
    "1 not in [1,2,3]"
   ]
  },
  {
   "cell_type": "markdown",
   "id": "3f6dd907",
   "metadata": {},
   "source": [
    "### min y max\n",
    "\n",
    "Nos permiten obtener de manera rápida el mínimo y máximo de una lista"
   ]
  },
  {
   "cell_type": "code",
   "execution_count": 17,
   "id": "a9b8a0a5",
   "metadata": {},
   "outputs": [],
   "source": [
    "lista4 = [-10,2,3,100]"
   ]
  },
  {
   "cell_type": "code",
   "execution_count": 18,
   "id": "beee55f4",
   "metadata": {},
   "outputs": [
    {
     "data": {
      "text/plain": [
       "-10"
      ]
     },
     "execution_count": 18,
     "metadata": {},
     "output_type": "execute_result"
    }
   ],
   "source": [
    "min(lista4)"
   ]
  },
  {
   "cell_type": "code",
   "execution_count": 19,
   "id": "067c2b52",
   "metadata": {},
   "outputs": [
    {
     "data": {
      "text/plain": [
       "100"
      ]
     },
     "execution_count": 19,
     "metadata": {},
     "output_type": "execute_result"
    }
   ],
   "source": [
    "max(lista4)"
   ]
  },
  {
   "cell_type": "markdown",
   "id": "0b40237c",
   "metadata": {},
   "source": [
    "### Random\n",
    "\n",
    "Random es una libreria de Python que contiene muchas funciones interesantes, pero por ahora solo veremos randint y shuffle"
   ]
  },
  {
   "cell_type": "code",
   "execution_count": 24,
   "id": "624fe835",
   "metadata": {},
   "outputs": [],
   "source": [
    "from random import shuffle, randint #Así se importan librerías de python"
   ]
  },
  {
   "cell_type": "code",
   "execution_count": 22,
   "id": "db08f576",
   "metadata": {},
   "outputs": [],
   "source": [
    "#shuffle nos permite revolver los elementos de una lista\n",
    "shuffle(lista4)"
   ]
  },
  {
   "cell_type": "code",
   "execution_count": 23,
   "id": "1562c0bc",
   "metadata": {},
   "outputs": [
    {
     "data": {
      "text/plain": [
       "[3, -10, 100, 2]"
      ]
     },
     "execution_count": 23,
     "metadata": {},
     "output_type": "execute_result"
    }
   ],
   "source": [
    "lista4"
   ]
  },
  {
   "cell_type": "code",
   "execution_count": 27,
   "id": "570b4e73",
   "metadata": {},
   "outputs": [
    {
     "data": {
      "text/plain": [
       "76"
      ]
     },
     "execution_count": 27,
     "metadata": {},
     "output_type": "execute_result"
    }
   ],
   "source": [
    "#randint obtiene un entero aleaorio en el rango que le digamos incluidos los puntos extremos\n",
    "randint(0,100)"
   ]
  },
  {
   "cell_type": "markdown",
   "id": "0a26ba44",
   "metadata": {},
   "source": [
    "### input \n",
    "La función input nos permite tomar una entrada del usuario"
   ]
  },
  {
   "cell_type": "code",
   "execution_count": 28,
   "id": "0a9390e5",
   "metadata": {},
   "outputs": [
    {
     "name": "stdout",
     "output_type": "stream",
     "text": [
      "Escribe algoalgo\n"
     ]
    },
    {
     "data": {
      "text/plain": [
       "'algo'"
      ]
     },
     "execution_count": 28,
     "metadata": {},
     "output_type": "execute_result"
    }
   ],
   "source": [
    "input('Escribe algo')"
   ]
  },
  {
   "cell_type": "markdown",
   "id": "585a70f9",
   "metadata": {},
   "source": [
    "¡Felicidades! Ya conoces más funciones de Python."
   ]
  }
 ],
 "metadata": {
  "kernelspec": {
   "display_name": "Python 3 (ipykernel)",
   "language": "python",
   "name": "python3"
  },
  "language_info": {
   "codemirror_mode": {
    "name": "ipython",
    "version": 3
   },
   "file_extension": ".py",
   "mimetype": "text/x-python",
   "name": "python",
   "nbconvert_exporter": "python",
   "pygments_lexer": "ipython3",
   "version": "3.9.7"
  }
 },
 "nbformat": 4,
 "nbformat_minor": 5
}
