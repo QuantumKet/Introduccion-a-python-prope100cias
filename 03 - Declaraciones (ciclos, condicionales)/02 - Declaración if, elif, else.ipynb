{
 "cells": [
  {
   "cell_type": "markdown",
   "id": "033b5743",
   "metadata": {},
   "source": [
    "# Declaraciones if, elif, else\n",
    "\n",
    "La declaración `if` son muy parecidas a las condicionales de lógica, es decir son del tipo $Si P \\implies Q$ y nos permiten decirle a la computadora que realice ciertas acciones en base de ciertos resultados. \n",
    "\n",
    "Podemos imaginar a `if` como si dijera lo siguiente\n",
    "\n",
    "\"En caso de que pase esto, haz esto otro\""
   ]
  },
  {
   "cell_type": "code",
   "execution_count": 1,
   "id": "7ed2edd7",
   "metadata": {},
   "outputs": [],
   "source": [
    "#Ejemplo con if"
   ]
  },
  {
   "cell_type": "markdown",
   "id": "19ea8f8e",
   "metadata": {},
   "source": [
    "Se puede expandir la idea de la condicional a dos declaraciones más que existen en python, la primera de ellas es `else`, la cual es una especie de \"si no\" y nos permite decirle a la computadora que acciones realizar en caso de que la condición de nuestro `if` no haya ocurrido <b>Nota: else no puede existir por sí sola y debe de ir acompañada de una declaración como if, for o while</b>."
   ]
  },
  {
   "cell_type": "code",
   "execution_count": 2,
   "id": "8332e37e",
   "metadata": {},
   "outputs": [],
   "source": [
    "##Ejemplo if-else"
   ]
  },
  {
   "cell_type": "markdown",
   "id": "eff43143",
   "metadata": {},
   "source": [
    "La tercera de las declaraciones condicionales corresponde a `elif`, la cual es una especie de \"si no, pero, entonces\" y nos permite decirle a la computadora que realice otra acción basada en otros datos en caso de que nuestra validación con `if` haya fallado.\n",
    "\n",
    "Un ejemplo de esto sería decir \"Si hoy está soleado, lleva gorra, si no está soleado pero está nublado, lleva sombrilla, si no lleva solo un abrigo\"\n",
    "\n",
    "La manera en que estas tres declaraciones se relacionan siempre corresponden a la siguiente estructura:\n",
    "\n",
    "`if first_condition:\n",
    "    #do something\n",
    " elif second_condition:\n",
    "     #do something else\n",
    " else:\n",
    "     #do something else`"
   ]
  },
  {
   "cell_type": "code",
   "execution_count": 3,
   "id": "259189b6",
   "metadata": {},
   "outputs": [],
   "source": [
    "##Ejemplo con if, elif, else\n"
   ]
  },
  {
   "cell_type": "markdown",
   "id": "39c1333e",
   "metadata": {},
   "source": [
    "Es importante notar que las tres declaraciones para funcionar deben de estar en el mismo nivel de tabulación, de no ser así puede provocar errores o bugs."
   ]
  },
  {
   "cell_type": "code",
   "execution_count": 4,
   "id": "7684d881",
   "metadata": {},
   "outputs": [],
   "source": [
    "#Ejemplo de error\n"
   ]
  },
  {
   "cell_type": "code",
   "execution_count": 5,
   "id": "38ffdd3c",
   "metadata": {},
   "outputs": [],
   "source": [
    "#Corregido\n"
   ]
  },
  {
   "cell_type": "markdown",
   "id": "6f684d6e",
   "metadata": {},
   "source": [
    "Además como habrás notado, con declaraciones complejas que usan tanto if, elif y else, SOLO se ejecuta la primera condición en ser verdadera. Por otro lado es importante que observes la indentación."
   ]
  },
  {
   "cell_type": "code",
   "execution_count": 6,
   "id": "9850a1ca",
   "metadata": {},
   "outputs": [],
   "source": [
    "#Ejemplo"
   ]
  },
  {
   "cell_type": "markdown",
   "id": "cf594c04",
   "metadata": {},
   "source": [
    "¡Felicidades por terminar esta lección! Ahora sabes más de Python."
   ]
  }
 ],
 "metadata": {
  "kernelspec": {
   "display_name": "Python 3 (ipykernel)",
   "language": "python",
   "name": "python3"
  },
  "language_info": {
   "codemirror_mode": {
    "name": "ipython",
    "version": 3
   },
   "file_extension": ".py",
   "mimetype": "text/x-python",
   "name": "python",
   "nbconvert_exporter": "python",
   "pygments_lexer": "ipython3",
   "version": "3.9.7"
  }
 },
 "nbformat": 4,
 "nbformat_minor": 5
}
